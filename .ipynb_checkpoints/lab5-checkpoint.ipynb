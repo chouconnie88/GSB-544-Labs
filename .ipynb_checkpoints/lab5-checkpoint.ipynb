{
 "cells": [
  {
   "cell_type": "raw",
   "id": "ba2fb265-ac38-4ef0-a4dc-d002210b9bce",
   "metadata": {},
   "source": [
    "---\n",
    "self-contained: true\n",
    "title: \"Lab 5 Insurance Costs\"\n",
    "format:\n",
    "  html:\n",
    "    theme: superhero\n",
    "---"
   ]
  },
  {
   "cell_type": "code",
   "execution_count": 92,
   "id": "5d6c4aae-c28a-4971-91a9-86a8143985d4",
   "metadata": {
    "tags": []
   },
   "outputs": [],
   "source": [
    "#import packages\n",
    "import pandas as pd\n",
    "from plotnine import *\n",
    "from sklearn.model_selection import train_test_split\n",
    "from sklearn.linear_model import LinearRegression\n",
    "from sklearn.preprocessing import OneHotEncoder\n",
    "from sklearn.pipeline import Pipeline\n",
    "from sklearn.metrics import r2_score\n",
    "from sklearn.compose import ColumnTransformer\n",
    "from sklearn.metrics import mean_squared_error\n",
    "from sklearn.preprocessing import PolynomialFeatures\n",
    "import statsmodels.api as sm"
   ]
  },
  {
   "cell_type": "markdown",
   "id": "cadf8125-a517-4169-bf0b-0f2ae025e4be",
   "metadata": {},
   "source": [
    "# Part 1: Data Exploration"
   ]
  },
  {
   "cell_type": "code",
   "execution_count": 93,
   "id": "662d16fc-0ca5-481b-a6ff-93b932fe009b",
   "metadata": {
    "tags": []
   },
   "outputs": [
    {
     "data": {
      "text/html": [
       "<div>\n",
       "<style scoped>\n",
       "    .dataframe tbody tr th:only-of-type {\n",
       "        vertical-align: middle;\n",
       "    }\n",
       "\n",
       "    .dataframe tbody tr th {\n",
       "        vertical-align: top;\n",
       "    }\n",
       "\n",
       "    .dataframe thead th {\n",
       "        text-align: right;\n",
       "    }\n",
       "</style>\n",
       "<table border=\"1\" class=\"dataframe\">\n",
       "  <thead>\n",
       "    <tr style=\"text-align: right;\">\n",
       "      <th></th>\n",
       "      <th>age</th>\n",
       "      <th>sex</th>\n",
       "      <th>bmi</th>\n",
       "      <th>smoker</th>\n",
       "      <th>region</th>\n",
       "      <th>charges</th>\n",
       "    </tr>\n",
       "  </thead>\n",
       "  <tbody>\n",
       "    <tr>\n",
       "      <th>0</th>\n",
       "      <td>19</td>\n",
       "      <td>female</td>\n",
       "      <td>27.900</td>\n",
       "      <td>yes</td>\n",
       "      <td>southwest</td>\n",
       "      <td>16884.92400</td>\n",
       "    </tr>\n",
       "    <tr>\n",
       "      <th>1</th>\n",
       "      <td>33</td>\n",
       "      <td>male</td>\n",
       "      <td>22.705</td>\n",
       "      <td>no</td>\n",
       "      <td>northwest</td>\n",
       "      <td>21984.47061</td>\n",
       "    </tr>\n",
       "    <tr>\n",
       "      <th>2</th>\n",
       "      <td>32</td>\n",
       "      <td>male</td>\n",
       "      <td>28.880</td>\n",
       "      <td>no</td>\n",
       "      <td>northwest</td>\n",
       "      <td>3866.85520</td>\n",
       "    </tr>\n",
       "    <tr>\n",
       "      <th>3</th>\n",
       "      <td>31</td>\n",
       "      <td>female</td>\n",
       "      <td>25.740</td>\n",
       "      <td>no</td>\n",
       "      <td>southeast</td>\n",
       "      <td>3756.62160</td>\n",
       "    </tr>\n",
       "    <tr>\n",
       "      <th>4</th>\n",
       "      <td>60</td>\n",
       "      <td>female</td>\n",
       "      <td>25.840</td>\n",
       "      <td>no</td>\n",
       "      <td>northwest</td>\n",
       "      <td>28923.13692</td>\n",
       "    </tr>\n",
       "    <tr>\n",
       "      <th>...</th>\n",
       "      <td>...</td>\n",
       "      <td>...</td>\n",
       "      <td>...</td>\n",
       "      <td>...</td>\n",
       "      <td>...</td>\n",
       "      <td>...</td>\n",
       "    </tr>\n",
       "    <tr>\n",
       "      <th>426</th>\n",
       "      <td>23</td>\n",
       "      <td>female</td>\n",
       "      <td>33.400</td>\n",
       "      <td>no</td>\n",
       "      <td>southwest</td>\n",
       "      <td>10795.93733</td>\n",
       "    </tr>\n",
       "    <tr>\n",
       "      <th>427</th>\n",
       "      <td>18</td>\n",
       "      <td>female</td>\n",
       "      <td>31.920</td>\n",
       "      <td>no</td>\n",
       "      <td>northeast</td>\n",
       "      <td>2205.98080</td>\n",
       "    </tr>\n",
       "    <tr>\n",
       "      <th>428</th>\n",
       "      <td>18</td>\n",
       "      <td>female</td>\n",
       "      <td>36.850</td>\n",
       "      <td>no</td>\n",
       "      <td>southeast</td>\n",
       "      <td>1629.83350</td>\n",
       "    </tr>\n",
       "    <tr>\n",
       "      <th>429</th>\n",
       "      <td>21</td>\n",
       "      <td>female</td>\n",
       "      <td>25.800</td>\n",
       "      <td>no</td>\n",
       "      <td>southwest</td>\n",
       "      <td>2007.94500</td>\n",
       "    </tr>\n",
       "    <tr>\n",
       "      <th>430</th>\n",
       "      <td>61</td>\n",
       "      <td>female</td>\n",
       "      <td>29.070</td>\n",
       "      <td>yes</td>\n",
       "      <td>northwest</td>\n",
       "      <td>29141.36030</td>\n",
       "    </tr>\n",
       "  </tbody>\n",
       "</table>\n",
       "<p>431 rows × 6 columns</p>\n",
       "</div>"
      ],
      "text/plain": [
       "     age     sex     bmi smoker     region      charges\n",
       "0     19  female  27.900    yes  southwest  16884.92400\n",
       "1     33    male  22.705     no  northwest  21984.47061\n",
       "2     32    male  28.880     no  northwest   3866.85520\n",
       "3     31  female  25.740     no  southeast   3756.62160\n",
       "4     60  female  25.840     no  northwest  28923.13692\n",
       "..   ...     ...     ...    ...        ...          ...\n",
       "426   23  female  33.400     no  southwest  10795.93733\n",
       "427   18  female  31.920     no  northeast   2205.98080\n",
       "428   18  female  36.850     no  southeast   1629.83350\n",
       "429   21  female  25.800     no  southwest   2007.94500\n",
       "430   61  female  29.070    yes  northwest  29141.36030\n",
       "\n",
       "[431 rows x 6 columns]"
      ]
     },
     "execution_count": 93,
     "metadata": {},
     "output_type": "execute_result"
    }
   ],
   "source": [
    "insurance = pd.read_csv(\"https://www.dropbox.com/s/bocjjyo1ehr5auz/insurance_costs_1.csv?dl=1\")\n",
    "insurance"
   ]
  },
  {
   "cell_type": "code",
   "execution_count": 94,
   "id": "ddb81fb6-dab7-4882-8f9e-b8eac8742bcf",
   "metadata": {
    "tags": []
   },
   "outputs": [
    {
     "data": {
      "text/plain": [
       "age          int64\n",
       "sex         object\n",
       "bmi        float64\n",
       "smoker      object\n",
       "region      object\n",
       "charges    float64\n",
       "dtype: object"
      ]
     },
     "execution_count": 94,
     "metadata": {},
     "output_type": "execute_result"
    }
   ],
   "source": [
    "#check data types for each column\n",
    "insurance.dtypes"
   ]
  },
  {
   "cell_type": "code",
   "execution_count": 95,
   "id": "22a95a1a-93fc-43b3-b99e-d99f55778897",
   "metadata": {
    "tags": []
   },
   "outputs": [
    {
     "data": {
      "text/plain": [
       "female    225\n",
       "male      206\n",
       "Name: sex, dtype: int64"
      ]
     },
     "execution_count": 95,
     "metadata": {},
     "output_type": "execute_result"
    }
   ],
   "source": [
    "#count how many males and females\n",
    "insurance[\"sex\"].value_counts()"
   ]
  },
  {
   "cell_type": "code",
   "execution_count": 96,
   "id": "a76c53e9-4737-4caa-8ba9-493d53c1ed35",
   "metadata": {
    "tags": []
   },
   "outputs": [
    {
     "data": {
      "text/html": [
       "<div>\n",
       "<style scoped>\n",
       "    .dataframe tbody tr th:only-of-type {\n",
       "        vertical-align: middle;\n",
       "    }\n",
       "\n",
       "    .dataframe tbody tr th {\n",
       "        vertical-align: top;\n",
       "    }\n",
       "\n",
       "    .dataframe thead th {\n",
       "        text-align: right;\n",
       "    }\n",
       "</style>\n",
       "<table border=\"1\" class=\"dataframe\">\n",
       "  <thead>\n",
       "    <tr style=\"text-align: right;\">\n",
       "      <th></th>\n",
       "      <th>charges</th>\n",
       "    </tr>\n",
       "    <tr>\n",
       "      <th>sex</th>\n",
       "      <th></th>\n",
       "    </tr>\n",
       "  </thead>\n",
       "  <tbody>\n",
       "    <tr>\n",
       "      <th>female</th>\n",
       "      <td>11919.373162</td>\n",
       "    </tr>\n",
       "    <tr>\n",
       "      <th>male</th>\n",
       "      <td>12709.661784</td>\n",
       "    </tr>\n",
       "  </tbody>\n",
       "</table>\n",
       "</div>"
      ],
      "text/plain": [
       "             charges\n",
       "sex                 \n",
       "female  11919.373162\n",
       "male    12709.661784"
      ]
     },
     "execution_count": 96,
     "metadata": {},
     "output_type": "execute_result"
    }
   ],
   "source": [
    "#average insurance charges based on sex\n",
    "insurance[[\"sex\", \"charges\"]].groupby(\"sex\").mean()"
   ]
  },
  {
   "cell_type": "markdown",
   "id": "958c3185-1a93-43aa-a176-2942daa04ec9",
   "metadata": {},
   "source": [
    "On average, men are charged more for insurance than women."
   ]
  },
  {
   "cell_type": "code",
   "execution_count": 97,
   "id": "a46689fc-d26b-4bb3-aa51-969c6446824e",
   "metadata": {
    "tags": []
   },
   "outputs": [
    {
     "data": {
      "text/html": [
       "<div>\n",
       "<style scoped>\n",
       "    .dataframe tbody tr th:only-of-type {\n",
       "        vertical-align: middle;\n",
       "    }\n",
       "\n",
       "    .dataframe tbody tr th {\n",
       "        vertical-align: top;\n",
       "    }\n",
       "\n",
       "    .dataframe thead th {\n",
       "        text-align: right;\n",
       "    }\n",
       "</style>\n",
       "<table border=\"1\" class=\"dataframe\">\n",
       "  <thead>\n",
       "    <tr style=\"text-align: right;\">\n",
       "      <th></th>\n",
       "      <th>charges</th>\n",
       "    </tr>\n",
       "    <tr>\n",
       "      <th>smoker</th>\n",
       "      <th></th>\n",
       "    </tr>\n",
       "  </thead>\n",
       "  <tbody>\n",
       "    <tr>\n",
       "      <th>no</th>\n",
       "      <td>7528.467642</td>\n",
       "    </tr>\n",
       "    <tr>\n",
       "      <th>yes</th>\n",
       "      <td>31152.372644</td>\n",
       "    </tr>\n",
       "  </tbody>\n",
       "</table>\n",
       "</div>"
      ],
      "text/plain": [
       "             charges\n",
       "smoker              \n",
       "no       7528.467642\n",
       "yes     31152.372644"
      ]
     },
     "execution_count": 97,
     "metadata": {},
     "output_type": "execute_result"
    }
   ],
   "source": [
    "#average insurance charges based on smoker\n",
    "insurance[[\"smoker\", \"charges\"]].groupby(\"smoker\").mean()"
   ]
  },
  {
   "cell_type": "markdown",
   "id": "865b3b81-facc-4cb8-88c0-00dbe0bdf23a",
   "metadata": {},
   "source": [
    "Smokers are billed more for insurance than for non-smokers."
   ]
  },
  {
   "cell_type": "code",
   "execution_count": 98,
   "id": "43f098cc-278e-4157-b14e-44224e62aacf",
   "metadata": {
    "tags": []
   },
   "outputs": [
    {
     "data": {
      "text/html": [
       "<div>\n",
       "<style scoped>\n",
       "    .dataframe tbody tr th:only-of-type {\n",
       "        vertical-align: middle;\n",
       "    }\n",
       "\n",
       "    .dataframe tbody tr th {\n",
       "        vertical-align: top;\n",
       "    }\n",
       "\n",
       "    .dataframe thead th {\n",
       "        text-align: right;\n",
       "    }\n",
       "</style>\n",
       "<table border=\"1\" class=\"dataframe\">\n",
       "  <thead>\n",
       "    <tr style=\"text-align: right;\">\n",
       "      <th></th>\n",
       "      <th>charges</th>\n",
       "    </tr>\n",
       "    <tr>\n",
       "      <th>region</th>\n",
       "      <th></th>\n",
       "    </tr>\n",
       "  </thead>\n",
       "  <tbody>\n",
       "    <tr>\n",
       "      <th>southeast</th>\n",
       "      <td>13916.786760</td>\n",
       "    </tr>\n",
       "    <tr>\n",
       "      <th>northeast</th>\n",
       "      <td>11985.217747</td>\n",
       "    </tr>\n",
       "    <tr>\n",
       "      <th>southwest</th>\n",
       "      <td>11765.159818</td>\n",
       "    </tr>\n",
       "    <tr>\n",
       "      <th>northwest</th>\n",
       "      <td>11097.220696</td>\n",
       "    </tr>\n",
       "  </tbody>\n",
       "</table>\n",
       "</div>"
      ],
      "text/plain": [
       "                charges\n",
       "region                 \n",
       "southeast  13916.786760\n",
       "northeast  11985.217747\n",
       "southwest  11765.159818\n",
       "northwest  11097.220696"
      ]
     },
     "execution_count": 98,
     "metadata": {},
     "output_type": "execute_result"
    }
   ],
   "source": [
    "#average insurance charges based on region\n",
    "insurance[[\"region\", \"charges\"]].groupby(\"region\").mean().sort_values(by = \"charges\", ascending = False)"
   ]
  },
  {
   "cell_type": "markdown",
   "id": "8e68c709-c1f9-4c6e-a95f-5b15889e24e4",
   "metadata": {},
   "source": [
    "People living in the southeast region are billed the most in medical costs by health insurances. People living in the northwest region are billed the least in medical costs."
   ]
  },
  {
   "cell_type": "code",
   "execution_count": 99,
   "id": "319cf773-de52-4ea1-8f7f-482cebc2dde1",
   "metadata": {
    "tags": []
   },
   "outputs": [
    {
     "data": {
      "image/png": "[encoded data removed]",
      "text/plain": [
       "<Figure size 640x480 with 1 Axes>"
      ]
     },
     "metadata": {
      "image/png": {
       "height": 480,
       "width": 640
      }
     },
     "output_type": "display_data"
    },
    {
     "data": {
      "text/plain": [
       "<Figure Size: (640 x 480)>"
      ]
     },
     "execution_count": 99,
     "metadata": {},
     "output_type": "execute_result"
    }
   ],
   "source": [
    "#plot 1: sex v/s charges\n",
    "(ggplot(insurance, aes(x = \"sex\", y = \"charges\", fill = \"sex\"))\n",
    " + geom_col()\n",
    " + ggtitle(\"Medical Costs Billed by Health Insurance per Sex\")\n",
    ")"
   ]
  },
  {
   "cell_type": "markdown",
   "id": "dfc40293-4b1e-4a75-a5ba-d8acf4b3a98a",
   "metadata": {},
   "source": [
    "From this graph, we can say that females pay slightly more in medical bills than males. However, we also must keep in mind that there are more females than males in the data set. "
   ]
  },
  {
   "cell_type": "code",
   "execution_count": 100,
   "id": "3ef5b7e7-6b19-4b07-b3d9-45f5e32fbdf2",
   "metadata": {
    "tags": []
   },
   "outputs": [
    {
     "data": {
      "image/png": "[encoded data removed]",
      "text/plain": [
       "<Figure size 800x500 with 1 Axes>"
      ]
     },
     "metadata": {
      "image/png": {
       "height": 500,
       "width": 800
      }
     },
     "output_type": "display_data"
    },
    {
     "data": {
      "text/plain": [
       "<Figure Size: (800 x 500)>"
      ]
     },
     "execution_count": 100,
     "metadata": {},
     "output_type": "execute_result"
    }
   ],
   "source": [
    "#plot 2: smoker v/s charges\n",
    "(ggplot(insurance, aes(x = \"smoker\", y = \"charges\", fill = \"smoker\"))\n",
    " + geom_col()\n",
    " + ggtitle(\"Medical Costs billed by Insurance Depending for Smokers and Non Smokers\")\n",
    " + theme(figure_size = (8, 5))\n",
    ")"
   ]
  },
  {
   "cell_type": "markdown",
   "id": "1772bdf2-a059-4068-9252-80f44b23b1a9",
   "metadata": {},
   "source": [
    "This plot shows that smokers pay more in medical costs billed by insurances than nonsmokers. This matches the summary statistic created above."
   ]
  },
  {
   "cell_type": "code",
   "execution_count": 101,
   "id": "5af87302-c073-4ba5-a50b-06a584639986",
   "metadata": {
    "tags": []
   },
   "outputs": [
    {
     "data": {
      "image/png": "[encoded data removed]",
      "text/plain": [
       "<Figure size 800x500 with 1 Axes>"
      ]
     },
     "metadata": {
      "image/png": {
       "height": 500,
       "width": 800
      }
     },
     "output_type": "display_data"
    },
    {
     "data": {
      "text/plain": [
       "<Figure Size: (800 x 500)>"
      ]
     },
     "execution_count": 101,
     "metadata": {},
     "output_type": "execute_result"
    }
   ],
   "source": [
    "#plot 3: region v/s charges\n",
    "(ggplot(insurance, aes(x = \"region\", y = \"charges\", fill = \"region\"))\n",
    " + geom_col()\n",
    " + ggtitle(\"Medical Costs billed by Insurance per Region\")\n",
    " + theme(figure_size = (8, 5))\n",
    ")"
   ]
  },
  {
   "cell_type": "markdown",
   "id": "241c4eaf-2eee-45dd-ba6e-54b97bc98a01",
   "metadata": {},
   "source": [
    "This plot shows that the southeast region pays the most in medical costs billed by insurances. This matches the summary statistic created above."
   ]
  },
  {
   "cell_type": "markdown",
   "id": "656386e0-9857-4300-80b2-e35e68abfcea",
   "metadata": {},
   "source": [
    "# Part 2: Simple Linear Models"
   ]
  },
  {
   "cell_type": "markdown",
   "id": "2ebc2850-bedf-480f-9c4e-3e311c7863a9",
   "metadata": {},
   "source": [
    "### model 1: predict insurance charges from beneficiary's age"
   ]
  },
  {
   "cell_type": "code",
   "execution_count": 102,
   "id": "b7cca2e0-439c-45b5-9c74-8f123c5434e8",
   "metadata": {},
   "outputs": [],
   "source": [
    "X = insurance[[\"age\"]] #2D data frame\n",
    "y = insurance[\"charges\"] #1D just one column of ur y\n",
    "X_train, X_test, y_train, y_test = train_test_split(X,y)\n",
    "\n",
    "lr = LinearRegression() #make linear regression function\n",
    "\n",
    "my_pipeline = Pipeline(\n",
    "    [('ols', lr)] \n",
    ") \n",
    "\n",
    "fitted_my_pipeline = my_pipeline.fit(X_train, y_train)\n",
    "fitted_my_pipeline\n",
    "\n",
    "y_preds = fitted_my_pipeline.predict(X_test)\n"
   ]
  },
  {
   "cell_type": "code",
   "execution_count": 103,
   "id": "a02b5ff7-1a61-43d5-8dcc-a023a02ca14c",
   "metadata": {
    "tags": []
   },
   "outputs": [
    {
     "data": {
      "text/plain": [
       "array([211.62345508])"
      ]
     },
     "execution_count": 103,
     "metadata": {},
     "output_type": "execute_result"
    }
   ],
   "source": [
    "#coefficient estimate of fitted pipeline\n",
    "fitted_my_pipeline.named_steps['ols'].coef_"
   ]
  },
  {
   "cell_type": "code",
   "execution_count": 104,
   "id": "8f631c72-b0f2-441c-848e-299df9a33db6",
   "metadata": {
    "tags": []
   },
   "outputs": [
    {
     "data": {
      "text/plain": [
       "0.12471952202116687"
      ]
     },
     "execution_count": 104,
     "metadata": {},
     "output_type": "execute_result"
    }
   ],
   "source": [
    "#R^2 value\n",
    "model1_r2 = r2_score(y_test, y_preds)\n",
    "model1_r2"
   ]
  },
  {
   "cell_type": "code",
   "execution_count": 105,
   "id": "c349a593-b65f-49b9-9b32-f92a3d88f9c2",
   "metadata": {
    "tags": []
   },
   "outputs": [
    {
     "data": {
      "text/plain": [
       "109475341.63018309"
      ]
     },
     "execution_count": 105,
     "metadata": {},
     "output_type": "execute_result"
    }
   ],
   "source": [
    "#mean square error\n",
    "model1_mse = mean_squared_error(y_test, y_preds)\n",
    "model1_mse"
   ]
  },
  {
   "cell_type": "code",
   "execution_count": 106,
   "id": "4f70e3c8-438f-4c1a-be24-049c3622d8c5",
   "metadata": {
    "tags": []
   },
   "outputs": [
    {
     "data": {
      "text/html": [
       "<div>\n",
       "<style scoped>\n",
       "    .dataframe tbody tr th:only-of-type {\n",
       "        vertical-align: middle;\n",
       "    }\n",
       "\n",
       "    .dataframe tbody tr th {\n",
       "        vertical-align: top;\n",
       "    }\n",
       "\n",
       "    .dataframe thead th {\n",
       "        text-align: right;\n",
       "    }\n",
       "</style>\n",
       "<table border=\"1\" class=\"dataframe\">\n",
       "  <thead>\n",
       "    <tr style=\"text-align: right;\">\n",
       "      <th></th>\n",
       "      <th>X test age</th>\n",
       "      <th>y test charges</th>\n",
       "      <th>y preds charges</th>\n",
       "    </tr>\n",
       "  </thead>\n",
       "  <tbody>\n",
       "    <tr>\n",
       "      <th>109</th>\n",
       "      <td>19</td>\n",
       "      <td>1635.73365</td>\n",
       "      <td>8570.468540</td>\n",
       "    </tr>\n",
       "    <tr>\n",
       "      <th>74</th>\n",
       "      <td>42</td>\n",
       "      <td>19515.54160</td>\n",
       "      <td>13437.808006</td>\n",
       "    </tr>\n",
       "    <tr>\n",
       "      <th>64</th>\n",
       "      <td>19</td>\n",
       "      <td>2130.67590</td>\n",
       "      <td>8570.468540</td>\n",
       "    </tr>\n",
       "    <tr>\n",
       "      <th>315</th>\n",
       "      <td>45</td>\n",
       "      <td>7348.14200</td>\n",
       "      <td>14072.678372</td>\n",
       "    </tr>\n",
       "    <tr>\n",
       "      <th>55</th>\n",
       "      <td>24</td>\n",
       "      <td>2855.43755</td>\n",
       "      <td>9628.585815</td>\n",
       "    </tr>\n",
       "    <tr>\n",
       "      <th>...</th>\n",
       "      <td>...</td>\n",
       "      <td>...</td>\n",
       "      <td>...</td>\n",
       "    </tr>\n",
       "    <tr>\n",
       "      <th>351</th>\n",
       "      <td>21</td>\n",
       "      <td>1909.52745</td>\n",
       "      <td>8993.715450</td>\n",
       "    </tr>\n",
       "    <tr>\n",
       "      <th>421</th>\n",
       "      <td>19</td>\n",
       "      <td>1731.67700</td>\n",
       "      <td>8570.468540</td>\n",
       "    </tr>\n",
       "    <tr>\n",
       "      <th>144</th>\n",
       "      <td>18</td>\n",
       "      <td>1149.39590</td>\n",
       "      <td>8358.845084</td>\n",
       "    </tr>\n",
       "    <tr>\n",
       "      <th>41</th>\n",
       "      <td>20</td>\n",
       "      <td>2257.47525</td>\n",
       "      <td>8782.091995</td>\n",
       "    </tr>\n",
       "    <tr>\n",
       "      <th>285</th>\n",
       "      <td>37</td>\n",
       "      <td>37270.15120</td>\n",
       "      <td>12379.690731</td>\n",
       "    </tr>\n",
       "  </tbody>\n",
       "</table>\n",
       "<p>108 rows × 3 columns</p>\n",
       "</div>"
      ],
      "text/plain": [
       "     X test age  y test charges  y preds charges\n",
       "109          19      1635.73365      8570.468540\n",
       "74           42     19515.54160     13437.808006\n",
       "64           19      2130.67590      8570.468540\n",
       "315          45      7348.14200     14072.678372\n",
       "55           24      2855.43755      9628.585815\n",
       "..          ...             ...              ...\n",
       "351          21      1909.52745      8993.715450\n",
       "421          19      1731.67700      8570.468540\n",
       "144          18      1149.39590      8358.845084\n",
       "41           20      2257.47525      8782.091995\n",
       "285          37     37270.15120     12379.690731\n",
       "\n",
       "[108 rows x 3 columns]"
      ]
     },
     "execution_count": 106,
     "metadata": {},
     "output_type": "execute_result"
    }
   ],
   "source": [
    "#fit the model\n",
    "predictions = pd.DataFrame({\"X test age\": X_test[\"age\"],\n",
    "                            \"y test charges\": y_test,\n",
    "                            \"y preds charges\": y_preds})\n",
    "predictions"
   ]
  },
  {
   "cell_type": "markdown",
   "id": "25300fb2-1746-4e86-b674-1f039daf3d72",
   "metadata": {},
   "source": [
    "### Interpreting Results\n",
    "Coefficient: For every year increase in age, medical costs billed by insurances increase by about $211. The mean square error is very high, and the R^2 value is very low (almost close to 0). We need to find a better model."
   ]
  },
  {
   "cell_type": "markdown",
   "id": "dc3533df-c22c-40b4-b0e1-f551b9b4ac23",
   "metadata": {},
   "source": [
    "### Model 2: incorporates sex"
   ]
  },
  {
   "cell_type": "code",
   "execution_count": 170,
   "id": "ff12afb4-8e7d-45ca-8019-36909a743b1a",
   "metadata": {
    "tags": []
   },
   "outputs": [],
   "source": [
    "X2 = insurance[[\"age\",\"sex\"]]\n",
    "y2 = insurance[\"charges\"] \n",
    "X_train2, X_test2, y_train2, y_test2 = train_test_split(X2,y2)\n",
    "\n",
    "lr = LinearRegression() #make linear regression function\n",
    "enc = OneHotEncoder(drop = \"first\") #drop one of the dummy variables to use as reference (source: chatgpt)\n",
    "#the one that is dropped is female, since it appeared first in the pandas dataframe\n",
    "\n",
    "ct = ColumnTransformer(\n",
    "    [(\"dummify_sex\", enc, [\"sex\"])], remainder = \"passthrough\" #keep other columns untouched \n",
    ")\n",
    "\n",
    "my_pipeline2 = Pipeline(\n",
    "    [(\"dummify_everything\", ct), ('ols', lr)] \n",
    ") "
   ]
  },
  {
   "cell_type": "code",
   "execution_count": 108,
   "id": "06ee4a4a-100e-48bc-afa7-2a0ea0128389",
   "metadata": {
    "tags": []
   },
   "outputs": [],
   "source": [
    "fitted_my_pipeline2 = my_pipeline2.fit(X_train2, y_train2)\n",
    "\n",
    "y_preds2 = fitted_my_pipeline2.predict(X_test2)"
   ]
  },
  {
   "cell_type": "code",
   "execution_count": 109,
   "id": "33b670e5-b5fc-4770-9b3d-b2a084754128",
   "metadata": {
    "tags": []
   },
   "outputs": [
    {
     "data": {
      "text/plain": [
       "0.009469792697730517"
      ]
     },
     "execution_count": 109,
     "metadata": {},
     "output_type": "execute_result"
    }
   ],
   "source": [
    "#R^2 value\n",
    "model2_r2 = r2_score(y_test2, y_preds2)\n",
    "model2_r2"
   ]
  },
  {
   "cell_type": "code",
   "execution_count": 110,
   "id": "ddf26222-71d4-46b4-b382-b9f87002807a",
   "metadata": {
    "tags": []
   },
   "outputs": [
    {
     "data": {
      "text/html": [
       "<div>\n",
       "<style scoped>\n",
       "    .dataframe tbody tr th:only-of-type {\n",
       "        vertical-align: middle;\n",
       "    }\n",
       "\n",
       "    .dataframe tbody tr th {\n",
       "        vertical-align: top;\n",
       "    }\n",
       "\n",
       "    .dataframe thead th {\n",
       "        text-align: right;\n",
       "    }\n",
       "</style>\n",
       "<table border=\"1\" class=\"dataframe\">\n",
       "  <thead>\n",
       "    <tr style=\"text-align: right;\">\n",
       "      <th></th>\n",
       "      <th>X test sex</th>\n",
       "      <th>X test age</th>\n",
       "      <th>y test charges</th>\n",
       "      <th>y preds charges</th>\n",
       "    </tr>\n",
       "  </thead>\n",
       "  <tbody>\n",
       "    <tr>\n",
       "      <th>220</th>\n",
       "      <td>female</td>\n",
       "      <td>58</td>\n",
       "      <td>12430.95335</td>\n",
       "      <td>16497.272368</td>\n",
       "    </tr>\n",
       "    <tr>\n",
       "      <th>260</th>\n",
       "      <td>female</td>\n",
       "      <td>62</td>\n",
       "      <td>13457.96080</td>\n",
       "      <td>17505.835544</td>\n",
       "    </tr>\n",
       "    <tr>\n",
       "      <th>159</th>\n",
       "      <td>male</td>\n",
       "      <td>23</td>\n",
       "      <td>1824.28540</td>\n",
       "      <td>8673.929739</td>\n",
       "    </tr>\n",
       "    <tr>\n",
       "      <th>189</th>\n",
       "      <td>male</td>\n",
       "      <td>63</td>\n",
       "      <td>13390.55900</td>\n",
       "      <td>18759.561507</td>\n",
       "    </tr>\n",
       "    <tr>\n",
       "      <th>78</th>\n",
       "      <td>female</td>\n",
       "      <td>18</td>\n",
       "      <td>1615.76670</td>\n",
       "      <td>6411.640599</td>\n",
       "    </tr>\n",
       "    <tr>\n",
       "      <th>...</th>\n",
       "      <td>...</td>\n",
       "      <td>...</td>\n",
       "      <td>...</td>\n",
       "      <td>...</td>\n",
       "    </tr>\n",
       "    <tr>\n",
       "      <th>125</th>\n",
       "      <td>female</td>\n",
       "      <td>58</td>\n",
       "      <td>11856.41150</td>\n",
       "      <td>16497.272368</td>\n",
       "    </tr>\n",
       "    <tr>\n",
       "      <th>4</th>\n",
       "      <td>female</td>\n",
       "      <td>60</td>\n",
       "      <td>28923.13692</td>\n",
       "      <td>17001.553956</td>\n",
       "    </tr>\n",
       "    <tr>\n",
       "      <th>194</th>\n",
       "      <td>male</td>\n",
       "      <td>27</td>\n",
       "      <td>2494.02200</td>\n",
       "      <td>9682.492916</td>\n",
       "    </tr>\n",
       "    <tr>\n",
       "      <th>195</th>\n",
       "      <td>female</td>\n",
       "      <td>19</td>\n",
       "      <td>2128.43105</td>\n",
       "      <td>6663.781393</td>\n",
       "    </tr>\n",
       "    <tr>\n",
       "      <th>71</th>\n",
       "      <td>female</td>\n",
       "      <td>24</td>\n",
       "      <td>25081.76784</td>\n",
       "      <td>7924.485364</td>\n",
       "    </tr>\n",
       "  </tbody>\n",
       "</table>\n",
       "<p>108 rows × 4 columns</p>\n",
       "</div>"
      ],
      "text/plain": [
       "    X test sex  X test age  y test charges  y preds charges\n",
       "220     female          58     12430.95335     16497.272368\n",
       "260     female          62     13457.96080     17505.835544\n",
       "159       male          23      1824.28540      8673.929739\n",
       "189       male          63     13390.55900     18759.561507\n",
       "78      female          18      1615.76670      6411.640599\n",
       "..         ...         ...             ...              ...\n",
       "125     female          58     11856.41150     16497.272368\n",
       "4       female          60     28923.13692     17001.553956\n",
       "194       male          27      2494.02200      9682.492916\n",
       "195     female          19      2128.43105      6663.781393\n",
       "71      female          24     25081.76784      7924.485364\n",
       "\n",
       "[108 rows x 4 columns]"
      ]
     },
     "execution_count": 110,
     "metadata": {},
     "output_type": "execute_result"
    }
   ],
   "source": [
    "predictions2 = pd.DataFrame({\"X test sex\": X_test2[\"sex\"],\n",
    "                             \"X test age\": X_test2[\"age\"],\n",
    "                            \"y test charges\": y_test2,\n",
    "                            \"y preds charges\": y_preds2})\n",
    "predictions2"
   ]
  },
  {
   "cell_type": "code",
   "execution_count": 111,
   "id": "ca82c1f8-1a51-4036-83ce-fe192664d18b",
   "metadata": {
    "tags": []
   },
   "outputs": [
    {
     "data": {
      "text/plain": [
       "array([1001.58516875,  252.14079422])"
      ]
     },
     "execution_count": 111,
     "metadata": {},
     "output_type": "execute_result"
    }
   ],
   "source": [
    "#coefficient estimates\n",
    "fitted_my_pipeline2.named_steps['ols'].coef_"
   ]
  },
  {
   "cell_type": "code",
   "execution_count": 112,
   "id": "8d21c6ab-9750-4104-b125-afa298a413dc",
   "metadata": {
    "tags": []
   },
   "outputs": [
    {
     "data": {
      "text/plain": [
       "167312868.63161045"
      ]
     },
     "execution_count": 112,
     "metadata": {},
     "output_type": "execute_result"
    }
   ],
   "source": [
    "#mean square error\n",
    "model2_mse = mean_squared_error(y_test2, y_preds2)\n",
    "model2_mse"
   ]
  },
  {
   "cell_type": "markdown",
   "id": "fff9d439-81b6-44bb-854c-98b67b309a5d",
   "metadata": {},
   "source": [
    "### Interpreting Results\n",
    "Coefficient: A male patient is associated with a 1001.59 dollars increase in medical costs billed by insurances. For every year increase in age, medical costs billed by insurances increase by $252.14. The mean square error is lower than the mean square error with the model only using age, but the R^2 value is still very low."
   ]
  },
  {
   "cell_type": "markdown",
   "id": "b480af5d-010a-463c-ba47-f59efc1acfd6",
   "metadata": {},
   "source": [
    "### model 3: does not include sex but does include smoker"
   ]
  },
  {
   "cell_type": "code",
   "execution_count": 113,
   "id": "22a136f7-4b47-46d9-801f-fecfcc3940be",
   "metadata": {
    "tags": []
   },
   "outputs": [],
   "source": [
    "X3 = insurance[[\"age\", \"smoker\"]]\n",
    "y3 = insurance[\"charges\"]\n",
    "X_train3, X_test3, y_train3, y_test3 = train_test_split(X3,y3)\n",
    "\n",
    "lr = LinearRegression() \n",
    "enc = OneHotEncoder(drop = \"first\")\n",
    "\n",
    "ct_smoker = ColumnTransformer(\n",
    "    [(\"dummify_smoker\", enc, [\"smoker\"])], remainder = \"passthrough\"\n",
    ")\n",
    "\n",
    "my_pipeline3 = Pipeline(\n",
    "    [(\"dummify_everything\", ct_smoker), ('ols', lr)] \n",
    ") "
   ]
  },
  {
   "cell_type": "code",
   "execution_count": 114,
   "id": "61bd9c79-f367-477f-9ecb-f391e967ea75",
   "metadata": {
    "tags": []
   },
   "outputs": [],
   "source": [
    "fitted_my_pipeline3 = my_pipeline3.fit(X_train3, y_train3)\n",
    "\n",
    "y_preds3 = fitted_my_pipeline3.predict(X_test3)"
   ]
  },
  {
   "cell_type": "code",
   "execution_count": 115,
   "id": "bc76ea00-eaaa-43d4-bd2c-97226db3b84b",
   "metadata": {
    "tags": []
   },
   "outputs": [
    {
     "data": {
      "text/plain": [
       "0.7315396722696988"
      ]
     },
     "execution_count": 115,
     "metadata": {},
     "output_type": "execute_result"
    }
   ],
   "source": [
    "#R^2 value\n",
    "model3_r2 = r2_score(y_test3, y_preds3)\n",
    "model3_r2"
   ]
  },
  {
   "cell_type": "code",
   "execution_count": 116,
   "id": "533f82a4-75d5-4699-98d4-c9ef5cb0fa3e",
   "metadata": {
    "tags": []
   },
   "outputs": [
    {
     "data": {
      "text/plain": [
       "33086497.373081252"
      ]
     },
     "execution_count": 116,
     "metadata": {},
     "output_type": "execute_result"
    }
   ],
   "source": [
    "#Mean squared error\n",
    "model3_mse = mean_squared_error(y_test3, y_preds3)\n",
    "model3_mse"
   ]
  },
  {
   "cell_type": "code",
   "execution_count": 117,
   "id": "b655cf04-f8a6-4c84-a416-5281b16f2f95",
   "metadata": {
    "tags": []
   },
   "outputs": [
    {
     "data": {
      "text/plain": [
       "array([23871.32531262,   256.55484157])"
      ]
     },
     "execution_count": 117,
     "metadata": {},
     "output_type": "execute_result"
    }
   ],
   "source": [
    "#coefficient estimates - it is in alphabetical order\n",
    "fitted_my_pipeline3.named_steps['ols'].coef_"
   ]
  },
  {
   "cell_type": "markdown",
   "id": "4412348f-79c5-4258-b725-a2c5ab49dd65",
   "metadata": {},
   "source": [
    "### Interpreting results\n",
    "Coefficient: Holding age constant, non-smokers are associated with an increase in 23871.33 dollars. For every year increase in age, medical costs billed increase by $256.55.\n",
    "The mean square error is smaller than the previous model, and the R^2 is a lot higher than the previous model. This is a better model."
   ]
  },
  {
   "cell_type": "code",
   "execution_count": 118,
   "id": "75e7096e-5f48-490c-a6c9-fe8694a493c6",
   "metadata": {},
   "outputs": [
    {
     "data": {
      "text/html": [
       "<div>\n",
       "<style scoped>\n",
       "    .dataframe tbody tr th:only-of-type {\n",
       "        vertical-align: middle;\n",
       "    }\n",
       "\n",
       "    .dataframe tbody tr th {\n",
       "        vertical-align: top;\n",
       "    }\n",
       "\n",
       "    .dataframe thead th {\n",
       "        text-align: right;\n",
       "    }\n",
       "</style>\n",
       "<table border=\"1\" class=\"dataframe\">\n",
       "  <thead>\n",
       "    <tr style=\"text-align: right;\">\n",
       "      <th></th>\n",
       "      <th>model_num</th>\n",
       "      <th>R^2 value</th>\n",
       "      <th>Mean Squared Error</th>\n",
       "    </tr>\n",
       "  </thead>\n",
       "  <tbody>\n",
       "    <tr>\n",
       "      <th>0</th>\n",
       "      <td>1</td>\n",
       "      <td>0.12472</td>\n",
       "      <td>1.094753e+08</td>\n",
       "    </tr>\n",
       "    <tr>\n",
       "      <th>1</th>\n",
       "      <td>2</td>\n",
       "      <td>0.00947</td>\n",
       "      <td>1.673129e+08</td>\n",
       "    </tr>\n",
       "    <tr>\n",
       "      <th>2</th>\n",
       "      <td>3</td>\n",
       "      <td>0.73154</td>\n",
       "      <td>3.308650e+07</td>\n",
       "    </tr>\n",
       "  </tbody>\n",
       "</table>\n",
       "</div>"
      ],
      "text/plain": [
       "   model_num  R^2 value  Mean Squared Error\n",
       "0          1    0.12472        1.094753e+08\n",
       "1          2    0.00947        1.673129e+08\n",
       "2          3    0.73154        3.308650e+07"
      ]
     },
     "execution_count": 118,
     "metadata": {},
     "output_type": "execute_result"
    }
   ],
   "source": [
    "#looking at R^2 and MSE\n",
    "models = [1, 2, 3]\n",
    "r2 = [model1_r2, model2_r2, model3_r2]\n",
    "mse = [model1_mse, model2_mse, model3_mse]\n",
    "\n",
    "values = pd.DataFrame({\"model_num\": models,\n",
    "                       \"R^2 value\": r2,\n",
    "                       \"Mean Squared Error\": mse})\n",
    "values"
   ]
  },
  {
   "cell_type": "code",
   "execution_count": 119,
   "id": "465a4c31-79bb-4a8b-98b8-d12bf071d7c6",
   "metadata": {
    "tags": []
   },
   "outputs": [
    {
     "data": {
      "text/html": [
       "<div>\n",
       "<style scoped>\n",
       "    .dataframe tbody tr th:only-of-type {\n",
       "        vertical-align: middle;\n",
       "    }\n",
       "\n",
       "    .dataframe tbody tr th {\n",
       "        vertical-align: top;\n",
       "    }\n",
       "\n",
       "    .dataframe thead th {\n",
       "        text-align: right;\n",
       "    }\n",
       "</style>\n",
       "<table border=\"1\" class=\"dataframe\">\n",
       "  <thead>\n",
       "    <tr style=\"text-align: right;\">\n",
       "      <th></th>\n",
       "      <th>model_num</th>\n",
       "      <th>R^2 value</th>\n",
       "    </tr>\n",
       "  </thead>\n",
       "  <tbody>\n",
       "    <tr>\n",
       "      <th>2</th>\n",
       "      <td>3</td>\n",
       "      <td>0.73154</td>\n",
       "    </tr>\n",
       "    <tr>\n",
       "      <th>0</th>\n",
       "      <td>1</td>\n",
       "      <td>0.12472</td>\n",
       "    </tr>\n",
       "    <tr>\n",
       "      <th>1</th>\n",
       "      <td>2</td>\n",
       "      <td>0.00947</td>\n",
       "    </tr>\n",
       "  </tbody>\n",
       "</table>\n",
       "</div>"
      ],
      "text/plain": [
       "   model_num  R^2 value\n",
       "2          3    0.73154\n",
       "0          1    0.12472\n",
       "1          2    0.00947"
      ]
     },
     "execution_count": 119,
     "metadata": {},
     "output_type": "execute_result"
    }
   ],
   "source": [
    "values[[\"model_num\", \"R^2 value\"]].sort_values(by = \"R^2 value\", ascending = False)"
   ]
  },
  {
   "cell_type": "code",
   "execution_count": 120,
   "id": "ee66442f-6b6f-4357-8b9f-47b91b561beb",
   "metadata": {
    "tags": []
   },
   "outputs": [
    {
     "data": {
      "text/html": [
       "<div>\n",
       "<style scoped>\n",
       "    .dataframe tbody tr th:only-of-type {\n",
       "        vertical-align: middle;\n",
       "    }\n",
       "\n",
       "    .dataframe tbody tr th {\n",
       "        vertical-align: top;\n",
       "    }\n",
       "\n",
       "    .dataframe thead th {\n",
       "        text-align: right;\n",
       "    }\n",
       "</style>\n",
       "<table border=\"1\" class=\"dataframe\">\n",
       "  <thead>\n",
       "    <tr style=\"text-align: right;\">\n",
       "      <th></th>\n",
       "      <th>model_num</th>\n",
       "      <th>Mean Squared Error</th>\n",
       "    </tr>\n",
       "  </thead>\n",
       "  <tbody>\n",
       "    <tr>\n",
       "      <th>2</th>\n",
       "      <td>3</td>\n",
       "      <td>3.308650e+07</td>\n",
       "    </tr>\n",
       "    <tr>\n",
       "      <th>0</th>\n",
       "      <td>1</td>\n",
       "      <td>1.094753e+08</td>\n",
       "    </tr>\n",
       "    <tr>\n",
       "      <th>1</th>\n",
       "      <td>2</td>\n",
       "      <td>1.673129e+08</td>\n",
       "    </tr>\n",
       "  </tbody>\n",
       "</table>\n",
       "</div>"
      ],
      "text/plain": [
       "   model_num  Mean Squared Error\n",
       "2          3        3.308650e+07\n",
       "0          1        1.094753e+08\n",
       "1          2        1.673129e+08"
      ]
     },
     "execution_count": 120,
     "metadata": {},
     "output_type": "execute_result"
    }
   ],
   "source": [
    "values[[\"model_num\", \"Mean Squared Error\"]].sort_values(by = \"Mean Squared Error\", ascending = True)"
   ]
  },
  {
   "cell_type": "markdown",
   "id": "f7be5cb5-1f1e-41d1-94a8-24b48245607f",
   "metadata": {},
   "source": [
    "Comparing the R^2 and mean squared error values between each model, we can say that the third model with age and smoker as the explanatory variables is the best model. It has the highest R^2 value and the lowest mean square error value."
   ]
  },
  {
   "cell_type": "markdown",
   "id": "e5f9b452-4e4c-40e7-bed5-4247fb7f4dec",
   "metadata": {},
   "source": [
    "# Part 3: Multiple Linear Models"
   ]
  },
  {
   "cell_type": "markdown",
   "id": "1b703aa9-132e-411b-81d3-e061553a45d6",
   "metadata": {},
   "source": [
    "### model 4: uses age and bmi as predictors"
   ]
  },
  {
   "cell_type": "code",
   "execution_count": 121,
   "id": "36bdc334-e93a-49de-8532-b0d70d7814d4",
   "metadata": {
    "tags": []
   },
   "outputs": [],
   "source": [
    "X4 = insurance[[\"age\", \"bmi\"]]\n",
    "y4 = insurance[\"charges\"]\n",
    "X_train4, X_test4, y_train4, y_test4 = train_test_split(X4,y4)\n",
    "\n",
    "lr = LinearRegression() \n",
    "\n",
    "my_pipeline4 = Pipeline(\n",
    "    [('ols', lr)] \n",
    ") "
   ]
  },
  {
   "cell_type": "code",
   "execution_count": 122,
   "id": "1c60620d-86ed-4b22-9b9d-605497c075c5",
   "metadata": {
    "tags": []
   },
   "outputs": [],
   "source": [
    "fitted_my_pipeline4 = my_pipeline4.fit(X_train4, y_train4)\n",
    "\n",
    "y_preds4 = fitted_my_pipeline4.predict(X_test4)"
   ]
  },
  {
   "cell_type": "code",
   "execution_count": 123,
   "id": "930fac56-f72f-4344-a898-3ed8c7f3333e",
   "metadata": {
    "tags": []
   },
   "outputs": [
    {
     "data": {
      "text/plain": [
       "107730533.50604814"
      ]
     },
     "execution_count": 123,
     "metadata": {},
     "output_type": "execute_result"
    }
   ],
   "source": [
    "#Mean squared error\n",
    "model4_mse = mean_squared_error(y_test4, y_preds4)\n",
    "model4_mse"
   ]
  },
  {
   "cell_type": "code",
   "execution_count": 124,
   "id": "b4a49715-51de-4484-9aea-d41908e1e95c",
   "metadata": {
    "tags": []
   },
   "outputs": [
    {
     "data": {
      "text/plain": [
       "0.14701463947261906"
      ]
     },
     "execution_count": 124,
     "metadata": {},
     "output_type": "execute_result"
    }
   ],
   "source": [
    "#R^2 value\n",
    "model4_r2 = r2_score(y_test4, y_preds4)\n",
    "model4_r2"
   ]
  },
  {
   "cell_type": "markdown",
   "id": "c9efc62e-bcce-4ab7-a1c9-7b54c92988e2",
   "metadata": {},
   "source": [
    "The mean square error for model 4 smaller than the mean square error in part 2 question 1. The R^2 value for model 4 is higher than the R^2 value for the model in question 2 part 1. Model 4 is the better model so far."
   ]
  },
  {
   "cell_type": "markdown",
   "id": "a059f109-41bf-438e-9b46-bed3091f2ce1",
   "metadata": {},
   "source": [
    "### Model 5: with age and age^2"
   ]
  },
  {
   "cell_type": "code",
   "execution_count": 125,
   "id": "edbe3633-6dbd-4e77-ab98-d2a9485351f2",
   "metadata": {
    "tags": []
   },
   "outputs": [],
   "source": [
    "X5 = insurance[[\"age\"]]\n",
    "y5 = insurance[\"charges\"]\n",
    "X_train5, X_test5, y_train5, y_test5 = train_test_split(X5,y5)\n",
    "\n",
    "lr = LinearRegression() \n",
    "poly2 = PolynomialFeatures(2, include_bias = False, interaction_only = False)\n",
    "\n",
    "ct2 = ColumnTransformer(\n",
    "    [(\"quadratic\", poly2, [\"age\"])]\n",
    ")\n",
    "\n",
    "my_pipeline5 = Pipeline(\n",
    "    [(\"age_squared\", ct2),('ols', lr)] \n",
    ") "
   ]
  },
  {
   "cell_type": "code",
   "execution_count": 126,
   "id": "da152326-b94c-48f1-9d97-37930a555c35",
   "metadata": {
    "tags": []
   },
   "outputs": [],
   "source": [
    "fitted_my_pipeline5 = my_pipeline5.fit(X_train5, y_train5)\n",
    "\n",
    "y_preds5 = fitted_my_pipeline5.predict(X_test5)"
   ]
  },
  {
   "cell_type": "code",
   "execution_count": 127,
   "id": "8f72caa7-c1bb-477b-a81b-411870a91a9a",
   "metadata": {
    "tags": []
   },
   "outputs": [
    {
     "data": {
      "text/plain": [
       "163343191.53545582"
      ]
     },
     "execution_count": 127,
     "metadata": {},
     "output_type": "execute_result"
    }
   ],
   "source": [
    "#Mean squared error\n",
    "model5_mse = mean_squared_error(y_test5, y_preds5)\n",
    "model5_mse"
   ]
  },
  {
   "cell_type": "code",
   "execution_count": 128,
   "id": "aaa6849b-9fe5-4a7a-bd0e-87d57ec3ae42",
   "metadata": {
    "tags": []
   },
   "outputs": [
    {
     "data": {
      "text/plain": [
       "0.004745607222486514"
      ]
     },
     "execution_count": 128,
     "metadata": {},
     "output_type": "execute_result"
    }
   ],
   "source": [
    "#R^2 value\n",
    "model5_r2 = r2_score(y_test5, y_preds5)\n",
    "model5_r2"
   ]
  },
  {
   "cell_type": "markdown",
   "id": "17e07627-21ff-4530-b9d9-d68e032f9422",
   "metadata": {},
   "source": [
    "The R^2 value in model 5 is lower than the R^2 value for the model in part 2 question 1. The mean square error in model 5 is also higher than the mean square error in the model for part 2 question 1. The model in P2 Q1 is better than this model."
   ]
  },
  {
   "cell_type": "markdown",
   "id": "ede8cb2f-94e3-45b5-84e1-92ce6ca18aad",
   "metadata": {},
   "source": [
    "### Model 6: Fit a polynomial model of degree of 4"
   ]
  },
  {
   "cell_type": "code",
   "execution_count": 129,
   "id": "73f6dbda-b2d3-4258-8ff9-9ef8c0fcffb1",
   "metadata": {
    "tags": []
   },
   "outputs": [],
   "source": [
    "X6 = insurance[[\"age\"]]\n",
    "y6 = insurance[\"charges\"]\n",
    "X_train6, X_test6, y_train6, y_test6 = train_test_split(X6,y6)\n",
    "\n",
    "lr = LinearRegression() \n",
    "poly4 = PolynomialFeatures(4)\n",
    "\n",
    "ct4 = ColumnTransformer(\n",
    "    [(\"fourth_power\", poly4, [\"age\"])]\n",
    ")\n",
    "\n",
    "my_pipeline6 = Pipeline(\n",
    "    [(\"age_fourth\", ct4),('ols', lr)] \n",
    ") "
   ]
  },
  {
   "cell_type": "code",
   "execution_count": 130,
   "id": "97efb534-5154-4706-8ef2-e4aa81d174be",
   "metadata": {
    "tags": []
   },
   "outputs": [],
   "source": [
    "fitted_my_pipeline6 = my_pipeline6.fit(X_train6, y_train6)\n",
    "\n",
    "y_preds6 = fitted_my_pipeline6.predict(X_test6)"
   ]
  },
  {
   "cell_type": "code",
   "execution_count": 131,
   "id": "0ceaa5ac-1393-4ec4-a696-5cb808d7e3f2",
   "metadata": {
    "tags": []
   },
   "outputs": [
    {
     "data": {
      "text/plain": [
       "130133388.48557355"
      ]
     },
     "execution_count": 131,
     "metadata": {},
     "output_type": "execute_result"
    }
   ],
   "source": [
    "#Mean squared error\n",
    "model6_mse = mean_squared_error(y_test6, y_preds6)\n",
    "model6_mse"
   ]
  },
  {
   "cell_type": "code",
   "execution_count": 132,
   "id": "54d5aa7b-810e-404e-893e-680d26b8e7f8",
   "metadata": {
    "tags": []
   },
   "outputs": [
    {
     "data": {
      "text/plain": [
       "0.0849933620152914"
      ]
     },
     "execution_count": 132,
     "metadata": {},
     "output_type": "execute_result"
    }
   ],
   "source": [
    "#R^2 value\n",
    "model6_r2 = r2_score(y_test6, y_preds6)\n",
    "model6_r2"
   ]
  },
  {
   "cell_type": "markdown",
   "id": "4edae251-dbcb-4c4a-86a1-f0d35c37298d",
   "metadata": {},
   "source": [
    "The R^2 value for model 6 here is lower than the R^2 value for the model in P2 Q1. The mean square error in model 6 is also higher than the mean square error than the mean square error for P2 Q1. Model 6 is worse compared to the model in P2 Q1."
   ]
  },
  {
   "cell_type": "markdown",
   "id": "c110f55f-55b0-4ca5-bf5e-3bc2e4fbbeb8",
   "metadata": {},
   "source": [
    "### Model 7: Fit a polynomial model of degree 12\n"
   ]
  },
  {
   "cell_type": "code",
   "execution_count": 133,
   "id": "b3037186-2193-4bda-8e60-26984a651fcc",
   "metadata": {
    "tags": []
   },
   "outputs": [],
   "source": [
    "X7 = insurance[[\"age\"]]\n",
    "y7 = insurance[\"charges\"]\n",
    "X_train7, X_test7, y_train7, y_test7 = train_test_split(X7,y7)\n",
    "\n",
    "lr = LinearRegression() \n",
    "poly12 = PolynomialFeatures(12)\n",
    "\n",
    "ct12 = ColumnTransformer(\n",
    "    [(\"twelfth_power\", poly12, [\"age\"])]\n",
    ")\n",
    "\n",
    "my_pipeline7 = Pipeline(\n",
    "    [(\"age_twelfth\", ct12),('ols', lr)] \n",
    ") "
   ]
  },
  {
   "cell_type": "code",
   "execution_count": 134,
   "id": "dd918fb5-4ee2-446b-9364-2f92fcbf0536",
   "metadata": {
    "tags": []
   },
   "outputs": [],
   "source": [
    "fitted_my_pipeline7 = my_pipeline7.fit(X_train7, y_train7)\n",
    "\n",
    "y_preds7 = fitted_my_pipeline7.predict(X_test7)"
   ]
  },
  {
   "cell_type": "code",
   "execution_count": 135,
   "id": "52d38596-0709-443b-ae7a-711e9c03d7e6",
   "metadata": {
    "tags": []
   },
   "outputs": [
    {
     "data": {
      "text/plain": [
       "128098093.72377525"
      ]
     },
     "execution_count": 135,
     "metadata": {},
     "output_type": "execute_result"
    }
   ],
   "source": [
    "#Mean squared error\n",
    "model7_mse = mean_squared_error(y_test7, y_preds7)\n",
    "model7_mse"
   ]
  },
  {
   "cell_type": "code",
   "execution_count": 136,
   "id": "04f49f1f-eada-40fe-b882-a5659fe6f674",
   "metadata": {
    "tags": []
   },
   "outputs": [
    {
     "data": {
      "text/plain": [
       "0.054768067768138806"
      ]
     },
     "execution_count": 136,
     "metadata": {},
     "output_type": "execute_result"
    }
   ],
   "source": [
    "#R^2 value\n",
    "model7_r2 = r2_score(y_test7, y_preds7)\n",
    "model7_r2"
   ]
  },
  {
   "cell_type": "markdown",
   "id": "6bef903e-28ec-492b-9d32-28ffeb1d2883",
   "metadata": {},
   "source": [
    "This model performed worse than the model in P2 Q1. It has a higher MSE and a lower R^2."
   ]
  },
  {
   "cell_type": "code",
   "execution_count": 137,
   "id": "860e2883-1baa-484f-aa8e-052002cfa69b",
   "metadata": {
    "tags": []
   },
   "outputs": [],
   "source": [
    "#looking at R^2 and MSE\n",
    "models = [1, 4, 5, 6, 7]\n",
    "r2 = [model1_r2, model4_r2, model5_r2, model6_r2, model7_r2]\n",
    "mse = [model1_mse, model4_mse, model5_mse, model6_mse, model7_mse]\n",
    "\n",
    "values2 = pd.DataFrame({\"model_num\": models,\n",
    "                       \"R^2 value\": r2,\n",
    "                       \"Mean Squared Error\": mse})\n"
   ]
  },
  {
   "cell_type": "code",
   "execution_count": 138,
   "id": "9936c6a9-381e-4b78-90dd-dbf132ec1ab7",
   "metadata": {
    "tags": []
   },
   "outputs": [
    {
     "data": {
      "text/html": [
       "<div>\n",
       "<style scoped>\n",
       "    .dataframe tbody tr th:only-of-type {\n",
       "        vertical-align: middle;\n",
       "    }\n",
       "\n",
       "    .dataframe tbody tr th {\n",
       "        vertical-align: top;\n",
       "    }\n",
       "\n",
       "    .dataframe thead th {\n",
       "        text-align: right;\n",
       "    }\n",
       "</style>\n",
       "<table border=\"1\" class=\"dataframe\">\n",
       "  <thead>\n",
       "    <tr style=\"text-align: right;\">\n",
       "      <th></th>\n",
       "      <th>model_num</th>\n",
       "      <th>R^2 value</th>\n",
       "    </tr>\n",
       "  </thead>\n",
       "  <tbody>\n",
       "    <tr>\n",
       "      <th>1</th>\n",
       "      <td>4</td>\n",
       "      <td>0.147015</td>\n",
       "    </tr>\n",
       "    <tr>\n",
       "      <th>0</th>\n",
       "      <td>1</td>\n",
       "      <td>0.124720</td>\n",
       "    </tr>\n",
       "    <tr>\n",
       "      <th>3</th>\n",
       "      <td>6</td>\n",
       "      <td>0.084993</td>\n",
       "    </tr>\n",
       "    <tr>\n",
       "      <th>4</th>\n",
       "      <td>7</td>\n",
       "      <td>0.054768</td>\n",
       "    </tr>\n",
       "    <tr>\n",
       "      <th>2</th>\n",
       "      <td>5</td>\n",
       "      <td>0.004746</td>\n",
       "    </tr>\n",
       "  </tbody>\n",
       "</table>\n",
       "</div>"
      ],
      "text/plain": [
       "   model_num  R^2 value\n",
       "1          4   0.147015\n",
       "0          1   0.124720\n",
       "3          6   0.084993\n",
       "4          7   0.054768\n",
       "2          5   0.004746"
      ]
     },
     "execution_count": 138,
     "metadata": {},
     "output_type": "execute_result"
    }
   ],
   "source": [
    "values2[[\"model_num\", \"R^2 value\"]].sort_values([\"R^2 value\"], ascending = False)"
   ]
  },
  {
   "cell_type": "code",
   "execution_count": 139,
   "id": "c398a94d-926b-4079-b61a-88ddb0c11dd5",
   "metadata": {
    "tags": []
   },
   "outputs": [
    {
     "data": {
      "text/html": [
       "<div>\n",
       "<style scoped>\n",
       "    .dataframe tbody tr th:only-of-type {\n",
       "        vertical-align: middle;\n",
       "    }\n",
       "\n",
       "    .dataframe tbody tr th {\n",
       "        vertical-align: top;\n",
       "    }\n",
       "\n",
       "    .dataframe thead th {\n",
       "        text-align: right;\n",
       "    }\n",
       "</style>\n",
       "<table border=\"1\" class=\"dataframe\">\n",
       "  <thead>\n",
       "    <tr style=\"text-align: right;\">\n",
       "      <th></th>\n",
       "      <th>model_num</th>\n",
       "      <th>Mean Squared Error</th>\n",
       "    </tr>\n",
       "  </thead>\n",
       "  <tbody>\n",
       "    <tr>\n",
       "      <th>1</th>\n",
       "      <td>4</td>\n",
       "      <td>1.077305e+08</td>\n",
       "    </tr>\n",
       "    <tr>\n",
       "      <th>0</th>\n",
       "      <td>1</td>\n",
       "      <td>1.094753e+08</td>\n",
       "    </tr>\n",
       "    <tr>\n",
       "      <th>4</th>\n",
       "      <td>7</td>\n",
       "      <td>1.280981e+08</td>\n",
       "    </tr>\n",
       "    <tr>\n",
       "      <th>3</th>\n",
       "      <td>6</td>\n",
       "      <td>1.301334e+08</td>\n",
       "    </tr>\n",
       "    <tr>\n",
       "      <th>2</th>\n",
       "      <td>5</td>\n",
       "      <td>1.633432e+08</td>\n",
       "    </tr>\n",
       "  </tbody>\n",
       "</table>\n",
       "</div>"
      ],
      "text/plain": [
       "   model_num  Mean Squared Error\n",
       "1          4        1.077305e+08\n",
       "0          1        1.094753e+08\n",
       "4          7        1.280981e+08\n",
       "3          6        1.301334e+08\n",
       "2          5        1.633432e+08"
      ]
     },
     "execution_count": 139,
     "metadata": {},
     "output_type": "execute_result"
    }
   ],
   "source": [
    "values2[[\"model_num\", \"Mean Squared Error\"]].sort_values([\"Mean Squared Error\"], ascending = True)"
   ]
  },
  {
   "cell_type": "markdown",
   "id": "627cb963-7468-4c75-9da6-bac8fcec8c3b",
   "metadata": {},
   "source": [
    "After comparing the R^2 and MSE values, we can see that model 4 performs the best. However, this is not the \"best\" model possible because the R^2 is still very low and the MSE is still very large."
   ]
  },
  {
   "cell_type": "markdown",
   "id": "2b536acc-19c9-4a00-aa47-a76b6b6b5dfe",
   "metadata": {},
   "source": [
    "### plot predictions from model in Q4 as line plot on top of scatter plot of original data\n"
   ]
  },
  {
   "cell_type": "code",
   "execution_count": 140,
   "id": "2096fb34-1acf-4947-91f1-0810d14f5330",
   "metadata": {
    "tags": []
   },
   "outputs": [
    {
     "data": {
      "text/html": [
       "<div>\n",
       "<style scoped>\n",
       "    .dataframe tbody tr th:only-of-type {\n",
       "        vertical-align: middle;\n",
       "    }\n",
       "\n",
       "    .dataframe tbody tr th {\n",
       "        vertical-align: top;\n",
       "    }\n",
       "\n",
       "    .dataframe thead th {\n",
       "        text-align: right;\n",
       "    }\n",
       "</style>\n",
       "<table border=\"1\" class=\"dataframe\">\n",
       "  <thead>\n",
       "    <tr style=\"text-align: right;\">\n",
       "      <th></th>\n",
       "      <th>y_test</th>\n",
       "      <th>y_preds7</th>\n",
       "      <th>X_test7_age</th>\n",
       "    </tr>\n",
       "  </thead>\n",
       "  <tbody>\n",
       "    <tr>\n",
       "      <th>387</th>\n",
       "      <td>8671.19125</td>\n",
       "      <td>14751.160077</td>\n",
       "      <td>48</td>\n",
       "    </tr>\n",
       "    <tr>\n",
       "      <th>303</th>\n",
       "      <td>48673.55880</td>\n",
       "      <td>17334.062341</td>\n",
       "      <td>60</td>\n",
       "    </tr>\n",
       "    <tr>\n",
       "      <th>85</th>\n",
       "      <td>33750.29180</td>\n",
       "      <td>7560.417181</td>\n",
       "      <td>19</td>\n",
       "    </tr>\n",
       "    <tr>\n",
       "      <th>350</th>\n",
       "      <td>13974.45555</td>\n",
       "      <td>21202.011899</td>\n",
       "      <td>63</td>\n",
       "    </tr>\n",
       "    <tr>\n",
       "      <th>377</th>\n",
       "      <td>5227.98875</td>\n",
       "      <td>14517.411610</td>\n",
       "      <td>35</td>\n",
       "    </tr>\n",
       "    <tr>\n",
       "      <th>...</th>\n",
       "      <td>...</td>\n",
       "      <td>...</td>\n",
       "      <td>...</td>\n",
       "    </tr>\n",
       "    <tr>\n",
       "      <th>271</th>\n",
       "      <td>1877.92940</td>\n",
       "      <td>7493.406853</td>\n",
       "      <td>20</td>\n",
       "    </tr>\n",
       "    <tr>\n",
       "      <th>126</th>\n",
       "      <td>3176.81590</td>\n",
       "      <td>9038.540723</td>\n",
       "      <td>26</td>\n",
       "    </tr>\n",
       "    <tr>\n",
       "      <th>34</th>\n",
       "      <td>15820.69900</td>\n",
       "      <td>15284.708944</td>\n",
       "      <td>38</td>\n",
       "    </tr>\n",
       "    <tr>\n",
       "      <th>100</th>\n",
       "      <td>7421.19455</td>\n",
       "      <td>15074.555088</td>\n",
       "      <td>44</td>\n",
       "    </tr>\n",
       "    <tr>\n",
       "      <th>147</th>\n",
       "      <td>5910.94400</td>\n",
       "      <td>15379.741196</td>\n",
       "      <td>40</td>\n",
       "    </tr>\n",
       "  </tbody>\n",
       "</table>\n",
       "<p>108 rows × 3 columns</p>\n",
       "</div>"
      ],
      "text/plain": [
       "          y_test      y_preds7  X_test7_age\n",
       "387   8671.19125  14751.160077           48\n",
       "303  48673.55880  17334.062341           60\n",
       "85   33750.29180   7560.417181           19\n",
       "350  13974.45555  21202.011899           63\n",
       "377   5227.98875  14517.411610           35\n",
       "..           ...           ...          ...\n",
       "271   1877.92940   7493.406853           20\n",
       "126   3176.81590   9038.540723           26\n",
       "34   15820.69900  15284.708944           38\n",
       "100   7421.19455  15074.555088           44\n",
       "147   5910.94400  15379.741196           40\n",
       "\n",
       "[108 rows x 3 columns]"
      ]
     },
     "execution_count": 140,
     "metadata": {},
     "output_type": "execute_result"
    }
   ],
   "source": [
    "predictions_1 = pd.DataFrame({\"y_test\": y_test7,\n",
    "              \"y_preds7\": y_preds7,\n",
    "              \"X_test7_age\": X_test7[\"age\"]})\n",
    "predictions_1\n"
   ]
  },
  {
   "cell_type": "code",
   "execution_count": 141,
   "id": "09b45dea-9e8c-4b03-80bd-77675564ba8f",
   "metadata": {
    "tags": []
   },
   "outputs": [
    {
     "data": {
      "image/png": "[encoded data removed]",
      "text/plain": [
       "<Figure size 640x480 with 1 Axes>"
      ]
     },
     "metadata": {
      "image/png": {
       "height": 480,
       "width": 640
      }
     },
     "output_type": "display_data"
    },
    {
     "data": {
      "text/plain": [
       "<Figure Size: (640 x 480)>"
      ]
     },
     "execution_count": 141,
     "metadata": {},
     "output_type": "execute_result"
    }
   ],
   "source": [
    "(ggplot(predictions_1, aes(x = \"X_test7_age\", y = \"y_test\"))\n",
    " + geom_point()\n",
    " + geom_line(aes(y = \"y_preds7\"), color = \"red\"))"
   ]
  },
  {
   "cell_type": "markdown",
   "id": "67ccf136-83f0-4c6c-8dec-db6773f3b478",
   "metadata": {},
   "source": [
    "# Part 4: New Data"
   ]
  },
  {
   "cell_type": "code",
   "execution_count": 142,
   "id": "9ffbc31a-4cb9-48c2-9871-97661a33a609",
   "metadata": {
    "tags": []
   },
   "outputs": [
    {
     "data": {
      "text/html": [
       "<div>\n",
       "<style scoped>\n",
       "    .dataframe tbody tr th:only-of-type {\n",
       "        vertical-align: middle;\n",
       "    }\n",
       "\n",
       "    .dataframe tbody tr th {\n",
       "        vertical-align: top;\n",
       "    }\n",
       "\n",
       "    .dataframe thead th {\n",
       "        text-align: right;\n",
       "    }\n",
       "</style>\n",
       "<table border=\"1\" class=\"dataframe\">\n",
       "  <thead>\n",
       "    <tr style=\"text-align: right;\">\n",
       "      <th></th>\n",
       "      <th>age</th>\n",
       "      <th>sex</th>\n",
       "      <th>bmi</th>\n",
       "      <th>smoker</th>\n",
       "      <th>region</th>\n",
       "      <th>charges</th>\n",
       "    </tr>\n",
       "  </thead>\n",
       "  <tbody>\n",
       "    <tr>\n",
       "      <th>0</th>\n",
       "      <td>23</td>\n",
       "      <td>male</td>\n",
       "      <td>34.400</td>\n",
       "      <td>no</td>\n",
       "      <td>southwest</td>\n",
       "      <td>1826.84300</td>\n",
       "    </tr>\n",
       "    <tr>\n",
       "      <th>1</th>\n",
       "      <td>56</td>\n",
       "      <td>male</td>\n",
       "      <td>40.300</td>\n",
       "      <td>no</td>\n",
       "      <td>southwest</td>\n",
       "      <td>10602.38500</td>\n",
       "    </tr>\n",
       "    <tr>\n",
       "      <th>2</th>\n",
       "      <td>18</td>\n",
       "      <td>male</td>\n",
       "      <td>34.100</td>\n",
       "      <td>no</td>\n",
       "      <td>southeast</td>\n",
       "      <td>1137.01100</td>\n",
       "    </tr>\n",
       "    <tr>\n",
       "      <th>3</th>\n",
       "      <td>63</td>\n",
       "      <td>female</td>\n",
       "      <td>23.085</td>\n",
       "      <td>no</td>\n",
       "      <td>northeast</td>\n",
       "      <td>14451.83515</td>\n",
       "    </tr>\n",
       "    <tr>\n",
       "      <th>4</th>\n",
       "      <td>63</td>\n",
       "      <td>male</td>\n",
       "      <td>28.310</td>\n",
       "      <td>no</td>\n",
       "      <td>northwest</td>\n",
       "      <td>13770.09790</td>\n",
       "    </tr>\n",
       "    <tr>\n",
       "      <th>...</th>\n",
       "      <td>...</td>\n",
       "      <td>...</td>\n",
       "      <td>...</td>\n",
       "      <td>...</td>\n",
       "      <td>...</td>\n",
       "      <td>...</td>\n",
       "    </tr>\n",
       "    <tr>\n",
       "      <th>138</th>\n",
       "      <td>19</td>\n",
       "      <td>male</td>\n",
       "      <td>34.900</td>\n",
       "      <td>yes</td>\n",
       "      <td>southwest</td>\n",
       "      <td>34828.65400</td>\n",
       "    </tr>\n",
       "    <tr>\n",
       "      <th>139</th>\n",
       "      <td>45</td>\n",
       "      <td>male</td>\n",
       "      <td>30.360</td>\n",
       "      <td>yes</td>\n",
       "      <td>southeast</td>\n",
       "      <td>62592.87309</td>\n",
       "    </tr>\n",
       "    <tr>\n",
       "      <th>140</th>\n",
       "      <td>43</td>\n",
       "      <td>male</td>\n",
       "      <td>27.800</td>\n",
       "      <td>yes</td>\n",
       "      <td>southwest</td>\n",
       "      <td>37829.72420</td>\n",
       "    </tr>\n",
       "    <tr>\n",
       "      <th>141</th>\n",
       "      <td>24</td>\n",
       "      <td>female</td>\n",
       "      <td>27.720</td>\n",
       "      <td>no</td>\n",
       "      <td>southeast</td>\n",
       "      <td>2464.61880</td>\n",
       "    </tr>\n",
       "    <tr>\n",
       "      <th>142</th>\n",
       "      <td>18</td>\n",
       "      <td>male</td>\n",
       "      <td>53.130</td>\n",
       "      <td>no</td>\n",
       "      <td>southeast</td>\n",
       "      <td>1163.46270</td>\n",
       "    </tr>\n",
       "  </tbody>\n",
       "</table>\n",
       "<p>143 rows × 6 columns</p>\n",
       "</div>"
      ],
      "text/plain": [
       "     age     sex     bmi smoker     region      charges\n",
       "0     23    male  34.400     no  southwest   1826.84300\n",
       "1     56    male  40.300     no  southwest  10602.38500\n",
       "2     18    male  34.100     no  southeast   1137.01100\n",
       "3     63  female  23.085     no  northeast  14451.83515\n",
       "4     63    male  28.310     no  northwest  13770.09790\n",
       "..   ...     ...     ...    ...        ...          ...\n",
       "138   19    male  34.900    yes  southwest  34828.65400\n",
       "139   45    male  30.360    yes  southeast  62592.87309\n",
       "140   43    male  27.800    yes  southwest  37829.72420\n",
       "141   24  female  27.720     no  southeast   2464.61880\n",
       "142   18    male  53.130     no  southeast   1163.46270\n",
       "\n",
       "[143 rows x 6 columns]"
      ]
     },
     "execution_count": 142,
     "metadata": {},
     "output_type": "execute_result"
    }
   ],
   "source": [
    "new_insurance = pd.read_csv(\"https://www.dropbox.com/s/sky86agc4s8c6qe/insurance_costs_2.csv?dl=1\")\n",
    "new_insurance"
   ]
  },
  {
   "cell_type": "markdown",
   "id": "003a0448-df44-4740-b43b-1204e19964e8",
   "metadata": {},
   "source": [
    "### Age as predictor only"
   ]
  },
  {
   "cell_type": "code",
   "execution_count": 143,
   "id": "939e0c93-9a9e-40c7-aef4-0fe5532c9a8b",
   "metadata": {
    "tags": []
   },
   "outputs": [],
   "source": [
    "#fit model on original data\n",
    "X = insurance[[\"age\"]] \n",
    "y = insurance[\"charges\"] \n",
    "\n",
    "lr = LinearRegression() \n",
    "\n",
    "my_pipeline = Pipeline(\n",
    "    [('ols', lr)] \n",
    ") \n",
    "\n",
    "my_pipeline_fitted = my_pipeline.fit(X, y)\n",
    "\n",
    "#predict with new data\n",
    "X_new = new_insurance[[\"age\"]]\n",
    "y_predict = my_pipeline_fitted.predict(X_new)"
   ]
  },
  {
   "cell_type": "code",
   "execution_count": 144,
   "id": "dc4b577e-00d3-4f69-b27f-954b587f610c",
   "metadata": {
    "tags": []
   },
   "outputs": [
    {
     "data": {
      "text/plain": [
       "136077136.50195494"
      ]
     },
     "execution_count": 144,
     "metadata": {},
     "output_type": "execute_result"
    }
   ],
   "source": [
    "#MSE of new predicted data\n",
    "mse_1 = mean_squared_error(new_insurance[\"charges\"], y_predict)\n",
    "mse_1"
   ]
  },
  {
   "cell_type": "markdown",
   "id": "21531912-7843-49f8-9855-780d9c54317f",
   "metadata": {},
   "source": [
    "### Age and BMI"
   ]
  },
  {
   "cell_type": "code",
   "execution_count": 145,
   "id": "7647f914-f686-4d53-98ab-7e53341c8887",
   "metadata": {
    "tags": []
   },
   "outputs": [],
   "source": [
    "#fit model on original data\n",
    "X_2 = insurance[[\"age\", \"bmi\"]] \n",
    "y_2 = insurance[\"charges\"] \n",
    "\n",
    "my_pipeline = Pipeline(\n",
    "    [('ols', lr)] \n",
    ") \n",
    "\n",
    "my_pipeline_fitted2 = my_pipeline.fit(X_2, y_2)\n",
    "\n",
    "#predict with new data\n",
    "X_new2 = new_insurance[[\"age\", \"bmi\"]]\n",
    "y_predict2 = my_pipeline_fitted2.predict(X_new2)"
   ]
  },
  {
   "cell_type": "code",
   "execution_count": 146,
   "id": "bbf4f981-30ce-4223-8844-0169565fc703",
   "metadata": {
    "tags": []
   },
   "outputs": [
    {
     "data": {
      "text/plain": [
       "132636406.1108129"
      ]
     },
     "execution_count": 146,
     "metadata": {},
     "output_type": "execute_result"
    }
   ],
   "source": [
    "#MSE of new predicted data\n",
    "mse_2 = mean_squared_error(new_insurance[\"charges\"], y_predict2)\n",
    "mse_2"
   ]
  },
  {
   "cell_type": "markdown",
   "id": "990276b0-9e96-48cc-a4c4-73da13ca9b06",
   "metadata": {},
   "source": [
    "### Age, bmi, and smoker"
   ]
  },
  {
   "cell_type": "code",
   "execution_count": 147,
   "id": "f1e0cf72-6e6f-4cd4-9919-d900763069fe",
   "metadata": {
    "tags": []
   },
   "outputs": [],
   "source": [
    "#fit model on original data\n",
    "X_3 = insurance[[\"age\", \"bmi\", \"smoker\"]] \n",
    "y_3 = insurance[\"charges\"] \n",
    "\n",
    "enc = OneHotEncoder()\n",
    "lr = LinearRegression()\n",
    "\n",
    "ct = ColumnTransformer(\n",
    "    [(\"dummify\", enc, [\"smoker\"])]\n",
    ")\n",
    "\n",
    "my_pipeline_dummy = Pipeline(\n",
    "    [(\"dummify_everything\", ct), ('ols', lr)] \n",
    ") \n",
    "\n",
    "my_pipeline_fitted3 = my_pipeline_dummy.fit(X_3, y_3)\n",
    "\n",
    "# #predict with new data\n",
    "X_new3 = new_insurance[[\"age\", \"bmi\", \"smoker\"]]\n",
    "y_predict3 = my_pipeline_fitted3.predict(X_new3)"
   ]
  },
  {
   "cell_type": "code",
   "execution_count": 148,
   "id": "9e83ff26-6d3a-4026-9415-8e8ed984c351",
   "metadata": {
    "tags": []
   },
   "outputs": [
    {
     "data": {
      "text/plain": [
       "64246084.01184816"
      ]
     },
     "execution_count": 148,
     "metadata": {},
     "output_type": "execute_result"
    }
   ],
   "source": [
    "mse_3 = mean_squared_error(new_insurance[\"charges\"], y_predict3)\n",
    "mse_3"
   ]
  },
  {
   "cell_type": "markdown",
   "id": "1c4d2f19-40cc-4247-af9a-cac7e0cf7ad1",
   "metadata": {},
   "source": [
    "### (Age + bmi):smoker"
   ]
  },
  {
   "cell_type": "code",
   "execution_count": 149,
   "id": "764ed69a-cecc-4819-b971-6fe61a12af63",
   "metadata": {
    "tags": []
   },
   "outputs": [
    {
     "data": {
      "text/html": [
       "<div>\n",
       "<style scoped>\n",
       "    .dataframe tbody tr th:only-of-type {\n",
       "        vertical-align: middle;\n",
       "    }\n",
       "\n",
       "    .dataframe tbody tr th {\n",
       "        vertical-align: top;\n",
       "    }\n",
       "\n",
       "    .dataframe thead th {\n",
       "        text-align: right;\n",
       "    }\n",
       "</style>\n",
       "<table border=\"1\" class=\"dataframe\">\n",
       "  <thead>\n",
       "    <tr style=\"text-align: right;\">\n",
       "      <th></th>\n",
       "      <th>age</th>\n",
       "      <th>bmi</th>\n",
       "      <th>region</th>\n",
       "      <th>charges</th>\n",
       "      <th>sex_female</th>\n",
       "      <th>sex_male</th>\n",
       "      <th>smoker_no</th>\n",
       "      <th>smoker_yes</th>\n",
       "    </tr>\n",
       "  </thead>\n",
       "  <tbody>\n",
       "    <tr>\n",
       "      <th>0</th>\n",
       "      <td>19</td>\n",
       "      <td>27.900</td>\n",
       "      <td>southwest</td>\n",
       "      <td>16884.92400</td>\n",
       "      <td>1</td>\n",
       "      <td>0</td>\n",
       "      <td>0</td>\n",
       "      <td>1</td>\n",
       "    </tr>\n",
       "    <tr>\n",
       "      <th>1</th>\n",
       "      <td>33</td>\n",
       "      <td>22.705</td>\n",
       "      <td>northwest</td>\n",
       "      <td>21984.47061</td>\n",
       "      <td>0</td>\n",
       "      <td>1</td>\n",
       "      <td>1</td>\n",
       "      <td>0</td>\n",
       "    </tr>\n",
       "    <tr>\n",
       "      <th>2</th>\n",
       "      <td>32</td>\n",
       "      <td>28.880</td>\n",
       "      <td>northwest</td>\n",
       "      <td>3866.85520</td>\n",
       "      <td>0</td>\n",
       "      <td>1</td>\n",
       "      <td>1</td>\n",
       "      <td>0</td>\n",
       "    </tr>\n",
       "    <tr>\n",
       "      <th>3</th>\n",
       "      <td>31</td>\n",
       "      <td>25.740</td>\n",
       "      <td>southeast</td>\n",
       "      <td>3756.62160</td>\n",
       "      <td>1</td>\n",
       "      <td>0</td>\n",
       "      <td>1</td>\n",
       "      <td>0</td>\n",
       "    </tr>\n",
       "    <tr>\n",
       "      <th>4</th>\n",
       "      <td>60</td>\n",
       "      <td>25.840</td>\n",
       "      <td>northwest</td>\n",
       "      <td>28923.13692</td>\n",
       "      <td>1</td>\n",
       "      <td>0</td>\n",
       "      <td>1</td>\n",
       "      <td>0</td>\n",
       "    </tr>\n",
       "    <tr>\n",
       "      <th>...</th>\n",
       "      <td>...</td>\n",
       "      <td>...</td>\n",
       "      <td>...</td>\n",
       "      <td>...</td>\n",
       "      <td>...</td>\n",
       "      <td>...</td>\n",
       "      <td>...</td>\n",
       "      <td>...</td>\n",
       "    </tr>\n",
       "    <tr>\n",
       "      <th>426</th>\n",
       "      <td>23</td>\n",
       "      <td>33.400</td>\n",
       "      <td>southwest</td>\n",
       "      <td>10795.93733</td>\n",
       "      <td>1</td>\n",
       "      <td>0</td>\n",
       "      <td>1</td>\n",
       "      <td>0</td>\n",
       "    </tr>\n",
       "    <tr>\n",
       "      <th>427</th>\n",
       "      <td>18</td>\n",
       "      <td>31.920</td>\n",
       "      <td>northeast</td>\n",
       "      <td>2205.98080</td>\n",
       "      <td>1</td>\n",
       "      <td>0</td>\n",
       "      <td>1</td>\n",
       "      <td>0</td>\n",
       "    </tr>\n",
       "    <tr>\n",
       "      <th>428</th>\n",
       "      <td>18</td>\n",
       "      <td>36.850</td>\n",
       "      <td>southeast</td>\n",
       "      <td>1629.83350</td>\n",
       "      <td>1</td>\n",
       "      <td>0</td>\n",
       "      <td>1</td>\n",
       "      <td>0</td>\n",
       "    </tr>\n",
       "    <tr>\n",
       "      <th>429</th>\n",
       "      <td>21</td>\n",
       "      <td>25.800</td>\n",
       "      <td>southwest</td>\n",
       "      <td>2007.94500</td>\n",
       "      <td>1</td>\n",
       "      <td>0</td>\n",
       "      <td>1</td>\n",
       "      <td>0</td>\n",
       "    </tr>\n",
       "    <tr>\n",
       "      <th>430</th>\n",
       "      <td>61</td>\n",
       "      <td>29.070</td>\n",
       "      <td>northwest</td>\n",
       "      <td>29141.36030</td>\n",
       "      <td>1</td>\n",
       "      <td>0</td>\n",
       "      <td>0</td>\n",
       "      <td>1</td>\n",
       "    </tr>\n",
       "  </tbody>\n",
       "</table>\n",
       "<p>431 rows × 8 columns</p>\n",
       "</div>"
      ],
      "text/plain": [
       "     age     bmi     region      charges  sex_female  sex_male  smoker_no  \\\n",
       "0     19  27.900  southwest  16884.92400           1         0          0   \n",
       "1     33  22.705  northwest  21984.47061           0         1          1   \n",
       "2     32  28.880  northwest   3866.85520           0         1          1   \n",
       "3     31  25.740  southeast   3756.62160           1         0          1   \n",
       "4     60  25.840  northwest  28923.13692           1         0          1   \n",
       "..   ...     ...        ...          ...         ...       ...        ...   \n",
       "426   23  33.400  southwest  10795.93733           1         0          1   \n",
       "427   18  31.920  northeast   2205.98080           1         0          1   \n",
       "428   18  36.850  southeast   1629.83350           1         0          1   \n",
       "429   21  25.800  southwest   2007.94500           1         0          1   \n",
       "430   61  29.070  northwest  29141.36030           1         0          0   \n",
       "\n",
       "     smoker_yes  \n",
       "0             1  \n",
       "1             0  \n",
       "2             0  \n",
       "3             0  \n",
       "4             0  \n",
       "..          ...  \n",
       "426           0  \n",
       "427           0  \n",
       "428           0  \n",
       "429           0  \n",
       "430           1  \n",
       "\n",
       "[431 rows x 8 columns]"
      ]
     },
     "execution_count": 149,
     "metadata": {},
     "output_type": "execute_result"
    }
   ],
   "source": [
    "#first dummify smoker and sex\n",
    "insurance_dummy = pd.get_dummies(insurance, columns = [\"sex\", \"smoker\"])\n",
    "insurance_dummy"
   ]
  },
  {
   "cell_type": "code",
   "execution_count": 150,
   "id": "c7820ab6-ce42-4bf9-9f95-0326c352b061",
   "metadata": {
    "tags": []
   },
   "outputs": [
    {
     "data": {
      "text/html": [
       "<div>\n",
       "<style scoped>\n",
       "    .dataframe tbody tr th:only-of-type {\n",
       "        vertical-align: middle;\n",
       "    }\n",
       "\n",
       "    .dataframe tbody tr th {\n",
       "        vertical-align: top;\n",
       "    }\n",
       "\n",
       "    .dataframe thead th {\n",
       "        text-align: right;\n",
       "    }\n",
       "</style>\n",
       "<table border=\"1\" class=\"dataframe\">\n",
       "  <thead>\n",
       "    <tr style=\"text-align: right;\">\n",
       "      <th></th>\n",
       "      <th>age</th>\n",
       "      <th>bmi</th>\n",
       "      <th>region</th>\n",
       "      <th>charges</th>\n",
       "      <th>sex_female</th>\n",
       "      <th>sex_male</th>\n",
       "      <th>smoker_no</th>\n",
       "      <th>smoker_yes</th>\n",
       "      <th>age_smoker_no</th>\n",
       "      <th>age_smoker_yes</th>\n",
       "      <th>bmi_smoker_no</th>\n",
       "      <th>bmi_smoker_yes</th>\n",
       "    </tr>\n",
       "  </thead>\n",
       "  <tbody>\n",
       "    <tr>\n",
       "      <th>0</th>\n",
       "      <td>19</td>\n",
       "      <td>27.900</td>\n",
       "      <td>southwest</td>\n",
       "      <td>16884.92400</td>\n",
       "      <td>1</td>\n",
       "      <td>0</td>\n",
       "      <td>0</td>\n",
       "      <td>1</td>\n",
       "      <td>0</td>\n",
       "      <td>19</td>\n",
       "      <td>0.000</td>\n",
       "      <td>27.90</td>\n",
       "    </tr>\n",
       "    <tr>\n",
       "      <th>1</th>\n",
       "      <td>33</td>\n",
       "      <td>22.705</td>\n",
       "      <td>northwest</td>\n",
       "      <td>21984.47061</td>\n",
       "      <td>0</td>\n",
       "      <td>1</td>\n",
       "      <td>1</td>\n",
       "      <td>0</td>\n",
       "      <td>33</td>\n",
       "      <td>0</td>\n",
       "      <td>22.705</td>\n",
       "      <td>0.00</td>\n",
       "    </tr>\n",
       "    <tr>\n",
       "      <th>2</th>\n",
       "      <td>32</td>\n",
       "      <td>28.880</td>\n",
       "      <td>northwest</td>\n",
       "      <td>3866.85520</td>\n",
       "      <td>0</td>\n",
       "      <td>1</td>\n",
       "      <td>1</td>\n",
       "      <td>0</td>\n",
       "      <td>32</td>\n",
       "      <td>0</td>\n",
       "      <td>28.880</td>\n",
       "      <td>0.00</td>\n",
       "    </tr>\n",
       "    <tr>\n",
       "      <th>3</th>\n",
       "      <td>31</td>\n",
       "      <td>25.740</td>\n",
       "      <td>southeast</td>\n",
       "      <td>3756.62160</td>\n",
       "      <td>1</td>\n",
       "      <td>0</td>\n",
       "      <td>1</td>\n",
       "      <td>0</td>\n",
       "      <td>31</td>\n",
       "      <td>0</td>\n",
       "      <td>25.740</td>\n",
       "      <td>0.00</td>\n",
       "    </tr>\n",
       "    <tr>\n",
       "      <th>4</th>\n",
       "      <td>60</td>\n",
       "      <td>25.840</td>\n",
       "      <td>northwest</td>\n",
       "      <td>28923.13692</td>\n",
       "      <td>1</td>\n",
       "      <td>0</td>\n",
       "      <td>1</td>\n",
       "      <td>0</td>\n",
       "      <td>60</td>\n",
       "      <td>0</td>\n",
       "      <td>25.840</td>\n",
       "      <td>0.00</td>\n",
       "    </tr>\n",
       "    <tr>\n",
       "      <th>...</th>\n",
       "      <td>...</td>\n",
       "      <td>...</td>\n",
       "      <td>...</td>\n",
       "      <td>...</td>\n",
       "      <td>...</td>\n",
       "      <td>...</td>\n",
       "      <td>...</td>\n",
       "      <td>...</td>\n",
       "      <td>...</td>\n",
       "      <td>...</td>\n",
       "      <td>...</td>\n",
       "      <td>...</td>\n",
       "    </tr>\n",
       "    <tr>\n",
       "      <th>426</th>\n",
       "      <td>23</td>\n",
       "      <td>33.400</td>\n",
       "      <td>southwest</td>\n",
       "      <td>10795.93733</td>\n",
       "      <td>1</td>\n",
       "      <td>0</td>\n",
       "      <td>1</td>\n",
       "      <td>0</td>\n",
       "      <td>23</td>\n",
       "      <td>0</td>\n",
       "      <td>33.400</td>\n",
       "      <td>0.00</td>\n",
       "    </tr>\n",
       "    <tr>\n",
       "      <th>427</th>\n",
       "      <td>18</td>\n",
       "      <td>31.920</td>\n",
       "      <td>northeast</td>\n",
       "      <td>2205.98080</td>\n",
       "      <td>1</td>\n",
       "      <td>0</td>\n",
       "      <td>1</td>\n",
       "      <td>0</td>\n",
       "      <td>18</td>\n",
       "      <td>0</td>\n",
       "      <td>31.920</td>\n",
       "      <td>0.00</td>\n",
       "    </tr>\n",
       "    <tr>\n",
       "      <th>428</th>\n",
       "      <td>18</td>\n",
       "      <td>36.850</td>\n",
       "      <td>southeast</td>\n",
       "      <td>1629.83350</td>\n",
       "      <td>1</td>\n",
       "      <td>0</td>\n",
       "      <td>1</td>\n",
       "      <td>0</td>\n",
       "      <td>18</td>\n",
       "      <td>0</td>\n",
       "      <td>36.850</td>\n",
       "      <td>0.00</td>\n",
       "    </tr>\n",
       "    <tr>\n",
       "      <th>429</th>\n",
       "      <td>21</td>\n",
       "      <td>25.800</td>\n",
       "      <td>southwest</td>\n",
       "      <td>2007.94500</td>\n",
       "      <td>1</td>\n",
       "      <td>0</td>\n",
       "      <td>1</td>\n",
       "      <td>0</td>\n",
       "      <td>21</td>\n",
       "      <td>0</td>\n",
       "      <td>25.800</td>\n",
       "      <td>0.00</td>\n",
       "    </tr>\n",
       "    <tr>\n",
       "      <th>430</th>\n",
       "      <td>61</td>\n",
       "      <td>29.070</td>\n",
       "      <td>northwest</td>\n",
       "      <td>29141.36030</td>\n",
       "      <td>1</td>\n",
       "      <td>0</td>\n",
       "      <td>0</td>\n",
       "      <td>1</td>\n",
       "      <td>0</td>\n",
       "      <td>61</td>\n",
       "      <td>0.000</td>\n",
       "      <td>29.07</td>\n",
       "    </tr>\n",
       "  </tbody>\n",
       "</table>\n",
       "<p>431 rows × 12 columns</p>\n",
       "</div>"
      ],
      "text/plain": [
       "     age     bmi     region      charges  sex_female  sex_male  smoker_no  \\\n",
       "0     19  27.900  southwest  16884.92400           1         0          0   \n",
       "1     33  22.705  northwest  21984.47061           0         1          1   \n",
       "2     32  28.880  northwest   3866.85520           0         1          1   \n",
       "3     31  25.740  southeast   3756.62160           1         0          1   \n",
       "4     60  25.840  northwest  28923.13692           1         0          1   \n",
       "..   ...     ...        ...          ...         ...       ...        ...   \n",
       "426   23  33.400  southwest  10795.93733           1         0          1   \n",
       "427   18  31.920  northeast   2205.98080           1         0          1   \n",
       "428   18  36.850  southeast   1629.83350           1         0          1   \n",
       "429   21  25.800  southwest   2007.94500           1         0          1   \n",
       "430   61  29.070  northwest  29141.36030           1         0          0   \n",
       "\n",
       "     smoker_yes  age_smoker_no  age_smoker_yes  bmi_smoker_no  bmi_smoker_yes  \n",
       "0             1              0              19          0.000           27.90  \n",
       "1             0             33               0         22.705            0.00  \n",
       "2             0             32               0         28.880            0.00  \n",
       "3             0             31               0         25.740            0.00  \n",
       "4             0             60               0         25.840            0.00  \n",
       "..          ...            ...             ...            ...             ...  \n",
       "426           0             23               0         33.400            0.00  \n",
       "427           0             18               0         31.920            0.00  \n",
       "428           0             18               0         36.850            0.00  \n",
       "429           0             21               0         25.800            0.00  \n",
       "430           1              0              61          0.000           29.07  \n",
       "\n",
       "[431 rows x 12 columns]"
      ]
     },
     "execution_count": 150,
     "metadata": {},
     "output_type": "execute_result"
    }
   ],
   "source": [
    "#interaction between age and smoker; bmi and smoker\n",
    "insurance_dummy[\"age_smoker_no\"] = insurance_dummy[\"age\"] * insurance_dummy[\"smoker_no\"]\n",
    "insurance_dummy[\"age_smoker_yes\"] = insurance_dummy[\"age\"] * insurance_dummy[\"smoker_yes\"]\n",
    "insurance_dummy[\"bmi_smoker_no\"] = insurance_dummy[\"bmi\"] * insurance_dummy[\"smoker_no\"]\n",
    "insurance_dummy[\"bmi_smoker_yes\"] = insurance_dummy[\"bmi\"] * insurance_dummy[\"smoker_yes\"]\n",
    "insurance_dummy"
   ]
  },
  {
   "cell_type": "code",
   "execution_count": 151,
   "id": "e3dee4b8-bd33-4879-bcc7-2d005453f825",
   "metadata": {
    "tags": []
   },
   "outputs": [],
   "source": [
    "#fit model to original data\n",
    "X_4 = insurance_dummy[[\"age_smoker_yes\", \"bmi_smoker_yes\"]]\n",
    "y_4 = insurance_dummy[\"charges\"]\n",
    "\n",
    "lr = LinearRegression()\n",
    "\n",
    "my_pipeline = Pipeline(\n",
    "    [('ols', lr)] \n",
    ") \n",
    "\n",
    "my_pipeline_fitted4 = my_pipeline.fit(X_4, y_4)"
   ]
  },
  {
   "cell_type": "code",
   "execution_count": 152,
   "id": "4b96ab08-d101-4b5a-8e8f-775d5f00af3e",
   "metadata": {
    "tags": []
   },
   "outputs": [
    {
     "data": {
      "text/html": [
       "<div>\n",
       "<style scoped>\n",
       "    .dataframe tbody tr th:only-of-type {\n",
       "        vertical-align: middle;\n",
       "    }\n",
       "\n",
       "    .dataframe tbody tr th {\n",
       "        vertical-align: top;\n",
       "    }\n",
       "\n",
       "    .dataframe thead th {\n",
       "        text-align: right;\n",
       "    }\n",
       "</style>\n",
       "<table border=\"1\" class=\"dataframe\">\n",
       "  <thead>\n",
       "    <tr style=\"text-align: right;\">\n",
       "      <th></th>\n",
       "      <th>age</th>\n",
       "      <th>bmi</th>\n",
       "      <th>region</th>\n",
       "      <th>charges</th>\n",
       "      <th>sex_female</th>\n",
       "      <th>sex_male</th>\n",
       "      <th>smoker_no</th>\n",
       "      <th>smoker_yes</th>\n",
       "      <th>age_smoker_no</th>\n",
       "      <th>age_smoker_yes</th>\n",
       "      <th>bmi_smoker_no</th>\n",
       "      <th>bmi_smoker_yes</th>\n",
       "    </tr>\n",
       "  </thead>\n",
       "  <tbody>\n",
       "    <tr>\n",
       "      <th>0</th>\n",
       "      <td>23</td>\n",
       "      <td>34.400</td>\n",
       "      <td>southwest</td>\n",
       "      <td>1826.84300</td>\n",
       "      <td>0</td>\n",
       "      <td>1</td>\n",
       "      <td>1</td>\n",
       "      <td>0</td>\n",
       "      <td>23</td>\n",
       "      <td>0</td>\n",
       "      <td>34.400</td>\n",
       "      <td>0.00</td>\n",
       "    </tr>\n",
       "    <tr>\n",
       "      <th>1</th>\n",
       "      <td>56</td>\n",
       "      <td>40.300</td>\n",
       "      <td>southwest</td>\n",
       "      <td>10602.38500</td>\n",
       "      <td>0</td>\n",
       "      <td>1</td>\n",
       "      <td>1</td>\n",
       "      <td>0</td>\n",
       "      <td>56</td>\n",
       "      <td>0</td>\n",
       "      <td>40.300</td>\n",
       "      <td>0.00</td>\n",
       "    </tr>\n",
       "    <tr>\n",
       "      <th>2</th>\n",
       "      <td>18</td>\n",
       "      <td>34.100</td>\n",
       "      <td>southeast</td>\n",
       "      <td>1137.01100</td>\n",
       "      <td>0</td>\n",
       "      <td>1</td>\n",
       "      <td>1</td>\n",
       "      <td>0</td>\n",
       "      <td>18</td>\n",
       "      <td>0</td>\n",
       "      <td>34.100</td>\n",
       "      <td>0.00</td>\n",
       "    </tr>\n",
       "    <tr>\n",
       "      <th>3</th>\n",
       "      <td>63</td>\n",
       "      <td>23.085</td>\n",
       "      <td>northeast</td>\n",
       "      <td>14451.83515</td>\n",
       "      <td>1</td>\n",
       "      <td>0</td>\n",
       "      <td>1</td>\n",
       "      <td>0</td>\n",
       "      <td>63</td>\n",
       "      <td>0</td>\n",
       "      <td>23.085</td>\n",
       "      <td>0.00</td>\n",
       "    </tr>\n",
       "    <tr>\n",
       "      <th>4</th>\n",
       "      <td>63</td>\n",
       "      <td>28.310</td>\n",
       "      <td>northwest</td>\n",
       "      <td>13770.09790</td>\n",
       "      <td>0</td>\n",
       "      <td>1</td>\n",
       "      <td>1</td>\n",
       "      <td>0</td>\n",
       "      <td>63</td>\n",
       "      <td>0</td>\n",
       "      <td>28.310</td>\n",
       "      <td>0.00</td>\n",
       "    </tr>\n",
       "    <tr>\n",
       "      <th>...</th>\n",
       "      <td>...</td>\n",
       "      <td>...</td>\n",
       "      <td>...</td>\n",
       "      <td>...</td>\n",
       "      <td>...</td>\n",
       "      <td>...</td>\n",
       "      <td>...</td>\n",
       "      <td>...</td>\n",
       "      <td>...</td>\n",
       "      <td>...</td>\n",
       "      <td>...</td>\n",
       "      <td>...</td>\n",
       "    </tr>\n",
       "    <tr>\n",
       "      <th>138</th>\n",
       "      <td>19</td>\n",
       "      <td>34.900</td>\n",
       "      <td>southwest</td>\n",
       "      <td>34828.65400</td>\n",
       "      <td>0</td>\n",
       "      <td>1</td>\n",
       "      <td>0</td>\n",
       "      <td>1</td>\n",
       "      <td>0</td>\n",
       "      <td>19</td>\n",
       "      <td>0.000</td>\n",
       "      <td>34.90</td>\n",
       "    </tr>\n",
       "    <tr>\n",
       "      <th>139</th>\n",
       "      <td>45</td>\n",
       "      <td>30.360</td>\n",
       "      <td>southeast</td>\n",
       "      <td>62592.87309</td>\n",
       "      <td>0</td>\n",
       "      <td>1</td>\n",
       "      <td>0</td>\n",
       "      <td>1</td>\n",
       "      <td>0</td>\n",
       "      <td>45</td>\n",
       "      <td>0.000</td>\n",
       "      <td>30.36</td>\n",
       "    </tr>\n",
       "    <tr>\n",
       "      <th>140</th>\n",
       "      <td>43</td>\n",
       "      <td>27.800</td>\n",
       "      <td>southwest</td>\n",
       "      <td>37829.72420</td>\n",
       "      <td>0</td>\n",
       "      <td>1</td>\n",
       "      <td>0</td>\n",
       "      <td>1</td>\n",
       "      <td>0</td>\n",
       "      <td>43</td>\n",
       "      <td>0.000</td>\n",
       "      <td>27.80</td>\n",
       "    </tr>\n",
       "    <tr>\n",
       "      <th>141</th>\n",
       "      <td>24</td>\n",
       "      <td>27.720</td>\n",
       "      <td>southeast</td>\n",
       "      <td>2464.61880</td>\n",
       "      <td>1</td>\n",
       "      <td>0</td>\n",
       "      <td>1</td>\n",
       "      <td>0</td>\n",
       "      <td>24</td>\n",
       "      <td>0</td>\n",
       "      <td>27.720</td>\n",
       "      <td>0.00</td>\n",
       "    </tr>\n",
       "    <tr>\n",
       "      <th>142</th>\n",
       "      <td>18</td>\n",
       "      <td>53.130</td>\n",
       "      <td>southeast</td>\n",
       "      <td>1163.46270</td>\n",
       "      <td>0</td>\n",
       "      <td>1</td>\n",
       "      <td>1</td>\n",
       "      <td>0</td>\n",
       "      <td>18</td>\n",
       "      <td>0</td>\n",
       "      <td>53.130</td>\n",
       "      <td>0.00</td>\n",
       "    </tr>\n",
       "  </tbody>\n",
       "</table>\n",
       "<p>143 rows × 12 columns</p>\n",
       "</div>"
      ],
      "text/plain": [
       "     age     bmi     region      charges  sex_female  sex_male  smoker_no  \\\n",
       "0     23  34.400  southwest   1826.84300           0         1          1   \n",
       "1     56  40.300  southwest  10602.38500           0         1          1   \n",
       "2     18  34.100  southeast   1137.01100           0         1          1   \n",
       "3     63  23.085  northeast  14451.83515           1         0          1   \n",
       "4     63  28.310  northwest  13770.09790           0         1          1   \n",
       "..   ...     ...        ...          ...         ...       ...        ...   \n",
       "138   19  34.900  southwest  34828.65400           0         1          0   \n",
       "139   45  30.360  southeast  62592.87309           0         1          0   \n",
       "140   43  27.800  southwest  37829.72420           0         1          0   \n",
       "141   24  27.720  southeast   2464.61880           1         0          1   \n",
       "142   18  53.130  southeast   1163.46270           0         1          1   \n",
       "\n",
       "     smoker_yes  age_smoker_no  age_smoker_yes  bmi_smoker_no  bmi_smoker_yes  \n",
       "0             0             23               0         34.400            0.00  \n",
       "1             0             56               0         40.300            0.00  \n",
       "2             0             18               0         34.100            0.00  \n",
       "3             0             63               0         23.085            0.00  \n",
       "4             0             63               0         28.310            0.00  \n",
       "..          ...            ...             ...            ...             ...  \n",
       "138           1              0              19          0.000           34.90  \n",
       "139           1              0              45          0.000           30.36  \n",
       "140           1              0              43          0.000           27.80  \n",
       "141           0             24               0         27.720            0.00  \n",
       "142           0             18               0         53.130            0.00  \n",
       "\n",
       "[143 rows x 12 columns]"
      ]
     },
     "execution_count": 152,
     "metadata": {},
     "output_type": "execute_result"
    }
   ],
   "source": [
    "#dummify new insurance data as well, and do interactions\n",
    "new_insurance_dummy = pd.get_dummies(new_insurance, columns = [\"sex\", \"smoker\"])\n",
    "\n",
    "#interaction between age and smoker; bmi and smoker\n",
    "new_insurance_dummy[\"age_smoker_no\"] = new_insurance_dummy[\"age\"] * new_insurance_dummy[\"smoker_no\"]\n",
    "new_insurance_dummy[\"age_smoker_yes\"] = new_insurance_dummy[\"age\"] * new_insurance_dummy[\"smoker_yes\"]\n",
    "new_insurance_dummy[\"bmi_smoker_no\"] = new_insurance_dummy[\"bmi\"] * new_insurance_dummy[\"smoker_no\"]\n",
    "new_insurance_dummy[\"bmi_smoker_yes\"] = new_insurance_dummy[\"bmi\"] * new_insurance_dummy[\"smoker_yes\"]\n",
    "new_insurance_dummy"
   ]
  },
  {
   "cell_type": "code",
   "execution_count": 153,
   "id": "33a32233-2b9a-4b50-9e93-46bf4500531d",
   "metadata": {
    "tags": []
   },
   "outputs": [],
   "source": [
    "#predict with new data\n",
    "X_new4 = new_insurance_dummy[[\"age_smoker_yes\", \"bmi_smoker_yes\"]]\n",
    "y_predict4 = my_pipeline_fitted4.predict(X_new4)"
   ]
  },
  {
   "cell_type": "code",
   "execution_count": 154,
   "id": "6d29481b-a9d5-4699-88aa-8492ebcd7764",
   "metadata": {
    "tags": []
   },
   "outputs": [
    {
     "data": {
      "text/plain": [
       "47626025.35814418"
      ]
     },
     "execution_count": 154,
     "metadata": {},
     "output_type": "execute_result"
    }
   ],
   "source": [
    "#Mean square error\n",
    "mse_4 = mean_squared_error(new_insurance_dummy[\"charges\"], y_predict4)\n",
    "mse_4"
   ]
  },
  {
   "cell_type": "markdown",
   "id": "bdae832a-3d1d-4131-95f3-5044f1d19746",
   "metadata": {
    "tags": []
   },
   "source": [
    "### (Age + bmi)*smoker"
   ]
  },
  {
   "cell_type": "code",
   "execution_count": 155,
   "id": "515cdf42-7655-439e-af00-1e6c4eddfc99",
   "metadata": {
    "tags": []
   },
   "outputs": [],
   "source": [
    "#predictor variables are age, bmi, smoker, age*smoker, bmi*smoker\n",
    "#make sure to drop a dummy variable to have a \"reference\"\n",
    "\n",
    "X_5 = insurance_dummy[[\"age\", \"bmi\", \"smoker_yes\", \"age_smoker_yes\", \"bmi_smoker_yes\"]]\n",
    "y_5 = insurance_dummy[\"charges\"]\n",
    "\n",
    "lr = LinearRegression()\n",
    "\n",
    "my_pipeline = Pipeline(\n",
    "    [('ols', lr)] \n",
    ") \n",
    "\n",
    "my_pipeline_fitted5 = my_pipeline.fit(X_5, y_5)"
   ]
  },
  {
   "cell_type": "code",
   "execution_count": 156,
   "id": "0b2805e2-c047-45b7-aba8-c66d7f7527cf",
   "metadata": {
    "tags": []
   },
   "outputs": [],
   "source": [
    "X_new5 = new_insurance_dummy[[\"age\", \"bmi\", \"smoker_yes\", \"age_smoker_yes\", \"bmi_smoker_yes\"]]\n",
    "y_predict5 = my_pipeline_fitted5.predict(X_new5)"
   ]
  },
  {
   "cell_type": "code",
   "execution_count": 157,
   "id": "ab727b6e-c3fa-411b-8068-1c7f79cbf78d",
   "metadata": {
    "tags": []
   },
   "outputs": [
    {
     "data": {
      "text/plain": [
       "21786256.86685256"
      ]
     },
     "execution_count": 157,
     "metadata": {},
     "output_type": "execute_result"
    }
   ],
   "source": [
    "mse_5 = mean_squared_error(new_insurance_dummy[\"charges\"], y_predict5)\n",
    "mse_5"
   ]
  },
  {
   "cell_type": "code",
   "execution_count": 176,
   "id": "a103543b-be40-41f6-a7b9-94d36cfa9be3",
   "metadata": {
    "tags": []
   },
   "outputs": [
    {
     "data": {
      "text/plain": [
       "0.8594886795699617"
      ]
     },
     "execution_count": 176,
     "metadata": {},
     "output_type": "execute_result"
    }
   ],
   "source": [
    "#R2 score\n",
    "r2_score(new_insurance_dummy[\"charges\"], y_predict5)"
   ]
  },
  {
   "cell_type": "code",
   "execution_count": 158,
   "id": "d020bdc7-5760-472d-a96f-5094074c7dea",
   "metadata": {
    "tags": []
   },
   "outputs": [
    {
     "data": {
      "text/html": [
       "<div>\n",
       "<style scoped>\n",
       "    .dataframe tbody tr th:only-of-type {\n",
       "        vertical-align: middle;\n",
       "    }\n",
       "\n",
       "    .dataframe tbody tr th {\n",
       "        vertical-align: top;\n",
       "    }\n",
       "\n",
       "    .dataframe thead th {\n",
       "        text-align: right;\n",
       "    }\n",
       "</style>\n",
       "<table border=\"1\" class=\"dataframe\">\n",
       "  <thead>\n",
       "    <tr style=\"text-align: right;\">\n",
       "      <th></th>\n",
       "      <th>model number</th>\n",
       "      <th>mse</th>\n",
       "    </tr>\n",
       "  </thead>\n",
       "  <tbody>\n",
       "    <tr>\n",
       "      <th>4</th>\n",
       "      <td>5</td>\n",
       "      <td>2.178626e+07</td>\n",
       "    </tr>\n",
       "    <tr>\n",
       "      <th>3</th>\n",
       "      <td>4</td>\n",
       "      <td>4.762603e+07</td>\n",
       "    </tr>\n",
       "    <tr>\n",
       "      <th>2</th>\n",
       "      <td>3</td>\n",
       "      <td>6.424608e+07</td>\n",
       "    </tr>\n",
       "    <tr>\n",
       "      <th>1</th>\n",
       "      <td>2</td>\n",
       "      <td>1.326364e+08</td>\n",
       "    </tr>\n",
       "    <tr>\n",
       "      <th>0</th>\n",
       "      <td>1</td>\n",
       "      <td>1.360771e+08</td>\n",
       "    </tr>\n",
       "  </tbody>\n",
       "</table>\n",
       "</div>"
      ],
      "text/plain": [
       "   model number           mse\n",
       "4             5  2.178626e+07\n",
       "3             4  4.762603e+07\n",
       "2             3  6.424608e+07\n",
       "1             2  1.326364e+08\n",
       "0             1  1.360771e+08"
      ]
     },
     "execution_count": 158,
     "metadata": {},
     "output_type": "execute_result"
    }
   ],
   "source": [
    "#combine all of the mean square errors\n",
    "\n",
    "model_num = [1, 2, 3, 4, 5]\n",
    "mse_list = [mse_1, mse_2, mse_3, mse_4, mse_5]\n",
    "\n",
    "df_mse = pd.DataFrame({\"model number\": model_num,\n",
    "                      \"mse\": mse_list})\n",
    "df_mse.sort_values(by = \"mse\", ascending = True)\n"
   ]
  },
  {
   "cell_type": "markdown",
   "id": "fc512e15-cc0d-442b-80ec-3309b468b6bd",
   "metadata": {},
   "source": [
    "Looking at the table created above, the mean squared error for model 5 is the smallest. This means that model 5 is the best model to use."
   ]
  },
  {
   "cell_type": "markdown",
   "id": "7deec9a4-66b0-4826-abda-aa017cfb838d",
   "metadata": {},
   "source": [
    "### Plot of residuals for Model 5 (age+bmi)*smoker"
   ]
  },
  {
   "cell_type": "code",
   "execution_count": 159,
   "id": "049ffca2-f8ac-4915-abb0-cef5ccc9db38",
   "metadata": {
    "tags": []
   },
   "outputs": [
    {
     "data": {
      "text/plain": [
       "0      -1771.030351\n",
       "1      -1547.051734\n",
       "2      -1168.355140\n",
       "3        587.432573\n",
       "4       -122.316796\n",
       "           ...     \n",
       "138     1798.448684\n",
       "139    29922.612042\n",
       "140     9456.425281\n",
       "141    -1355.621700\n",
       "142    -1243.926527\n",
       "Name: charges, Length: 143, dtype: float64"
      ]
     },
     "execution_count": 159,
     "metadata": {},
     "output_type": "execute_result"
    }
   ],
   "source": [
    "#residuals = actual - predicted\n",
    "y_actual = new_insurance_dummy[\"charges\"]\n",
    "residuals = y_actual - y_predict5\n",
    "residuals"
   ]
  },
  {
   "cell_type": "code",
   "execution_count": 160,
   "id": "f1c006c8-358b-47c8-abc3-63846908ce79",
   "metadata": {
    "tags": []
   },
   "outputs": [],
   "source": [
    "#data frame of actual, predicted and residual values\n",
    "residual_df = pd.DataFrame({\"y_actual\": y_actual,\n",
    "                            \"y_predicted\": y_predict5,\n",
    "                            \"residuals\": residuals})"
   ]
  },
  {
   "cell_type": "code",
   "execution_count": 161,
   "id": "a4084f24-33b1-4e94-8491-bfbd9c8d89ce",
   "metadata": {
    "tags": []
   },
   "outputs": [
    {
     "data": {
      "image/png": "[encoded data removed]",
      "text/plain": [
       "<Figure size 640x480 with 1 Axes>"
      ]
     },
     "metadata": {
      "image/png": {
       "height": 480,
       "width": 640
      }
     },
     "output_type": "display_data"
    },
    {
     "data": {
      "text/plain": [
       "<Figure Size: (640 x 480)>"
      ]
     },
     "execution_count": 161,
     "metadata": {},
     "output_type": "execute_result"
    }
   ],
   "source": [
    "#plot of residuals (x = predicted, y = residuals)\n",
    "(ggplot(residual_df, aes(x = \"y_predicted\", y = \"residuals\"))\n",
    " + geom_point()\n",
    " + geom_line(aes(y = 0), color = \"red\")\n",
    ")"
   ]
  },
  {
   "cell_type": "markdown",
   "id": "a0f2175d-437b-4ac4-b536-264b252d61a8",
   "metadata": {},
   "source": [
    "# Data Exploration"
   ]
  },
  {
   "cell_type": "code",
   "execution_count": 175,
   "id": "bf5147ca-37fa-4dbc-8940-ef8c0ddd0886",
   "metadata": {
    "tags": []
   },
   "outputs": [
    {
     "data": {
      "text/html": [
       "<div>\n",
       "<style scoped>\n",
       "    .dataframe tbody tr th:only-of-type {\n",
       "        vertical-align: middle;\n",
       "    }\n",
       "\n",
       "    .dataframe tbody tr th {\n",
       "        vertical-align: top;\n",
       "    }\n",
       "\n",
       "    .dataframe thead th {\n",
       "        text-align: right;\n",
       "    }\n",
       "</style>\n",
       "<table border=\"1\" class=\"dataframe\">\n",
       "  <thead>\n",
       "    <tr style=\"text-align: right;\">\n",
       "      <th></th>\n",
       "      <th>age</th>\n",
       "      <th>bmi</th>\n",
       "      <th>region</th>\n",
       "      <th>charges</th>\n",
       "      <th>sex_female</th>\n",
       "      <th>sex_male</th>\n",
       "      <th>smoker_no</th>\n",
       "      <th>smoker_yes</th>\n",
       "      <th>age_smoker_no</th>\n",
       "      <th>age_smoker_yes</th>\n",
       "      <th>bmi_smoker_no</th>\n",
       "      <th>bmi_smoker_yes</th>\n",
       "      <th>age_bmi</th>\n",
       "    </tr>\n",
       "  </thead>\n",
       "  <tbody>\n",
       "    <tr>\n",
       "      <th>0</th>\n",
       "      <td>19</td>\n",
       "      <td>27.900</td>\n",
       "      <td>southwest</td>\n",
       "      <td>16884.92400</td>\n",
       "      <td>1</td>\n",
       "      <td>0</td>\n",
       "      <td>0</td>\n",
       "      <td>1</td>\n",
       "      <td>0</td>\n",
       "      <td>19</td>\n",
       "      <td>0.000</td>\n",
       "      <td>27.90</td>\n",
       "      <td>530.100</td>\n",
       "    </tr>\n",
       "    <tr>\n",
       "      <th>1</th>\n",
       "      <td>33</td>\n",
       "      <td>22.705</td>\n",
       "      <td>northwest</td>\n",
       "      <td>21984.47061</td>\n",
       "      <td>0</td>\n",
       "      <td>1</td>\n",
       "      <td>1</td>\n",
       "      <td>0</td>\n",
       "      <td>33</td>\n",
       "      <td>0</td>\n",
       "      <td>22.705</td>\n",
       "      <td>0.00</td>\n",
       "      <td>749.265</td>\n",
       "    </tr>\n",
       "    <tr>\n",
       "      <th>2</th>\n",
       "      <td>32</td>\n",
       "      <td>28.880</td>\n",
       "      <td>northwest</td>\n",
       "      <td>3866.85520</td>\n",
       "      <td>0</td>\n",
       "      <td>1</td>\n",
       "      <td>1</td>\n",
       "      <td>0</td>\n",
       "      <td>32</td>\n",
       "      <td>0</td>\n",
       "      <td>28.880</td>\n",
       "      <td>0.00</td>\n",
       "      <td>924.160</td>\n",
       "    </tr>\n",
       "    <tr>\n",
       "      <th>3</th>\n",
       "      <td>31</td>\n",
       "      <td>25.740</td>\n",
       "      <td>southeast</td>\n",
       "      <td>3756.62160</td>\n",
       "      <td>1</td>\n",
       "      <td>0</td>\n",
       "      <td>1</td>\n",
       "      <td>0</td>\n",
       "      <td>31</td>\n",
       "      <td>0</td>\n",
       "      <td>25.740</td>\n",
       "      <td>0.00</td>\n",
       "      <td>797.940</td>\n",
       "    </tr>\n",
       "    <tr>\n",
       "      <th>4</th>\n",
       "      <td>60</td>\n",
       "      <td>25.840</td>\n",
       "      <td>northwest</td>\n",
       "      <td>28923.13692</td>\n",
       "      <td>1</td>\n",
       "      <td>0</td>\n",
       "      <td>1</td>\n",
       "      <td>0</td>\n",
       "      <td>60</td>\n",
       "      <td>0</td>\n",
       "      <td>25.840</td>\n",
       "      <td>0.00</td>\n",
       "      <td>1550.400</td>\n",
       "    </tr>\n",
       "    <tr>\n",
       "      <th>...</th>\n",
       "      <td>...</td>\n",
       "      <td>...</td>\n",
       "      <td>...</td>\n",
       "      <td>...</td>\n",
       "      <td>...</td>\n",
       "      <td>...</td>\n",
       "      <td>...</td>\n",
       "      <td>...</td>\n",
       "      <td>...</td>\n",
       "      <td>...</td>\n",
       "      <td>...</td>\n",
       "      <td>...</td>\n",
       "      <td>...</td>\n",
       "    </tr>\n",
       "    <tr>\n",
       "      <th>426</th>\n",
       "      <td>23</td>\n",
       "      <td>33.400</td>\n",
       "      <td>southwest</td>\n",
       "      <td>10795.93733</td>\n",
       "      <td>1</td>\n",
       "      <td>0</td>\n",
       "      <td>1</td>\n",
       "      <td>0</td>\n",
       "      <td>23</td>\n",
       "      <td>0</td>\n",
       "      <td>33.400</td>\n",
       "      <td>0.00</td>\n",
       "      <td>768.200</td>\n",
       "    </tr>\n",
       "    <tr>\n",
       "      <th>427</th>\n",
       "      <td>18</td>\n",
       "      <td>31.920</td>\n",
       "      <td>northeast</td>\n",
       "      <td>2205.98080</td>\n",
       "      <td>1</td>\n",
       "      <td>0</td>\n",
       "      <td>1</td>\n",
       "      <td>0</td>\n",
       "      <td>18</td>\n",
       "      <td>0</td>\n",
       "      <td>31.920</td>\n",
       "      <td>0.00</td>\n",
       "      <td>574.560</td>\n",
       "    </tr>\n",
       "    <tr>\n",
       "      <th>428</th>\n",
       "      <td>18</td>\n",
       "      <td>36.850</td>\n",
       "      <td>southeast</td>\n",
       "      <td>1629.83350</td>\n",
       "      <td>1</td>\n",
       "      <td>0</td>\n",
       "      <td>1</td>\n",
       "      <td>0</td>\n",
       "      <td>18</td>\n",
       "      <td>0</td>\n",
       "      <td>36.850</td>\n",
       "      <td>0.00</td>\n",
       "      <td>663.300</td>\n",
       "    </tr>\n",
       "    <tr>\n",
       "      <th>429</th>\n",
       "      <td>21</td>\n",
       "      <td>25.800</td>\n",
       "      <td>southwest</td>\n",
       "      <td>2007.94500</td>\n",
       "      <td>1</td>\n",
       "      <td>0</td>\n",
       "      <td>1</td>\n",
       "      <td>0</td>\n",
       "      <td>21</td>\n",
       "      <td>0</td>\n",
       "      <td>25.800</td>\n",
       "      <td>0.00</td>\n",
       "      <td>541.800</td>\n",
       "    </tr>\n",
       "    <tr>\n",
       "      <th>430</th>\n",
       "      <td>61</td>\n",
       "      <td>29.070</td>\n",
       "      <td>northwest</td>\n",
       "      <td>29141.36030</td>\n",
       "      <td>1</td>\n",
       "      <td>0</td>\n",
       "      <td>0</td>\n",
       "      <td>1</td>\n",
       "      <td>0</td>\n",
       "      <td>61</td>\n",
       "      <td>0.000</td>\n",
       "      <td>29.07</td>\n",
       "      <td>1773.270</td>\n",
       "    </tr>\n",
       "  </tbody>\n",
       "</table>\n",
       "<p>431 rows × 13 columns</p>\n",
       "</div>"
      ],
      "text/plain": [
       "     age     bmi     region      charges  sex_female  sex_male  smoker_no  \\\n",
       "0     19  27.900  southwest  16884.92400           1         0          0   \n",
       "1     33  22.705  northwest  21984.47061           0         1          1   \n",
       "2     32  28.880  northwest   3866.85520           0         1          1   \n",
       "3     31  25.740  southeast   3756.62160           1         0          1   \n",
       "4     60  25.840  northwest  28923.13692           1         0          1   \n",
       "..   ...     ...        ...          ...         ...       ...        ...   \n",
       "426   23  33.400  southwest  10795.93733           1         0          1   \n",
       "427   18  31.920  northeast   2205.98080           1         0          1   \n",
       "428   18  36.850  southeast   1629.83350           1         0          1   \n",
       "429   21  25.800  southwest   2007.94500           1         0          1   \n",
       "430   61  29.070  northwest  29141.36030           1         0          0   \n",
       "\n",
       "     smoker_yes  age_smoker_no  age_smoker_yes  bmi_smoker_no  bmi_smoker_yes  \\\n",
       "0             1              0              19          0.000           27.90   \n",
       "1             0             33               0         22.705            0.00   \n",
       "2             0             32               0         28.880            0.00   \n",
       "3             0             31               0         25.740            0.00   \n",
       "4             0             60               0         25.840            0.00   \n",
       "..          ...            ...             ...            ...             ...   \n",
       "426           0             23               0         33.400            0.00   \n",
       "427           0             18               0         31.920            0.00   \n",
       "428           0             18               0         36.850            0.00   \n",
       "429           0             21               0         25.800            0.00   \n",
       "430           1              0              61          0.000           29.07   \n",
       "\n",
       "      age_bmi  \n",
       "0     530.100  \n",
       "1     749.265  \n",
       "2     924.160  \n",
       "3     797.940  \n",
       "4    1550.400  \n",
       "..        ...  \n",
       "426   768.200  \n",
       "427   574.560  \n",
       "428   663.300  \n",
       "429   541.800  \n",
       "430  1773.270  \n",
       "\n",
       "[431 rows x 13 columns]"
      ]
     },
     "execution_count": 175,
     "metadata": {},
     "output_type": "execute_result"
    }
   ],
   "source": [
    "#interactions: age and bmi\n",
    "insurance_dummy[\"age_bmi\"] = insurance_dummy[\"age\"] * insurance_dummy[\"bmi\"]\n",
    "insurance_dummy"
   ]
  },
  {
   "cell_type": "code",
   "execution_count": 164,
   "id": "0687db96-1f1f-4a65-b804-08dbd1adb573",
   "metadata": {
    "tags": []
   },
   "outputs": [],
   "source": [
    "#adding age_bmi and age^2 and bmi^2\n",
    "X_ex = insurance_dummy[[\"age\", \"bmi\", \"age_bmi\", \"smoker_yes\", \"age_smoker_yes\", \"bmi_smoker_yes\"]]\n",
    "y_ex = insurance_dummy[\"charges\"]\n",
    "\n",
    "lr = LinearRegression()\n",
    "poly2 = PolynomialFeatures(degree = 2, include_bias = False, interaction_only = False) \n",
    "poly_sex_smoker = PolynomialFeatures(degree = 2, include_bias = False, interaction_only = True)\n",
    "# have interaction age^2, bmi^2 and age*bmi (all possible combinations), if it's true, then only age*bmi\n",
    "\n",
    "ct2 = ColumnTransformer(\n",
    "    [(\"quadratic\", poly2, [\"age\", \"bmi\"])],\n",
    "    remainder='passthrough' #tells it to not drop any columns not used\n",
    ")\n",
    "\n",
    "my_pipeline = Pipeline(\n",
    "    [(\"squaring\", ct2), ('ols', lr)] \n",
    ") \n",
    "\n",
    "my_pipeline_fitted_ex = my_pipeline.fit(X_ex, y_ex)"
   ]
  },
  {
   "cell_type": "code",
   "execution_count": 165,
   "id": "d7651118-7781-43f1-9021-7c15f0b2add6",
   "metadata": {
    "tags": []
   },
   "outputs": [],
   "source": [
    "#predict with new_insurance_dummy\n",
    "\n",
    "new_insurance_dummy[\"age_bmi\"] = new_insurance_dummy[\"bmi\"] * new_insurance_dummy[\"age\"]\n",
    "\n",
    "X_new_ex = new_insurance_dummy[[\"age\", \"bmi\", \"age_bmi\", \"smoker_yes\", \"age_smoker_yes\", \"bmi_smoker_yes\"]]\n",
    "y_predict_ex = my_pipeline_fitted_ex.predict(X_new_ex)"
   ]
  },
  {
   "cell_type": "code",
   "execution_count": 166,
   "id": "e4ec6066-aac1-4e59-b78e-45295c41154e",
   "metadata": {
    "tags": []
   },
   "outputs": [
    {
     "data": {
      "text/plain": [
       "21532023.68048704"
      ]
     },
     "execution_count": 166,
     "metadata": {},
     "output_type": "execute_result"
    }
   ],
   "source": [
    "mse_ex = mean_squared_error(new_insurance_dummy[\"charges\"], y_predict_ex)\n",
    "mse_ex"
   ]
  },
  {
   "cell_type": "code",
   "execution_count": 167,
   "id": "1eefe672-7347-4916-936a-24c310089797",
   "metadata": {
    "tags": []
   },
   "outputs": [
    {
     "data": {
      "text/plain": [
       "0.8611283665034113"
      ]
     },
     "execution_count": 167,
     "metadata": {},
     "output_type": "execute_result"
    }
   ],
   "source": [
    "r2_score(new_insurance_dummy[\"charges\"], y_predict_ex)"
   ]
  },
  {
   "cell_type": "markdown",
   "id": "2b96d42c-bc87-4878-b543-89da0ec0b9f2",
   "metadata": {},
   "source": [
    "### Residual Plot - Data Exploration"
   ]
  },
  {
   "cell_type": "code",
   "execution_count": 168,
   "id": "0507a485-2c75-401c-b9b1-305ad5a20349",
   "metadata": {
    "tags": []
   },
   "outputs": [
    {
     "data": {
      "text/html": [
       "<div>\n",
       "<style scoped>\n",
       "    .dataframe tbody tr th:only-of-type {\n",
       "        vertical-align: middle;\n",
       "    }\n",
       "\n",
       "    .dataframe tbody tr th {\n",
       "        vertical-align: top;\n",
       "    }\n",
       "\n",
       "    .dataframe thead th {\n",
       "        text-align: right;\n",
       "    }\n",
       "</style>\n",
       "<table border=\"1\" class=\"dataframe\">\n",
       "  <thead>\n",
       "    <tr style=\"text-align: right;\">\n",
       "      <th></th>\n",
       "      <th>y_actual</th>\n",
       "      <th>y_predicted</th>\n",
       "      <th>residuals</th>\n",
       "    </tr>\n",
       "  </thead>\n",
       "  <tbody>\n",
       "    <tr>\n",
       "      <th>0</th>\n",
       "      <td>1826.84300</td>\n",
       "      <td>3718.536777</td>\n",
       "      <td>-1891.693777</td>\n",
       "    </tr>\n",
       "    <tr>\n",
       "      <th>1</th>\n",
       "      <td>10602.38500</td>\n",
       "      <td>11868.131768</td>\n",
       "      <td>-1265.746768</td>\n",
       "    </tr>\n",
       "    <tr>\n",
       "      <th>2</th>\n",
       "      <td>1137.01100</td>\n",
       "      <td>2706.201301</td>\n",
       "      <td>-1569.190301</td>\n",
       "    </tr>\n",
       "    <tr>\n",
       "      <th>3</th>\n",
       "      <td>14451.83515</td>\n",
       "      <td>14009.928050</td>\n",
       "      <td>441.907100</td>\n",
       "    </tr>\n",
       "    <tr>\n",
       "      <th>4</th>\n",
       "      <td>13770.09790</td>\n",
       "      <td>14460.588865</td>\n",
       "      <td>-690.490965</td>\n",
       "    </tr>\n",
       "    <tr>\n",
       "      <th>...</th>\n",
       "      <td>...</td>\n",
       "      <td>...</td>\n",
       "      <td>...</td>\n",
       "    </tr>\n",
       "    <tr>\n",
       "      <th>138</th>\n",
       "      <td>34828.65400</td>\n",
       "      <td>33416.107218</td>\n",
       "      <td>1412.546782</td>\n",
       "    </tr>\n",
       "    <tr>\n",
       "      <th>139</th>\n",
       "      <td>62592.87309</td>\n",
       "      <td>32552.508293</td>\n",
       "      <td>30040.364797</td>\n",
       "    </tr>\n",
       "    <tr>\n",
       "      <th>140</th>\n",
       "      <td>37829.72420</td>\n",
       "      <td>28138.186955</td>\n",
       "      <td>9691.537245</td>\n",
       "    </tr>\n",
       "    <tr>\n",
       "      <th>141</th>\n",
       "      <td>2464.61880</td>\n",
       "      <td>3990.461808</td>\n",
       "      <td>-1525.843008</td>\n",
       "    </tr>\n",
       "    <tr>\n",
       "      <th>142</th>\n",
       "      <td>1163.46270</td>\n",
       "      <td>-721.161827</td>\n",
       "      <td>1884.624527</td>\n",
       "    </tr>\n",
       "  </tbody>\n",
       "</table>\n",
       "<p>143 rows × 3 columns</p>\n",
       "</div>"
      ],
      "text/plain": [
       "        y_actual   y_predicted     residuals\n",
       "0     1826.84300   3718.536777  -1891.693777\n",
       "1    10602.38500  11868.131768  -1265.746768\n",
       "2     1137.01100   2706.201301  -1569.190301\n",
       "3    14451.83515  14009.928050    441.907100\n",
       "4    13770.09790  14460.588865   -690.490965\n",
       "..           ...           ...           ...\n",
       "138  34828.65400  33416.107218   1412.546782\n",
       "139  62592.87309  32552.508293  30040.364797\n",
       "140  37829.72420  28138.186955   9691.537245\n",
       "141   2464.61880   3990.461808  -1525.843008\n",
       "142   1163.46270   -721.161827   1884.624527\n",
       "\n",
       "[143 rows x 3 columns]"
      ]
     },
     "execution_count": 168,
     "metadata": {},
     "output_type": "execute_result"
    }
   ],
   "source": [
    "y_actual_ex = new_insurance_dummy[\"charges\"]\n",
    "residual_ex = y_actual_ex - y_predict_ex\n",
    "\n",
    "residual_df_ex = pd.DataFrame({\"y_actual\": y_actual_ex,\n",
    "                            \"y_predicted\": y_predict_ex,\n",
    "                            \"residuals\": residual_ex})\n",
    "residual_df_ex"
   ]
  },
  {
   "cell_type": "code",
   "execution_count": 169,
   "id": "47dd61cb-f8ab-43cb-b4cd-11c3da527131",
   "metadata": {
    "tags": []
   },
   "outputs": [
    {
     "data": {
      "image/png": "[encoded data removed]",
      "text/plain": [
       "<Figure size 640x480 with 1 Axes>"
      ]
     },
     "metadata": {
      "image/png": {
       "height": 480,
       "width": 640
      }
     },
     "output_type": "display_data"
    },
    {
     "data": {
      "text/plain": [
       "<Figure Size: (640 x 480)>"
      ]
     },
     "execution_count": 169,
     "metadata": {},
     "output_type": "execute_result"
    }
   ],
   "source": [
    "(ggplot(residual_df_ex, aes(x = \"y_predicted\", y = \"residuals\"))\n",
    " + geom_point()\n",
    " + geom_line(aes(y = 0), color = \"red\")\n",
    ")"
   ]
  }
 ],
 "metadata": {
  "kernelspec": {
   "display_name": "Python 3 (ipykernel)",
   "language": "python",
   "name": "python3"
  },
  "language_info": {
   "codemirror_mode": {
    "name": "ipython",
    "version": 3
   },
   "file_extension": ".py",
   "mimetype": "text/x-python",
   "name": "python",
   "nbconvert_exporter": "python",
   "pygments_lexer": "ipython3",
   "version": "3.11.4"
  }
 },
 "nbformat": 4,
 "nbformat_minor": 5
}
