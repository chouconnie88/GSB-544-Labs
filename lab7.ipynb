{
 "cells": [
  {
   "cell_type": "raw",
   "id": "813354db-1fd4-4024-8d94-6f60b96ebe69",
   "metadata": {},
   "source": [
    "---\n",
    "self-contained: true\n",
    "title: \"Lab 7 Heart Attack\"\n",
    "format:\n",
    "  html:\n",
    "    theme: pulse\n",
    "---"
   ]
  },
  {
   "cell_type": "code",
   "execution_count": 52,
   "id": "945c3ca1-8e6c-4efd-832c-b3d574697524",
   "metadata": {
    "tags": []
   },
   "outputs": [],
   "source": [
    "#packages\n",
    "import pandas as pd\n",
    "from sklearn.pipeline import Pipeline\n",
    "from sklearn.neighbors import KNeighborsClassifier\n",
    "from sklearn.tree import DecisionTreeClassifier\n",
    "from sklearn.linear_model import LogisticRegression\n",
    "from sklearn.preprocessing import StandardScaler, OneHotEncoder\n",
    "from sklearn.metrics import confusion_matrix, roc_curve, auc, roc_auc_score, cohen_kappa_score, make_scorer\n",
    "from sklearn.compose import ColumnTransformer\n",
    "from sklearn.model_selection import GridSearchCV\n",
    "from sklearn.model_selection import train_test_split, cross_val_score\n",
    "from plotnine import *"
   ]
  },
  {
   "cell_type": "markdown",
   "id": "51492c9f-2265-4af1-8c4d-a9c6baf32705",
   "metadata": {},
   "source": [
    "# Part 0: Data Cleaning"
   ]
  },
  {
   "cell_type": "code",
   "execution_count": 53,
   "id": "f7dda931-331c-41ac-9dd3-ce8167bb9133",
   "metadata": {
    "tags": []
   },
   "outputs": [
    {
     "data": {
      "text/html": [
       "<div>\n",
       "<style scoped>\n",
       "    .dataframe tbody tr th:only-of-type {\n",
       "        vertical-align: middle;\n",
       "    }\n",
       "\n",
       "    .dataframe tbody tr th {\n",
       "        vertical-align: top;\n",
       "    }\n",
       "\n",
       "    .dataframe thead th {\n",
       "        text-align: right;\n",
       "    }\n",
       "</style>\n",
       "<table border=\"1\" class=\"dataframe\">\n",
       "  <thead>\n",
       "    <tr style=\"text-align: right;\">\n",
       "      <th></th>\n",
       "      <th>age</th>\n",
       "      <th>sex</th>\n",
       "      <th>cp</th>\n",
       "      <th>trtbps</th>\n",
       "      <th>chol</th>\n",
       "      <th>restecg</th>\n",
       "      <th>thalach</th>\n",
       "      <th>output</th>\n",
       "    </tr>\n",
       "  </thead>\n",
       "  <tbody>\n",
       "    <tr>\n",
       "      <th>0</th>\n",
       "      <td>63</td>\n",
       "      <td>1</td>\n",
       "      <td>3</td>\n",
       "      <td>145</td>\n",
       "      <td>233</td>\n",
       "      <td>0</td>\n",
       "      <td>150</td>\n",
       "      <td>1</td>\n",
       "    </tr>\n",
       "    <tr>\n",
       "      <th>1</th>\n",
       "      <td>37</td>\n",
       "      <td>1</td>\n",
       "      <td>2</td>\n",
       "      <td>130</td>\n",
       "      <td>250</td>\n",
       "      <td>1</td>\n",
       "      <td>187</td>\n",
       "      <td>1</td>\n",
       "    </tr>\n",
       "    <tr>\n",
       "      <th>2</th>\n",
       "      <td>56</td>\n",
       "      <td>1</td>\n",
       "      <td>1</td>\n",
       "      <td>120</td>\n",
       "      <td>236</td>\n",
       "      <td>1</td>\n",
       "      <td>178</td>\n",
       "      <td>1</td>\n",
       "    </tr>\n",
       "    <tr>\n",
       "      <th>3</th>\n",
       "      <td>57</td>\n",
       "      <td>0</td>\n",
       "      <td>0</td>\n",
       "      <td>120</td>\n",
       "      <td>354</td>\n",
       "      <td>1</td>\n",
       "      <td>163</td>\n",
       "      <td>1</td>\n",
       "    </tr>\n",
       "    <tr>\n",
       "      <th>4</th>\n",
       "      <td>57</td>\n",
       "      <td>1</td>\n",
       "      <td>0</td>\n",
       "      <td>140</td>\n",
       "      <td>192</td>\n",
       "      <td>1</td>\n",
       "      <td>148</td>\n",
       "      <td>1</td>\n",
       "    </tr>\n",
       "    <tr>\n",
       "      <th>...</th>\n",
       "      <td>...</td>\n",
       "      <td>...</td>\n",
       "      <td>...</td>\n",
       "      <td>...</td>\n",
       "      <td>...</td>\n",
       "      <td>...</td>\n",
       "      <td>...</td>\n",
       "      <td>...</td>\n",
       "    </tr>\n",
       "    <tr>\n",
       "      <th>268</th>\n",
       "      <td>59</td>\n",
       "      <td>1</td>\n",
       "      <td>0</td>\n",
       "      <td>164</td>\n",
       "      <td>176</td>\n",
       "      <td>0</td>\n",
       "      <td>90</td>\n",
       "      <td>0</td>\n",
       "    </tr>\n",
       "    <tr>\n",
       "      <th>269</th>\n",
       "      <td>57</td>\n",
       "      <td>0</td>\n",
       "      <td>0</td>\n",
       "      <td>140</td>\n",
       "      <td>241</td>\n",
       "      <td>1</td>\n",
       "      <td>123</td>\n",
       "      <td>0</td>\n",
       "    </tr>\n",
       "    <tr>\n",
       "      <th>270</th>\n",
       "      <td>45</td>\n",
       "      <td>1</td>\n",
       "      <td>3</td>\n",
       "      <td>110</td>\n",
       "      <td>264</td>\n",
       "      <td>1</td>\n",
       "      <td>132</td>\n",
       "      <td>0</td>\n",
       "    </tr>\n",
       "    <tr>\n",
       "      <th>271</th>\n",
       "      <td>68</td>\n",
       "      <td>1</td>\n",
       "      <td>0</td>\n",
       "      <td>144</td>\n",
       "      <td>193</td>\n",
       "      <td>1</td>\n",
       "      <td>141</td>\n",
       "      <td>0</td>\n",
       "    </tr>\n",
       "    <tr>\n",
       "      <th>272</th>\n",
       "      <td>57</td>\n",
       "      <td>0</td>\n",
       "      <td>1</td>\n",
       "      <td>130</td>\n",
       "      <td>236</td>\n",
       "      <td>0</td>\n",
       "      <td>174</td>\n",
       "      <td>0</td>\n",
       "    </tr>\n",
       "  </tbody>\n",
       "</table>\n",
       "<p>273 rows × 8 columns</p>\n",
       "</div>"
      ],
      "text/plain": [
       "     age  sex  cp  trtbps  chol  restecg  thalach  output\n",
       "0     63    1   3     145   233        0      150       1\n",
       "1     37    1   2     130   250        1      187       1\n",
       "2     56    1   1     120   236        1      178       1\n",
       "3     57    0   0     120   354        1      163       1\n",
       "4     57    1   0     140   192        1      148       1\n",
       "..   ...  ...  ..     ...   ...      ...      ...     ...\n",
       "268   59    1   0     164   176        0       90       0\n",
       "269   57    0   0     140   241        1      123       0\n",
       "270   45    1   3     110   264        1      132       0\n",
       "271   68    1   0     144   193        1      141       0\n",
       "272   57    0   1     130   236        0      174       0\n",
       "\n",
       "[273 rows x 8 columns]"
      ]
     },
     "execution_count": 53,
     "metadata": {},
     "output_type": "execute_result"
    }
   ],
   "source": [
    "ha_df = pd.read_csv(\"https://www.dropbox.com/s/aohbr6yb9ifmc8w/heart_attack.csv?dl=1\")\n",
    "ha_df"
   ]
  },
  {
   "cell_type": "code",
   "execution_count": 54,
   "id": "6bf5289b-124c-4eca-8086-f9976b7ab0b6",
   "metadata": {
    "tags": []
   },
   "outputs": [
    {
     "data": {
      "text/html": [
       "<div>\n",
       "<style scoped>\n",
       "    .dataframe tbody tr th:only-of-type {\n",
       "        vertical-align: middle;\n",
       "    }\n",
       "\n",
       "    .dataframe tbody tr th {\n",
       "        vertical-align: top;\n",
       "    }\n",
       "\n",
       "    .dataframe thead th {\n",
       "        text-align: right;\n",
       "    }\n",
       "</style>\n",
       "<table border=\"1\" class=\"dataframe\">\n",
       "  <thead>\n",
       "    <tr style=\"text-align: right;\">\n",
       "      <th></th>\n",
       "      <th>age</th>\n",
       "      <th>sex</th>\n",
       "      <th>cp</th>\n",
       "      <th>trtbps</th>\n",
       "      <th>chol</th>\n",
       "      <th>restecg</th>\n",
       "      <th>thalach</th>\n",
       "      <th>output</th>\n",
       "    </tr>\n",
       "  </thead>\n",
       "  <tbody>\n",
       "    <tr>\n",
       "      <th>0</th>\n",
       "      <td>63</td>\n",
       "      <td>1</td>\n",
       "      <td>3</td>\n",
       "      <td>145</td>\n",
       "      <td>233</td>\n",
       "      <td>0</td>\n",
       "      <td>150</td>\n",
       "      <td>1</td>\n",
       "    </tr>\n",
       "    <tr>\n",
       "      <th>1</th>\n",
       "      <td>37</td>\n",
       "      <td>1</td>\n",
       "      <td>2</td>\n",
       "      <td>130</td>\n",
       "      <td>250</td>\n",
       "      <td>1</td>\n",
       "      <td>187</td>\n",
       "      <td>1</td>\n",
       "    </tr>\n",
       "    <tr>\n",
       "      <th>2</th>\n",
       "      <td>56</td>\n",
       "      <td>1</td>\n",
       "      <td>1</td>\n",
       "      <td>120</td>\n",
       "      <td>236</td>\n",
       "      <td>1</td>\n",
       "      <td>178</td>\n",
       "      <td>1</td>\n",
       "    </tr>\n",
       "    <tr>\n",
       "      <th>3</th>\n",
       "      <td>57</td>\n",
       "      <td>0</td>\n",
       "      <td>0</td>\n",
       "      <td>120</td>\n",
       "      <td>354</td>\n",
       "      <td>1</td>\n",
       "      <td>163</td>\n",
       "      <td>1</td>\n",
       "    </tr>\n",
       "    <tr>\n",
       "      <th>4</th>\n",
       "      <td>57</td>\n",
       "      <td>1</td>\n",
       "      <td>0</td>\n",
       "      <td>140</td>\n",
       "      <td>192</td>\n",
       "      <td>1</td>\n",
       "      <td>148</td>\n",
       "      <td>1</td>\n",
       "    </tr>\n",
       "  </tbody>\n",
       "</table>\n",
       "</div>"
      ],
      "text/plain": [
       "   age  sex  cp  trtbps  chol  restecg  thalach  output\n",
       "0   63    1   3     145   233        0      150       1\n",
       "1   37    1   2     130   250        1      187       1\n",
       "2   56    1   1     120   236        1      178       1\n",
       "3   57    0   0     120   354        1      163       1\n",
       "4   57    1   0     140   192        1      148       1"
      ]
     },
     "execution_count": 54,
     "metadata": {},
     "output_type": "execute_result"
    }
   ],
   "source": [
    "#drop na values\n",
    "ha_df = ha_df.dropna()\n",
    "ha_df.head()"
   ]
  },
  {
   "cell_type": "markdown",
   "id": "ae12a5c7-00c6-4ac3-a01a-7e039e39d286",
   "metadata": {},
   "source": [
    "# Part 1: Fitting Models"
   ]
  },
  {
   "cell_type": "code",
   "execution_count": 55,
   "id": "69f98c33-0f38-41ba-801f-a993610269cf",
   "metadata": {
    "tags": []
   },
   "outputs": [],
   "source": [
    "X = ha_df.drop([\"output\"], axis = 1)\n",
    "y = ha_df[\"output\"]\n",
    "#X_train, X_test, y_train, y_test = train_test_split(X, y, random_state = 42)"
   ]
  },
  {
   "cell_type": "code",
   "execution_count": 56,
   "id": "195f8fe9-051a-49d2-a4e7-fa6c506d00b2",
   "metadata": {
    "tags": []
   },
   "outputs": [
    {
     "data": {
      "text/plain": [
       "age        int64\n",
       "sex        int64\n",
       "cp         int64\n",
       "trtbps     int64\n",
       "chol       int64\n",
       "restecg    int64\n",
       "thalach    int64\n",
       "output     int64\n",
       "dtype: object"
      ]
     },
     "execution_count": 56,
     "metadata": {},
     "output_type": "execute_result"
    }
   ],
   "source": [
    "ha_df.dtypes"
   ]
  },
  {
   "cell_type": "code",
   "execution_count": 57,
   "id": "a81aa951-1db0-49ba-a77c-6716bf2b5994",
   "metadata": {
    "tags": []
   },
   "outputs": [],
   "source": [
    "#column transformer function\n",
    "def model(regression_label, type_of_regression):\n",
    "    \n",
    "    \"\"\"\n",
    "    transforms columns and outputs a pipeline of the desired kind of regression model\n",
    "  \n",
    "    Parameter\n",
    "    ---------\n",
    "    regression_label : str\n",
    "    A string represeting the label of the modeling type\n",
    "    \n",
    "    type_of_regression: sklearn function\n",
    "    A specific function for the modeling type \n",
    "\n",
    "    Returns\n",
    "    -------\n",
    "    arrays \n",
    "    returns the pipeline of the specified type of model\n",
    "    \"\"\"\n",
    "    \n",
    "    ct = ColumnTransformer([\n",
    "    (\"dummify\", OneHotEncoder(sparse_output = False, handle_unknown = \"ignore\"), [\"sex\", \"cp\", \"restecg\"]),\n",
    "    (\"standardize\", StandardScaler(), [\"age\", \"trtbps\", \"chol\", \"thalach\"])], remainder = \"passthrough\")\n",
    "    \n",
    "    lr_pipeline = Pipeline(\n",
    "      [(\"preprocessing\", ct),\n",
    "      (regression_label, type_of_regression)]\n",
    "    ).set_output(transform = \"pandas\")\n",
    "    \n",
    "    return lr_pipeline"
   ]
  },
  {
   "cell_type": "markdown",
   "id": "8791d70a-02a9-4e90-814a-4e59074284c5",
   "metadata": {},
   "source": [
    "## K-Nearest Neighbor Model"
   ]
  },
  {
   "cell_type": "code",
   "execution_count": 58,
   "id": "94ea388d-bb79-4773-aae1-2233f47045fc",
   "metadata": {
    "tags": []
   },
   "outputs": [],
   "source": [
    "pipeline_knn = model(\"knn\", KNeighborsClassifier())"
   ]
  },
  {
   "cell_type": "code",
   "execution_count": 59,
   "id": "15319d12-4192-4d02-84b2-5711f8a5de0b",
   "metadata": {
    "tags": []
   },
   "outputs": [],
   "source": [
    "#tuning to see which k value is best\n",
    "k_values = [1, 10, 30, 50, 80]\n",
    "\n",
    "param = {'knn__n_neighbors': k_values}\n",
    "\n",
    "#running girdsearchcv to tune to different n_neighbor values\n",
    "gscv_knn = GridSearchCV(pipeline_knn, param, cv = 5, scoring='roc_auc')\n",
    "gscv_fitted_knn = gscv_knn.fit(X, y)"
   ]
  },
  {
   "cell_type": "code",
   "execution_count": 60,
   "id": "d122c5ca-4bd3-4346-9bb5-4660d8f141a0",
   "metadata": {
    "tags": []
   },
   "outputs": [
    {
     "data": {
      "text/html": [
       "<div>\n",
       "<style scoped>\n",
       "    .dataframe tbody tr th:only-of-type {\n",
       "        vertical-align: middle;\n",
       "    }\n",
       "\n",
       "    .dataframe tbody tr th {\n",
       "        vertical-align: top;\n",
       "    }\n",
       "\n",
       "    .dataframe thead th {\n",
       "        text-align: right;\n",
       "    }\n",
       "</style>\n",
       "<table border=\"1\" class=\"dataframe\">\n",
       "  <thead>\n",
       "    <tr style=\"text-align: right;\">\n",
       "      <th></th>\n",
       "      <th>mean_fit_time</th>\n",
       "      <th>std_fit_time</th>\n",
       "      <th>mean_score_time</th>\n",
       "      <th>std_score_time</th>\n",
       "      <th>param_knn__n_neighbors</th>\n",
       "      <th>params</th>\n",
       "      <th>split0_test_score</th>\n",
       "      <th>split1_test_score</th>\n",
       "      <th>split2_test_score</th>\n",
       "      <th>split3_test_score</th>\n",
       "      <th>split4_test_score</th>\n",
       "      <th>mean_test_score</th>\n",
       "      <th>std_test_score</th>\n",
       "      <th>rank_test_score</th>\n",
       "    </tr>\n",
       "  </thead>\n",
       "  <tbody>\n",
       "    <tr>\n",
       "      <th>0</th>\n",
       "      <td>0.019339</td>\n",
       "      <td>0.009943</td>\n",
       "      <td>0.020276</td>\n",
       "      <td>0.016289</td>\n",
       "      <td>1</td>\n",
       "      <td>{'knn__n_neighbors': 1}</td>\n",
       "      <td>0.743333</td>\n",
       "      <td>0.692971</td>\n",
       "      <td>0.656499</td>\n",
       "      <td>0.759310</td>\n",
       "      <td>0.659310</td>\n",
       "      <td>0.702285</td>\n",
       "      <td>0.042348</td>\n",
       "      <td>5</td>\n",
       "    </tr>\n",
       "    <tr>\n",
       "      <th>1</th>\n",
       "      <td>0.015513</td>\n",
       "      <td>0.003816</td>\n",
       "      <td>0.014509</td>\n",
       "      <td>0.003145</td>\n",
       "      <td>10</td>\n",
       "      <td>{'knn__n_neighbors': 10}</td>\n",
       "      <td>0.805333</td>\n",
       "      <td>0.856101</td>\n",
       "      <td>0.814324</td>\n",
       "      <td>0.875172</td>\n",
       "      <td>0.682759</td>\n",
       "      <td>0.806738</td>\n",
       "      <td>0.067157</td>\n",
       "      <td>4</td>\n",
       "    </tr>\n",
       "    <tr>\n",
       "      <th>2</th>\n",
       "      <td>0.017251</td>\n",
       "      <td>0.001940</td>\n",
       "      <td>0.017614</td>\n",
       "      <td>0.006201</td>\n",
       "      <td>30</td>\n",
       "      <td>{'knn__n_neighbors': 30}</td>\n",
       "      <td>0.809333</td>\n",
       "      <td>0.856101</td>\n",
       "      <td>0.848143</td>\n",
       "      <td>0.884138</td>\n",
       "      <td>0.705517</td>\n",
       "      <td>0.820647</td>\n",
       "      <td>0.062333</td>\n",
       "      <td>2</td>\n",
       "    </tr>\n",
       "    <tr>\n",
       "      <th>3</th>\n",
       "      <td>0.010739</td>\n",
       "      <td>0.000601</td>\n",
       "      <td>0.010009</td>\n",
       "      <td>0.000568</td>\n",
       "      <td>50</td>\n",
       "      <td>{'knn__n_neighbors': 50}</td>\n",
       "      <td>0.792000</td>\n",
       "      <td>0.863395</td>\n",
       "      <td>0.862069</td>\n",
       "      <td>0.899310</td>\n",
       "      <td>0.694483</td>\n",
       "      <td>0.822251</td>\n",
       "      <td>0.072741</td>\n",
       "      <td>1</td>\n",
       "    </tr>\n",
       "    <tr>\n",
       "      <th>4</th>\n",
       "      <td>0.011291</td>\n",
       "      <td>0.001754</td>\n",
       "      <td>0.009684</td>\n",
       "      <td>0.000200</td>\n",
       "      <td>80</td>\n",
       "      <td>{'knn__n_neighbors': 80}</td>\n",
       "      <td>0.778000</td>\n",
       "      <td>0.853448</td>\n",
       "      <td>0.845491</td>\n",
       "      <td>0.882069</td>\n",
       "      <td>0.708966</td>\n",
       "      <td>0.813595</td>\n",
       "      <td>0.062464</td>\n",
       "      <td>3</td>\n",
       "    </tr>\n",
       "  </tbody>\n",
       "</table>\n",
       "</div>"
      ],
      "text/plain": [
       "   mean_fit_time  std_fit_time  mean_score_time  std_score_time  \\\n",
       "0       0.019339      0.009943         0.020276        0.016289   \n",
       "1       0.015513      0.003816         0.014509        0.003145   \n",
       "2       0.017251      0.001940         0.017614        0.006201   \n",
       "3       0.010739      0.000601         0.010009        0.000568   \n",
       "4       0.011291      0.001754         0.009684        0.000200   \n",
       "\n",
       "  param_knn__n_neighbors                    params  split0_test_score  \\\n",
       "0                      1   {'knn__n_neighbors': 1}           0.743333   \n",
       "1                     10  {'knn__n_neighbors': 10}           0.805333   \n",
       "2                     30  {'knn__n_neighbors': 30}           0.809333   \n",
       "3                     50  {'knn__n_neighbors': 50}           0.792000   \n",
       "4                     80  {'knn__n_neighbors': 80}           0.778000   \n",
       "\n",
       "   split1_test_score  split2_test_score  split3_test_score  split4_test_score  \\\n",
       "0           0.692971           0.656499           0.759310           0.659310   \n",
       "1           0.856101           0.814324           0.875172           0.682759   \n",
       "2           0.856101           0.848143           0.884138           0.705517   \n",
       "3           0.863395           0.862069           0.899310           0.694483   \n",
       "4           0.853448           0.845491           0.882069           0.708966   \n",
       "\n",
       "   mean_test_score  std_test_score  rank_test_score  \n",
       "0         0.702285        0.042348                5  \n",
       "1         0.806738        0.067157                4  \n",
       "2         0.820647        0.062333                2  \n",
       "3         0.822251        0.072741                1  \n",
       "4         0.813595        0.062464                3  "
      ]
     },
     "execution_count": 60,
     "metadata": {},
     "output_type": "execute_result"
    }
   ],
   "source": [
    "#creating dataframe for n_neighbor values and roc_auc scores\n",
    "n_neighbor_df = pd.DataFrame(gscv_fitted_knn.cv_results_)\n",
    "n_neighbor_df"
   ]
  },
  {
   "cell_type": "code",
   "execution_count": 61,
   "id": "8aea6f7c-8c0b-4e59-84f6-dd57b6f716c3",
   "metadata": {
    "tags": []
   },
   "outputs": [
    {
     "data": {
      "text/html": [
       "<div>\n",
       "<style scoped>\n",
       "    .dataframe tbody tr th:only-of-type {\n",
       "        vertical-align: middle;\n",
       "    }\n",
       "\n",
       "    .dataframe tbody tr th {\n",
       "        vertical-align: top;\n",
       "    }\n",
       "\n",
       "    .dataframe thead th {\n",
       "        text-align: right;\n",
       "    }\n",
       "</style>\n",
       "<table border=\"1\" class=\"dataframe\">\n",
       "  <thead>\n",
       "    <tr style=\"text-align: right;\">\n",
       "      <th></th>\n",
       "      <th>param_knn__n_neighbors</th>\n",
       "      <th>mean_test_score</th>\n",
       "    </tr>\n",
       "  </thead>\n",
       "  <tbody>\n",
       "    <tr>\n",
       "      <th>3</th>\n",
       "      <td>50</td>\n",
       "      <td>0.822251</td>\n",
       "    </tr>\n",
       "    <tr>\n",
       "      <th>2</th>\n",
       "      <td>30</td>\n",
       "      <td>0.820647</td>\n",
       "    </tr>\n",
       "    <tr>\n",
       "      <th>4</th>\n",
       "      <td>80</td>\n",
       "      <td>0.813595</td>\n",
       "    </tr>\n",
       "    <tr>\n",
       "      <th>1</th>\n",
       "      <td>10</td>\n",
       "      <td>0.806738</td>\n",
       "    </tr>\n",
       "    <tr>\n",
       "      <th>0</th>\n",
       "      <td>1</td>\n",
       "      <td>0.702285</td>\n",
       "    </tr>\n",
       "  </tbody>\n",
       "</table>\n",
       "</div>"
      ],
      "text/plain": [
       "  param_knn__n_neighbors  mean_test_score\n",
       "3                     50         0.822251\n",
       "2                     30         0.820647\n",
       "4                     80         0.813595\n",
       "1                     10         0.806738\n",
       "0                      1         0.702285"
      ]
     },
     "execution_count": 61,
     "metadata": {},
     "output_type": "execute_result"
    }
   ],
   "source": [
    "#sorted table of number of neighbors and the roc_auc score\n",
    "n_neighbor_df = n_neighbor_df[[\"param_knn__n_neighbors\", \"mean_test_score\"]] \n",
    "n_neighbor_df.sort_values(by = \"mean_test_score\", ascending = False)"
   ]
  },
  {
   "cell_type": "markdown",
   "id": "127a34f9-99a3-466d-871a-8f1fbaf4a052",
   "metadata": {},
   "source": [
    "For a knn model, it's best to have 50 neighbors. The ROC AUC score is 0.822."
   ]
  },
  {
   "cell_type": "code",
   "execution_count": 62,
   "id": "9e9153a6-c6a4-4487-b147-ba00da3e76f2",
   "metadata": {
    "tags": []
   },
   "outputs": [
    {
     "data": {
      "text/plain": [
       "array([0, 1, 1, 1, 0, 1, 1, 1, 1, 0, 1, 1, 1, 1, 1, 0, 1, 1, 1, 0, 1, 1,\n",
       "       1, 1, 0, 1, 0, 1, 0, 1, 1, 1, 1, 0, 1, 1, 0, 0, 1, 1, 1, 1, 0, 0,\n",
       "       1, 0, 0, 1, 1, 1, 1, 1, 0, 1, 1, 1, 1, 1, 1, 1, 1, 0, 0, 1, 1, 1,\n",
       "       1, 1, 1, 1, 1, 1, 1, 1, 0, 1, 1, 0, 1, 1, 1, 1, 0, 0, 0, 1, 1, 0,\n",
       "       1, 1, 1, 0, 1, 0, 1, 1, 1, 1, 1, 1, 0, 1, 1, 0, 1, 1, 1, 1, 1, 1,\n",
       "       0, 1, 1, 1, 1, 1, 1, 0, 0, 0, 0, 1, 1, 1, 0, 0, 0, 1, 1, 1, 1, 0,\n",
       "       0, 0, 1, 1, 0, 1, 1, 1, 1, 1, 1, 1, 1, 1, 0, 0, 0, 0, 0, 0, 1, 1,\n",
       "       0, 0, 0, 1, 0, 0, 0, 0, 1, 0, 0, 0, 0, 1, 0, 1, 0, 0, 0, 0, 0, 1,\n",
       "       0, 0, 0, 1, 0, 0, 0, 0, 0, 0, 1, 0, 0, 1, 0, 0, 0, 0, 0, 0, 0, 0,\n",
       "       0, 0, 0, 0, 0, 0, 0, 1, 0, 0, 0, 0, 1, 0, 0, 0, 1, 0, 0, 0, 0, 0,\n",
       "       0, 0, 0, 1, 0, 0, 0, 0, 0, 0, 1, 1, 1, 1, 0, 1, 0, 0, 0, 0, 0, 0,\n",
       "       0, 0, 0, 0, 1, 0, 0, 1, 0, 0, 0, 0, 1, 0, 0, 1, 1, 0, 0, 0, 0, 0,\n",
       "       0, 1, 0, 0, 0, 0, 0, 0, 1])"
      ]
     },
     "execution_count": 62,
     "metadata": {},
     "output_type": "execute_result"
    }
   ],
   "source": [
    "#fit pipeline on training again where knn value is 50\n",
    "pipeline_knn_50 = model(\"knn\", KNeighborsClassifier(n_neighbors = 50))\n",
    "fitted_pipeline_knn_50 = pipeline_knn_50.fit(X, y)\n",
    "fitted_pipeline_knn_50\n",
    "\n",
    "#predict output\n",
    "y_preds_knn50 = fitted_pipeline_knn_50.predict(X)\n",
    "y_preds_knn50"
   ]
  },
  {
   "cell_type": "code",
   "execution_count": 63,
   "id": "eb09ee0c-3862-4cc9-9523-9ac043782ef1",
   "metadata": {
    "tags": []
   },
   "outputs": [
    {
     "data": {
      "text/html": [
       "<div>\n",
       "<style scoped>\n",
       "    .dataframe tbody tr th:only-of-type {\n",
       "        vertical-align: middle;\n",
       "    }\n",
       "\n",
       "    .dataframe tbody tr th {\n",
       "        vertical-align: top;\n",
       "    }\n",
       "\n",
       "    .dataframe thead th {\n",
       "        text-align: right;\n",
       "    }\n",
       "</style>\n",
       "<table border=\"1\" class=\"dataframe\">\n",
       "  <thead>\n",
       "    <tr style=\"text-align: right;\">\n",
       "      <th></th>\n",
       "      <th>0</th>\n",
       "      <th>1</th>\n",
       "    </tr>\n",
       "  </thead>\n",
       "  <tbody>\n",
       "    <tr>\n",
       "      <th>0</th>\n",
       "      <td>101</td>\n",
       "      <td>26</td>\n",
       "    </tr>\n",
       "    <tr>\n",
       "      <th>1</th>\n",
       "      <td>40</td>\n",
       "      <td>106</td>\n",
       "    </tr>\n",
       "  </tbody>\n",
       "</table>\n",
       "</div>"
      ],
      "text/plain": [
       "     0    1\n",
       "0  101   26\n",
       "1   40  106"
      ]
     },
     "execution_count": 63,
     "metadata": {},
     "output_type": "execute_result"
    }
   ],
   "source": [
    "#confusion matrix\n",
    "conf_matrix_knn50 = confusion_matrix(y, y_preds_knn50)\n",
    "pd.DataFrame(conf_matrix_knn50)"
   ]
  },
  {
   "cell_type": "markdown",
   "id": "baf571b0-1a4e-4e43-be7d-fe08116e8de1",
   "metadata": {},
   "source": [
    "## Decision Tree"
   ]
  },
  {
   "cell_type": "code",
   "execution_count": 64,
   "id": "324f687a-c15a-44af-9777-feaca2199c29",
   "metadata": {
    "tags": []
   },
   "outputs": [
    {
     "data": {
      "text/html": [
       "<style>#sk-container-id-4 {color: black;}#sk-container-id-4 pre{padding: 0;}#sk-container-id-4 div.sk-toggleable {background-color: white;}#sk-container-id-4 label.sk-toggleable__label {cursor: pointer;display: block;width: 100%;margin-bottom: 0;padding: 0.3em;box-sizing: border-box;text-align: center;}#sk-container-id-4 label.sk-toggleable__label-arrow:before {content: \"▸\";float: left;margin-right: 0.25em;color: #696969;}#sk-container-id-4 label.sk-toggleable__label-arrow:hover:before {color: black;}#sk-container-id-4 div.sk-estimator:hover label.sk-toggleable__label-arrow:before {color: black;}#sk-container-id-4 div.sk-toggleable__content {max-height: 0;max-width: 0;overflow: hidden;text-align: left;background-color: #f0f8ff;}#sk-container-id-4 div.sk-toggleable__content pre {margin: 0.2em;color: black;border-radius: 0.25em;background-color: #f0f8ff;}#sk-container-id-4 input.sk-toggleable__control:checked~div.sk-toggleable__content {max-height: 200px;max-width: 100%;overflow: auto;}#sk-container-id-4 input.sk-toggleable__control:checked~label.sk-toggleable__label-arrow:before {content: \"▾\";}#sk-container-id-4 div.sk-estimator input.sk-toggleable__control:checked~label.sk-toggleable__label {background-color: #d4ebff;}#sk-container-id-4 div.sk-label input.sk-toggleable__control:checked~label.sk-toggleable__label {background-color: #d4ebff;}#sk-container-id-4 input.sk-hidden--visually {border: 0;clip: rect(1px 1px 1px 1px);clip: rect(1px, 1px, 1px, 1px);height: 1px;margin: -1px;overflow: hidden;padding: 0;position: absolute;width: 1px;}#sk-container-id-4 div.sk-estimator {font-family: monospace;background-color: #f0f8ff;border: 1px dotted black;border-radius: 0.25em;box-sizing: border-box;margin-bottom: 0.5em;}#sk-container-id-4 div.sk-estimator:hover {background-color: #d4ebff;}#sk-container-id-4 div.sk-parallel-item::after {content: \"\";width: 100%;border-bottom: 1px solid gray;flex-grow: 1;}#sk-container-id-4 div.sk-label:hover label.sk-toggleable__label {background-color: #d4ebff;}#sk-container-id-4 div.sk-serial::before {content: \"\";position: absolute;border-left: 1px solid gray;box-sizing: border-box;top: 0;bottom: 0;left: 50%;z-index: 0;}#sk-container-id-4 div.sk-serial {display: flex;flex-direction: column;align-items: center;background-color: white;padding-right: 0.2em;padding-left: 0.2em;position: relative;}#sk-container-id-4 div.sk-item {position: relative;z-index: 1;}#sk-container-id-4 div.sk-parallel {display: flex;align-items: stretch;justify-content: center;background-color: white;position: relative;}#sk-container-id-4 div.sk-item::before, #sk-container-id-4 div.sk-parallel-item::before {content: \"\";position: absolute;border-left: 1px solid gray;box-sizing: border-box;top: 0;bottom: 0;left: 50%;z-index: -1;}#sk-container-id-4 div.sk-parallel-item {display: flex;flex-direction: column;z-index: 1;position: relative;background-color: white;}#sk-container-id-4 div.sk-parallel-item:first-child::after {align-self: flex-end;width: 50%;}#sk-container-id-4 div.sk-parallel-item:last-child::after {align-self: flex-start;width: 50%;}#sk-container-id-4 div.sk-parallel-item:only-child::after {width: 0;}#sk-container-id-4 div.sk-dashed-wrapped {border: 1px dashed gray;margin: 0 0.4em 0.5em 0.4em;box-sizing: border-box;padding-bottom: 0.4em;background-color: white;}#sk-container-id-4 div.sk-label label {font-family: monospace;font-weight: bold;display: inline-block;line-height: 1.2em;}#sk-container-id-4 div.sk-label-container {text-align: center;}#sk-container-id-4 div.sk-container {/* jupyter's `normalize.less` sets `[hidden] { display: none; }` but bootstrap.min.css set `[hidden] { display: none !important; }` so we also need the `!important` here to be able to override the default hidden behavior on the sphinx rendered scikit-learn.org. See: https://github.com/scikit-learn/scikit-learn/issues/21755 */display: inline-block !important;position: relative;}#sk-container-id-4 div.sk-text-repr-fallback {display: none;}</style><div id=\"sk-container-id-4\" class=\"sk-top-container\"><div class=\"sk-text-repr-fallback\"><pre>Pipeline(steps=[(&#x27;preprocessing&#x27;,\n",
       "                 ColumnTransformer(remainder=&#x27;passthrough&#x27;,\n",
       "                                   transformers=[(&#x27;dummify&#x27;,\n",
       "                                                  OneHotEncoder(handle_unknown=&#x27;ignore&#x27;,\n",
       "                                                                sparse_output=False),\n",
       "                                                  [&#x27;sex&#x27;, &#x27;cp&#x27;, &#x27;restecg&#x27;]),\n",
       "                                                 (&#x27;standardize&#x27;,\n",
       "                                                  StandardScaler(),\n",
       "                                                  [&#x27;age&#x27;, &#x27;trtbps&#x27;, &#x27;chol&#x27;,\n",
       "                                                   &#x27;thalach&#x27;])])),\n",
       "                (&#x27;dt&#x27;, DecisionTreeClassifier())])</pre><b>In a Jupyter environment, please rerun this cell to show the HTML representation or trust the notebook. <br />On GitHub, the HTML representation is unable to render, please try loading this page with nbviewer.org.</b></div><div class=\"sk-container\" hidden><div class=\"sk-item sk-dashed-wrapped\"><div class=\"sk-label-container\"><div class=\"sk-label sk-toggleable\"><input class=\"sk-toggleable__control sk-hidden--visually\" id=\"sk-estimator-id-28\" type=\"checkbox\" ><label for=\"sk-estimator-id-28\" class=\"sk-toggleable__label sk-toggleable__label-arrow\">Pipeline</label><div class=\"sk-toggleable__content\"><pre>Pipeline(steps=[(&#x27;preprocessing&#x27;,\n",
       "                 ColumnTransformer(remainder=&#x27;passthrough&#x27;,\n",
       "                                   transformers=[(&#x27;dummify&#x27;,\n",
       "                                                  OneHotEncoder(handle_unknown=&#x27;ignore&#x27;,\n",
       "                                                                sparse_output=False),\n",
       "                                                  [&#x27;sex&#x27;, &#x27;cp&#x27;, &#x27;restecg&#x27;]),\n",
       "                                                 (&#x27;standardize&#x27;,\n",
       "                                                  StandardScaler(),\n",
       "                                                  [&#x27;age&#x27;, &#x27;trtbps&#x27;, &#x27;chol&#x27;,\n",
       "                                                   &#x27;thalach&#x27;])])),\n",
       "                (&#x27;dt&#x27;, DecisionTreeClassifier())])</pre></div></div></div><div class=\"sk-serial\"><div class=\"sk-item sk-dashed-wrapped\"><div class=\"sk-label-container\"><div class=\"sk-label sk-toggleable\"><input class=\"sk-toggleable__control sk-hidden--visually\" id=\"sk-estimator-id-29\" type=\"checkbox\" ><label for=\"sk-estimator-id-29\" class=\"sk-toggleable__label sk-toggleable__label-arrow\">preprocessing: ColumnTransformer</label><div class=\"sk-toggleable__content\"><pre>ColumnTransformer(remainder=&#x27;passthrough&#x27;,\n",
       "                  transformers=[(&#x27;dummify&#x27;,\n",
       "                                 OneHotEncoder(handle_unknown=&#x27;ignore&#x27;,\n",
       "                                               sparse_output=False),\n",
       "                                 [&#x27;sex&#x27;, &#x27;cp&#x27;, &#x27;restecg&#x27;]),\n",
       "                                (&#x27;standardize&#x27;, StandardScaler(),\n",
       "                                 [&#x27;age&#x27;, &#x27;trtbps&#x27;, &#x27;chol&#x27;, &#x27;thalach&#x27;])])</pre></div></div></div><div class=\"sk-parallel\"><div class=\"sk-parallel-item\"><div class=\"sk-item\"><div class=\"sk-label-container\"><div class=\"sk-label sk-toggleable\"><input class=\"sk-toggleable__control sk-hidden--visually\" id=\"sk-estimator-id-30\" type=\"checkbox\" ><label for=\"sk-estimator-id-30\" class=\"sk-toggleable__label sk-toggleable__label-arrow\">dummify</label><div class=\"sk-toggleable__content\"><pre>[&#x27;sex&#x27;, &#x27;cp&#x27;, &#x27;restecg&#x27;]</pre></div></div></div><div class=\"sk-serial\"><div class=\"sk-item\"><div class=\"sk-estimator sk-toggleable\"><input class=\"sk-toggleable__control sk-hidden--visually\" id=\"sk-estimator-id-31\" type=\"checkbox\" ><label for=\"sk-estimator-id-31\" class=\"sk-toggleable__label sk-toggleable__label-arrow\">OneHotEncoder</label><div class=\"sk-toggleable__content\"><pre>OneHotEncoder(handle_unknown=&#x27;ignore&#x27;, sparse_output=False)</pre></div></div></div></div></div></div><div class=\"sk-parallel-item\"><div class=\"sk-item\"><div class=\"sk-label-container\"><div class=\"sk-label sk-toggleable\"><input class=\"sk-toggleable__control sk-hidden--visually\" id=\"sk-estimator-id-32\" type=\"checkbox\" ><label for=\"sk-estimator-id-32\" class=\"sk-toggleable__label sk-toggleable__label-arrow\">standardize</label><div class=\"sk-toggleable__content\"><pre>[&#x27;age&#x27;, &#x27;trtbps&#x27;, &#x27;chol&#x27;, &#x27;thalach&#x27;]</pre></div></div></div><div class=\"sk-serial\"><div class=\"sk-item\"><div class=\"sk-estimator sk-toggleable\"><input class=\"sk-toggleable__control sk-hidden--visually\" id=\"sk-estimator-id-33\" type=\"checkbox\" ><label for=\"sk-estimator-id-33\" class=\"sk-toggleable__label sk-toggleable__label-arrow\">StandardScaler</label><div class=\"sk-toggleable__content\"><pre>StandardScaler()</pre></div></div></div></div></div></div><div class=\"sk-parallel-item\"><div class=\"sk-item\"><div class=\"sk-label-container\"><div class=\"sk-label sk-toggleable\"><input class=\"sk-toggleable__control sk-hidden--visually\" id=\"sk-estimator-id-34\" type=\"checkbox\" ><label for=\"sk-estimator-id-34\" class=\"sk-toggleable__label sk-toggleable__label-arrow\">remainder</label><div class=\"sk-toggleable__content\"><pre></pre></div></div></div><div class=\"sk-serial\"><div class=\"sk-item\"><div class=\"sk-estimator sk-toggleable\"><input class=\"sk-toggleable__control sk-hidden--visually\" id=\"sk-estimator-id-35\" type=\"checkbox\" ><label for=\"sk-estimator-id-35\" class=\"sk-toggleable__label sk-toggleable__label-arrow\">passthrough</label><div class=\"sk-toggleable__content\"><pre>passthrough</pre></div></div></div></div></div></div></div></div><div class=\"sk-item\"><div class=\"sk-estimator sk-toggleable\"><input class=\"sk-toggleable__control sk-hidden--visually\" id=\"sk-estimator-id-36\" type=\"checkbox\" ><label for=\"sk-estimator-id-36\" class=\"sk-toggleable__label sk-toggleable__label-arrow\">DecisionTreeClassifier</label><div class=\"sk-toggleable__content\"><pre>DecisionTreeClassifier()</pre></div></div></div></div></div></div></div>"
      ],
      "text/plain": [
       "Pipeline(steps=[('preprocessing',\n",
       "                 ColumnTransformer(remainder='passthrough',\n",
       "                                   transformers=[('dummify',\n",
       "                                                  OneHotEncoder(handle_unknown='ignore',\n",
       "                                                                sparse_output=False),\n",
       "                                                  ['sex', 'cp', 'restecg']),\n",
       "                                                 ('standardize',\n",
       "                                                  StandardScaler(),\n",
       "                                                  ['age', 'trtbps', 'chol',\n",
       "                                                   'thalach'])])),\n",
       "                ('dt', DecisionTreeClassifier())])"
      ]
     },
     "execution_count": 64,
     "metadata": {},
     "output_type": "execute_result"
    }
   ],
   "source": [
    "pipeline_dt = model(\"dt\", DecisionTreeClassifier())\n",
    "pipeline_dt"
   ]
  },
  {
   "cell_type": "code",
   "execution_count": 65,
   "id": "f640e37f-113c-4943-83b3-2fdf5f9aebb4",
   "metadata": {
    "tags": []
   },
   "outputs": [],
   "source": [
    "#find best branch number by tuning\n",
    "max_depth = [1, 5, 10, 30, 50]\n",
    "\n",
    "param = {'dt__max_depth': max_depth}\n",
    "\n",
    "#running girdsearchcv to tune to different n_neighbor values\n",
    "gscv_dt = GridSearchCV(pipeline_dt, param, cv = 5, scoring='roc_auc')\n",
    "gscv_fitted_dt = gscv_dt.fit(X, y)"
   ]
  },
  {
   "cell_type": "code",
   "execution_count": 66,
   "id": "0f35b19b-5aa6-4622-8028-b6795ca78779",
   "metadata": {
    "tags": []
   },
   "outputs": [
    {
     "data": {
      "text/html": [
       "<div>\n",
       "<style scoped>\n",
       "    .dataframe tbody tr th:only-of-type {\n",
       "        vertical-align: middle;\n",
       "    }\n",
       "\n",
       "    .dataframe tbody tr th {\n",
       "        vertical-align: top;\n",
       "    }\n",
       "\n",
       "    .dataframe thead th {\n",
       "        text-align: right;\n",
       "    }\n",
       "</style>\n",
       "<table border=\"1\" class=\"dataframe\">\n",
       "  <thead>\n",
       "    <tr style=\"text-align: right;\">\n",
       "      <th></th>\n",
       "      <th>mean_fit_time</th>\n",
       "      <th>std_fit_time</th>\n",
       "      <th>mean_score_time</th>\n",
       "      <th>std_score_time</th>\n",
       "      <th>param_dt__max_depth</th>\n",
       "      <th>params</th>\n",
       "      <th>split0_test_score</th>\n",
       "      <th>split1_test_score</th>\n",
       "      <th>split2_test_score</th>\n",
       "      <th>split3_test_score</th>\n",
       "      <th>split4_test_score</th>\n",
       "      <th>mean_test_score</th>\n",
       "      <th>std_test_score</th>\n",
       "      <th>rank_test_score</th>\n",
       "    </tr>\n",
       "  </thead>\n",
       "  <tbody>\n",
       "    <tr>\n",
       "      <th>0</th>\n",
       "      <td>0.023064</td>\n",
       "      <td>0.008598</td>\n",
       "      <td>0.022121</td>\n",
       "      <td>0.022283</td>\n",
       "      <td>1</td>\n",
       "      <td>{'dt__max_depth': 1}</td>\n",
       "      <td>0.796667</td>\n",
       "      <td>0.746684</td>\n",
       "      <td>0.727454</td>\n",
       "      <td>0.776552</td>\n",
       "      <td>0.719310</td>\n",
       "      <td>0.753333</td>\n",
       "      <td>0.029286</td>\n",
       "      <td>1</td>\n",
       "    </tr>\n",
       "    <tr>\n",
       "      <th>1</th>\n",
       "      <td>0.011797</td>\n",
       "      <td>0.000548</td>\n",
       "      <td>0.008541</td>\n",
       "      <td>0.000841</td>\n",
       "      <td>5</td>\n",
       "      <td>{'dt__max_depth': 5}</td>\n",
       "      <td>0.684667</td>\n",
       "      <td>0.709549</td>\n",
       "      <td>0.751326</td>\n",
       "      <td>0.755172</td>\n",
       "      <td>0.660690</td>\n",
       "      <td>0.712281</td>\n",
       "      <td>0.036867</td>\n",
       "      <td>2</td>\n",
       "    </tr>\n",
       "    <tr>\n",
       "      <th>2</th>\n",
       "      <td>0.011311</td>\n",
       "      <td>0.000427</td>\n",
       "      <td>0.008763</td>\n",
       "      <td>0.000503</td>\n",
       "      <td>10</td>\n",
       "      <td>{'dt__max_depth': 10}</td>\n",
       "      <td>0.673333</td>\n",
       "      <td>0.694960</td>\n",
       "      <td>0.696950</td>\n",
       "      <td>0.750345</td>\n",
       "      <td>0.664828</td>\n",
       "      <td>0.696083</td>\n",
       "      <td>0.029802</td>\n",
       "      <td>4</td>\n",
       "    </tr>\n",
       "    <tr>\n",
       "      <th>3</th>\n",
       "      <td>0.010771</td>\n",
       "      <td>0.000438</td>\n",
       "      <td>0.008613</td>\n",
       "      <td>0.000782</td>\n",
       "      <td>30</td>\n",
       "      <td>{'dt__max_depth': 30}</td>\n",
       "      <td>0.673333</td>\n",
       "      <td>0.744695</td>\n",
       "      <td>0.675729</td>\n",
       "      <td>0.739310</td>\n",
       "      <td>0.684828</td>\n",
       "      <td>0.703579</td>\n",
       "      <td>0.031652</td>\n",
       "      <td>3</td>\n",
       "    </tr>\n",
       "    <tr>\n",
       "      <th>4</th>\n",
       "      <td>0.010696</td>\n",
       "      <td>0.000908</td>\n",
       "      <td>0.009110</td>\n",
       "      <td>0.002345</td>\n",
       "      <td>50</td>\n",
       "      <td>{'dt__max_depth': 50}</td>\n",
       "      <td>0.673333</td>\n",
       "      <td>0.744695</td>\n",
       "      <td>0.622016</td>\n",
       "      <td>0.736552</td>\n",
       "      <td>0.662069</td>\n",
       "      <td>0.687733</td>\n",
       "      <td>0.046503</td>\n",
       "      <td>5</td>\n",
       "    </tr>\n",
       "  </tbody>\n",
       "</table>\n",
       "</div>"
      ],
      "text/plain": [
       "   mean_fit_time  std_fit_time  mean_score_time  std_score_time  \\\n",
       "0       0.023064      0.008598         0.022121        0.022283   \n",
       "1       0.011797      0.000548         0.008541        0.000841   \n",
       "2       0.011311      0.000427         0.008763        0.000503   \n",
       "3       0.010771      0.000438         0.008613        0.000782   \n",
       "4       0.010696      0.000908         0.009110        0.002345   \n",
       "\n",
       "  param_dt__max_depth                 params  split0_test_score  \\\n",
       "0                   1   {'dt__max_depth': 1}           0.796667   \n",
       "1                   5   {'dt__max_depth': 5}           0.684667   \n",
       "2                  10  {'dt__max_depth': 10}           0.673333   \n",
       "3                  30  {'dt__max_depth': 30}           0.673333   \n",
       "4                  50  {'dt__max_depth': 50}           0.673333   \n",
       "\n",
       "   split1_test_score  split2_test_score  split3_test_score  split4_test_score  \\\n",
       "0           0.746684           0.727454           0.776552           0.719310   \n",
       "1           0.709549           0.751326           0.755172           0.660690   \n",
       "2           0.694960           0.696950           0.750345           0.664828   \n",
       "3           0.744695           0.675729           0.739310           0.684828   \n",
       "4           0.744695           0.622016           0.736552           0.662069   \n",
       "\n",
       "   mean_test_score  std_test_score  rank_test_score  \n",
       "0         0.753333        0.029286                1  \n",
       "1         0.712281        0.036867                2  \n",
       "2         0.696083        0.029802                4  \n",
       "3         0.703579        0.031652                3  \n",
       "4         0.687733        0.046503                5  "
      ]
     },
     "execution_count": 66,
     "metadata": {},
     "output_type": "execute_result"
    }
   ],
   "source": [
    "#creating dataframe for n_neighbor values and roc_auc scores\n",
    "max_depth_df = pd.DataFrame(gscv_fitted_dt.cv_results_)\n",
    "max_depth_df"
   ]
  },
  {
   "cell_type": "code",
   "execution_count": 67,
   "id": "d39806f4-7fec-4f9f-8a00-826566ee01da",
   "metadata": {
    "tags": []
   },
   "outputs": [
    {
     "data": {
      "text/html": [
       "<div>\n",
       "<style scoped>\n",
       "    .dataframe tbody tr th:only-of-type {\n",
       "        vertical-align: middle;\n",
       "    }\n",
       "\n",
       "    .dataframe tbody tr th {\n",
       "        vertical-align: top;\n",
       "    }\n",
       "\n",
       "    .dataframe thead th {\n",
       "        text-align: right;\n",
       "    }\n",
       "</style>\n",
       "<table border=\"1\" class=\"dataframe\">\n",
       "  <thead>\n",
       "    <tr style=\"text-align: right;\">\n",
       "      <th></th>\n",
       "      <th>param_dt__max_depth</th>\n",
       "      <th>mean_test_score</th>\n",
       "    </tr>\n",
       "  </thead>\n",
       "  <tbody>\n",
       "    <tr>\n",
       "      <th>0</th>\n",
       "      <td>1</td>\n",
       "      <td>0.753333</td>\n",
       "    </tr>\n",
       "    <tr>\n",
       "      <th>1</th>\n",
       "      <td>5</td>\n",
       "      <td>0.712281</td>\n",
       "    </tr>\n",
       "    <tr>\n",
       "      <th>3</th>\n",
       "      <td>30</td>\n",
       "      <td>0.703579</td>\n",
       "    </tr>\n",
       "    <tr>\n",
       "      <th>2</th>\n",
       "      <td>10</td>\n",
       "      <td>0.696083</td>\n",
       "    </tr>\n",
       "    <tr>\n",
       "      <th>4</th>\n",
       "      <td>50</td>\n",
       "      <td>0.687733</td>\n",
       "    </tr>\n",
       "  </tbody>\n",
       "</table>\n",
       "</div>"
      ],
      "text/plain": [
       "  param_dt__max_depth  mean_test_score\n",
       "0                   1         0.753333\n",
       "1                   5         0.712281\n",
       "3                  30         0.703579\n",
       "2                  10         0.696083\n",
       "4                  50         0.687733"
      ]
     },
     "execution_count": 67,
     "metadata": {},
     "output_type": "execute_result"
    }
   ],
   "source": [
    "#sorted table of max_depth and the roc_auc score\n",
    "max_depth_df = max_depth_df[[\"param_dt__max_depth\", \"mean_test_score\"]] \n",
    "max_depth_df.sort_values(by = \"mean_test_score\", ascending = False)"
   ]
  },
  {
   "cell_type": "markdown",
   "id": "bd25ce6e-5065-4d46-90eb-e8bf14e405fb",
   "metadata": {},
   "source": [
    "The best decision tree model is when the max_depth number is 1. The ROC AUC score is 0.753."
   ]
  },
  {
   "cell_type": "code",
   "execution_count": 68,
   "id": "94185c47-9cb7-4d0b-9ced-0190b46b0447",
   "metadata": {
    "tags": []
   },
   "outputs": [
    {
     "data": {
      "text/html": [
       "<style>#sk-container-id-5 {color: black;}#sk-container-id-5 pre{padding: 0;}#sk-container-id-5 div.sk-toggleable {background-color: white;}#sk-container-id-5 label.sk-toggleable__label {cursor: pointer;display: block;width: 100%;margin-bottom: 0;padding: 0.3em;box-sizing: border-box;text-align: center;}#sk-container-id-5 label.sk-toggleable__label-arrow:before {content: \"▸\";float: left;margin-right: 0.25em;color: #696969;}#sk-container-id-5 label.sk-toggleable__label-arrow:hover:before {color: black;}#sk-container-id-5 div.sk-estimator:hover label.sk-toggleable__label-arrow:before {color: black;}#sk-container-id-5 div.sk-toggleable__content {max-height: 0;max-width: 0;overflow: hidden;text-align: left;background-color: #f0f8ff;}#sk-container-id-5 div.sk-toggleable__content pre {margin: 0.2em;color: black;border-radius: 0.25em;background-color: #f0f8ff;}#sk-container-id-5 input.sk-toggleable__control:checked~div.sk-toggleable__content {max-height: 200px;max-width: 100%;overflow: auto;}#sk-container-id-5 input.sk-toggleable__control:checked~label.sk-toggleable__label-arrow:before {content: \"▾\";}#sk-container-id-5 div.sk-estimator input.sk-toggleable__control:checked~label.sk-toggleable__label {background-color: #d4ebff;}#sk-container-id-5 div.sk-label input.sk-toggleable__control:checked~label.sk-toggleable__label {background-color: #d4ebff;}#sk-container-id-5 input.sk-hidden--visually {border: 0;clip: rect(1px 1px 1px 1px);clip: rect(1px, 1px, 1px, 1px);height: 1px;margin: -1px;overflow: hidden;padding: 0;position: absolute;width: 1px;}#sk-container-id-5 div.sk-estimator {font-family: monospace;background-color: #f0f8ff;border: 1px dotted black;border-radius: 0.25em;box-sizing: border-box;margin-bottom: 0.5em;}#sk-container-id-5 div.sk-estimator:hover {background-color: #d4ebff;}#sk-container-id-5 div.sk-parallel-item::after {content: \"\";width: 100%;border-bottom: 1px solid gray;flex-grow: 1;}#sk-container-id-5 div.sk-label:hover label.sk-toggleable__label {background-color: #d4ebff;}#sk-container-id-5 div.sk-serial::before {content: \"\";position: absolute;border-left: 1px solid gray;box-sizing: border-box;top: 0;bottom: 0;left: 50%;z-index: 0;}#sk-container-id-5 div.sk-serial {display: flex;flex-direction: column;align-items: center;background-color: white;padding-right: 0.2em;padding-left: 0.2em;position: relative;}#sk-container-id-5 div.sk-item {position: relative;z-index: 1;}#sk-container-id-5 div.sk-parallel {display: flex;align-items: stretch;justify-content: center;background-color: white;position: relative;}#sk-container-id-5 div.sk-item::before, #sk-container-id-5 div.sk-parallel-item::before {content: \"\";position: absolute;border-left: 1px solid gray;box-sizing: border-box;top: 0;bottom: 0;left: 50%;z-index: -1;}#sk-container-id-5 div.sk-parallel-item {display: flex;flex-direction: column;z-index: 1;position: relative;background-color: white;}#sk-container-id-5 div.sk-parallel-item:first-child::after {align-self: flex-end;width: 50%;}#sk-container-id-5 div.sk-parallel-item:last-child::after {align-self: flex-start;width: 50%;}#sk-container-id-5 div.sk-parallel-item:only-child::after {width: 0;}#sk-container-id-5 div.sk-dashed-wrapped {border: 1px dashed gray;margin: 0 0.4em 0.5em 0.4em;box-sizing: border-box;padding-bottom: 0.4em;background-color: white;}#sk-container-id-5 div.sk-label label {font-family: monospace;font-weight: bold;display: inline-block;line-height: 1.2em;}#sk-container-id-5 div.sk-label-container {text-align: center;}#sk-container-id-5 div.sk-container {/* jupyter's `normalize.less` sets `[hidden] { display: none; }` but bootstrap.min.css set `[hidden] { display: none !important; }` so we also need the `!important` here to be able to override the default hidden behavior on the sphinx rendered scikit-learn.org. See: https://github.com/scikit-learn/scikit-learn/issues/21755 */display: inline-block !important;position: relative;}#sk-container-id-5 div.sk-text-repr-fallback {display: none;}</style><div id=\"sk-container-id-5\" class=\"sk-top-container\"><div class=\"sk-text-repr-fallback\"><pre>Pipeline(steps=[(&#x27;preprocessing&#x27;,\n",
       "                 ColumnTransformer(remainder=&#x27;passthrough&#x27;,\n",
       "                                   transformers=[(&#x27;dummify&#x27;,\n",
       "                                                  OneHotEncoder(handle_unknown=&#x27;ignore&#x27;,\n",
       "                                                                sparse_output=False),\n",
       "                                                  [&#x27;sex&#x27;, &#x27;cp&#x27;, &#x27;restecg&#x27;]),\n",
       "                                                 (&#x27;standardize&#x27;,\n",
       "                                                  StandardScaler(),\n",
       "                                                  [&#x27;age&#x27;, &#x27;trtbps&#x27;, &#x27;chol&#x27;,\n",
       "                                                   &#x27;thalach&#x27;])])),\n",
       "                (&#x27;dt&#x27;, DecisionTreeClassifier(max_depth=1))])</pre><b>In a Jupyter environment, please rerun this cell to show the HTML representation or trust the notebook. <br />On GitHub, the HTML representation is unable to render, please try loading this page with nbviewer.org.</b></div><div class=\"sk-container\" hidden><div class=\"sk-item sk-dashed-wrapped\"><div class=\"sk-label-container\"><div class=\"sk-label sk-toggleable\"><input class=\"sk-toggleable__control sk-hidden--visually\" id=\"sk-estimator-id-37\" type=\"checkbox\" ><label for=\"sk-estimator-id-37\" class=\"sk-toggleable__label sk-toggleable__label-arrow\">Pipeline</label><div class=\"sk-toggleable__content\"><pre>Pipeline(steps=[(&#x27;preprocessing&#x27;,\n",
       "                 ColumnTransformer(remainder=&#x27;passthrough&#x27;,\n",
       "                                   transformers=[(&#x27;dummify&#x27;,\n",
       "                                                  OneHotEncoder(handle_unknown=&#x27;ignore&#x27;,\n",
       "                                                                sparse_output=False),\n",
       "                                                  [&#x27;sex&#x27;, &#x27;cp&#x27;, &#x27;restecg&#x27;]),\n",
       "                                                 (&#x27;standardize&#x27;,\n",
       "                                                  StandardScaler(),\n",
       "                                                  [&#x27;age&#x27;, &#x27;trtbps&#x27;, &#x27;chol&#x27;,\n",
       "                                                   &#x27;thalach&#x27;])])),\n",
       "                (&#x27;dt&#x27;, DecisionTreeClassifier(max_depth=1))])</pre></div></div></div><div class=\"sk-serial\"><div class=\"sk-item sk-dashed-wrapped\"><div class=\"sk-label-container\"><div class=\"sk-label sk-toggleable\"><input class=\"sk-toggleable__control sk-hidden--visually\" id=\"sk-estimator-id-38\" type=\"checkbox\" ><label for=\"sk-estimator-id-38\" class=\"sk-toggleable__label sk-toggleable__label-arrow\">preprocessing: ColumnTransformer</label><div class=\"sk-toggleable__content\"><pre>ColumnTransformer(remainder=&#x27;passthrough&#x27;,\n",
       "                  transformers=[(&#x27;dummify&#x27;,\n",
       "                                 OneHotEncoder(handle_unknown=&#x27;ignore&#x27;,\n",
       "                                               sparse_output=False),\n",
       "                                 [&#x27;sex&#x27;, &#x27;cp&#x27;, &#x27;restecg&#x27;]),\n",
       "                                (&#x27;standardize&#x27;, StandardScaler(),\n",
       "                                 [&#x27;age&#x27;, &#x27;trtbps&#x27;, &#x27;chol&#x27;, &#x27;thalach&#x27;])])</pre></div></div></div><div class=\"sk-parallel\"><div class=\"sk-parallel-item\"><div class=\"sk-item\"><div class=\"sk-label-container\"><div class=\"sk-label sk-toggleable\"><input class=\"sk-toggleable__control sk-hidden--visually\" id=\"sk-estimator-id-39\" type=\"checkbox\" ><label for=\"sk-estimator-id-39\" class=\"sk-toggleable__label sk-toggleable__label-arrow\">dummify</label><div class=\"sk-toggleable__content\"><pre>[&#x27;sex&#x27;, &#x27;cp&#x27;, &#x27;restecg&#x27;]</pre></div></div></div><div class=\"sk-serial\"><div class=\"sk-item\"><div class=\"sk-estimator sk-toggleable\"><input class=\"sk-toggleable__control sk-hidden--visually\" id=\"sk-estimator-id-40\" type=\"checkbox\" ><label for=\"sk-estimator-id-40\" class=\"sk-toggleable__label sk-toggleable__label-arrow\">OneHotEncoder</label><div class=\"sk-toggleable__content\"><pre>OneHotEncoder(handle_unknown=&#x27;ignore&#x27;, sparse_output=False)</pre></div></div></div></div></div></div><div class=\"sk-parallel-item\"><div class=\"sk-item\"><div class=\"sk-label-container\"><div class=\"sk-label sk-toggleable\"><input class=\"sk-toggleable__control sk-hidden--visually\" id=\"sk-estimator-id-41\" type=\"checkbox\" ><label for=\"sk-estimator-id-41\" class=\"sk-toggleable__label sk-toggleable__label-arrow\">standardize</label><div class=\"sk-toggleable__content\"><pre>[&#x27;age&#x27;, &#x27;trtbps&#x27;, &#x27;chol&#x27;, &#x27;thalach&#x27;]</pre></div></div></div><div class=\"sk-serial\"><div class=\"sk-item\"><div class=\"sk-estimator sk-toggleable\"><input class=\"sk-toggleable__control sk-hidden--visually\" id=\"sk-estimator-id-42\" type=\"checkbox\" ><label for=\"sk-estimator-id-42\" class=\"sk-toggleable__label sk-toggleable__label-arrow\">StandardScaler</label><div class=\"sk-toggleable__content\"><pre>StandardScaler()</pre></div></div></div></div></div></div><div class=\"sk-parallel-item\"><div class=\"sk-item\"><div class=\"sk-label-container\"><div class=\"sk-label sk-toggleable\"><input class=\"sk-toggleable__control sk-hidden--visually\" id=\"sk-estimator-id-43\" type=\"checkbox\" ><label for=\"sk-estimator-id-43\" class=\"sk-toggleable__label sk-toggleable__label-arrow\">remainder</label><div class=\"sk-toggleable__content\"><pre>[]</pre></div></div></div><div class=\"sk-serial\"><div class=\"sk-item\"><div class=\"sk-estimator sk-toggleable\"><input class=\"sk-toggleable__control sk-hidden--visually\" id=\"sk-estimator-id-44\" type=\"checkbox\" ><label for=\"sk-estimator-id-44\" class=\"sk-toggleable__label sk-toggleable__label-arrow\">passthrough</label><div class=\"sk-toggleable__content\"><pre>passthrough</pre></div></div></div></div></div></div></div></div><div class=\"sk-item\"><div class=\"sk-estimator sk-toggleable\"><input class=\"sk-toggleable__control sk-hidden--visually\" id=\"sk-estimator-id-45\" type=\"checkbox\" ><label for=\"sk-estimator-id-45\" class=\"sk-toggleable__label sk-toggleable__label-arrow\">DecisionTreeClassifier</label><div class=\"sk-toggleable__content\"><pre>DecisionTreeClassifier(max_depth=1)</pre></div></div></div></div></div></div></div>"
      ],
      "text/plain": [
       "Pipeline(steps=[('preprocessing',\n",
       "                 ColumnTransformer(remainder='passthrough',\n",
       "                                   transformers=[('dummify',\n",
       "                                                  OneHotEncoder(handle_unknown='ignore',\n",
       "                                                                sparse_output=False),\n",
       "                                                  ['sex', 'cp', 'restecg']),\n",
       "                                                 ('standardize',\n",
       "                                                  StandardScaler(),\n",
       "                                                  ['age', 'trtbps', 'chol',\n",
       "                                                   'thalach'])])),\n",
       "                ('dt', DecisionTreeClassifier(max_depth=1))])"
      ]
     },
     "execution_count": 68,
     "metadata": {},
     "output_type": "execute_result"
    }
   ],
   "source": [
    "#fit pipeline again where max_depth = 1\n",
    "pipeline_dt5 = model(\"dt\", DecisionTreeClassifier(max_depth = 1))\n",
    "fitted_pipeline_dt5 = pipeline_dt5.fit(X, y)\n",
    "fitted_pipeline_dt5"
   ]
  },
  {
   "cell_type": "code",
   "execution_count": 69,
   "id": "d5070a24-0359-46d7-99d1-601c73ade36d",
   "metadata": {
    "tags": []
   },
   "outputs": [
    {
     "data": {
      "text/plain": [
       "array([1, 1, 1, 0, 0, 1, 1, 1, 1, 0, 1, 1, 1, 1, 1, 1, 0, 1, 1, 1, 1, 1,\n",
       "       1, 1, 1, 1, 0, 1, 1, 1, 1, 1, 1, 1, 1, 1, 0, 0, 1, 1, 1, 1, 1, 0,\n",
       "       1, 0, 1, 1, 1, 0, 0, 1, 0, 1, 1, 1, 1, 0, 1, 1, 1, 0, 1, 1, 1, 0,\n",
       "       1, 1, 1, 1, 1, 1, 1, 1, 0, 1, 1, 0, 0, 1, 1, 1, 0, 0, 0, 1, 1, 1,\n",
       "       1, 1, 1, 1, 0, 0, 1, 1, 0, 1, 1, 1, 1, 1, 0, 0, 1, 1, 1, 1, 1, 1,\n",
       "       1, 1, 1, 1, 1, 1, 0, 1, 1, 0, 0, 1, 0, 1, 0, 1, 1, 1, 1, 1, 1, 0,\n",
       "       0, 1, 1, 1, 0, 1, 1, 1, 1, 1, 1, 1, 1, 1, 0, 0, 0, 0, 0, 1, 1, 1,\n",
       "       0, 0, 0, 1, 0, 0, 0, 0, 1, 0, 0, 0, 0, 1, 0, 0, 0, 0, 0, 1, 0, 1,\n",
       "       0, 0, 0, 0, 0, 0, 1, 0, 0, 0, 1, 1, 0, 0, 0, 0, 0, 1, 0, 0, 0, 1,\n",
       "       0, 0, 0, 1, 0, 1, 1, 1, 0, 0, 0, 0, 0, 0, 0, 0, 0, 1, 0, 0, 0, 0,\n",
       "       0, 0, 1, 1, 1, 0, 0, 1, 0, 0, 0, 1, 0, 0, 0, 0, 0, 0, 0, 1, 0, 0,\n",
       "       0, 1, 0, 0, 0, 0, 1, 1, 0, 0, 0, 1, 0, 0, 0, 1, 1, 0, 0, 0, 0, 0,\n",
       "       1, 0, 0, 0, 0, 0, 1, 0, 1])"
      ]
     },
     "execution_count": 69,
     "metadata": {},
     "output_type": "execute_result"
    }
   ],
   "source": [
    "#predict output\n",
    "y_preds_dt5 = fitted_pipeline_dt5.predict(X)\n",
    "y_preds_dt5"
   ]
  },
  {
   "cell_type": "code",
   "execution_count": 70,
   "id": "6f5e94e3-d853-4138-b574-6a3afaf0a2dd",
   "metadata": {
    "tags": []
   },
   "outputs": [
    {
     "data": {
      "text/html": [
       "<div>\n",
       "<style scoped>\n",
       "    .dataframe tbody tr th:only-of-type {\n",
       "        vertical-align: middle;\n",
       "    }\n",
       "\n",
       "    .dataframe tbody tr th {\n",
       "        vertical-align: top;\n",
       "    }\n",
       "\n",
       "    .dataframe thead th {\n",
       "        text-align: right;\n",
       "    }\n",
       "</style>\n",
       "<table border=\"1\" class=\"dataframe\">\n",
       "  <thead>\n",
       "    <tr style=\"text-align: right;\">\n",
       "      <th></th>\n",
       "      <th>0</th>\n",
       "      <th>1</th>\n",
       "    </tr>\n",
       "  </thead>\n",
       "  <tbody>\n",
       "    <tr>\n",
       "      <th>0</th>\n",
       "      <td>94</td>\n",
       "      <td>33</td>\n",
       "    </tr>\n",
       "    <tr>\n",
       "      <th>1</th>\n",
       "      <td>34</td>\n",
       "      <td>112</td>\n",
       "    </tr>\n",
       "  </tbody>\n",
       "</table>\n",
       "</div>"
      ],
      "text/plain": [
       "    0    1\n",
       "0  94   33\n",
       "1  34  112"
      ]
     },
     "execution_count": 70,
     "metadata": {},
     "output_type": "execute_result"
    }
   ],
   "source": [
    "#confusion matrix\n",
    "conf_matrix_dt5 = confusion_matrix(y, y_preds_dt5)\n",
    "pd.DataFrame(conf_matrix_dt5)"
   ]
  },
  {
   "cell_type": "markdown",
   "id": "9278bdce-8166-4e72-96fb-6619b5177043",
   "metadata": {},
   "source": [
    "## Logistic Regression"
   ]
  },
  {
   "cell_type": "code",
   "execution_count": 71,
   "id": "3389e7fb-526e-4dad-bdc1-1d893a74ca00",
   "metadata": {
    "tags": []
   },
   "outputs": [
    {
     "name": "stderr",
     "output_type": "stream",
     "text": [
      "/Users/conniechou/anaconda3/lib/python3.11/site-packages/sklearn/linear_model/_sag.py:350: ConvergenceWarning: The max_iter was reached which means the coef_ did not converge\n",
      "/Users/conniechou/anaconda3/lib/python3.11/site-packages/sklearn/linear_model/_sag.py:350: ConvergenceWarning: The max_iter was reached which means the coef_ did not converge\n",
      "/Users/conniechou/anaconda3/lib/python3.11/site-packages/sklearn/linear_model/_sag.py:350: ConvergenceWarning: The max_iter was reached which means the coef_ did not converge\n",
      "/Users/conniechou/anaconda3/lib/python3.11/site-packages/sklearn/linear_model/_sag.py:350: ConvergenceWarning: The max_iter was reached which means the coef_ did not converge\n",
      "/Users/conniechou/anaconda3/lib/python3.11/site-packages/sklearn/linear_model/_sag.py:350: ConvergenceWarning: The max_iter was reached which means the coef_ did not converge\n",
      "/Users/conniechou/anaconda3/lib/python3.11/site-packages/sklearn/linear_model/_sag.py:350: ConvergenceWarning: The max_iter was reached which means the coef_ did not converge\n",
      "/Users/conniechou/anaconda3/lib/python3.11/site-packages/sklearn/linear_model/_sag.py:350: ConvergenceWarning: The max_iter was reached which means the coef_ did not converge\n",
      "/Users/conniechou/anaconda3/lib/python3.11/site-packages/sklearn/linear_model/_sag.py:350: ConvergenceWarning: The max_iter was reached which means the coef_ did not converge\n",
      "/Users/conniechou/anaconda3/lib/python3.11/site-packages/sklearn/linear_model/_sag.py:350: ConvergenceWarning: The max_iter was reached which means the coef_ did not converge\n",
      "/Users/conniechou/anaconda3/lib/python3.11/site-packages/sklearn/linear_model/_sag.py:350: ConvergenceWarning: The max_iter was reached which means the coef_ did not converge\n",
      "/Users/conniechou/anaconda3/lib/python3.11/site-packages/sklearn/linear_model/_sag.py:350: ConvergenceWarning: The max_iter was reached which means the coef_ did not converge\n",
      "/Users/conniechou/anaconda3/lib/python3.11/site-packages/sklearn/linear_model/_sag.py:350: ConvergenceWarning: The max_iter was reached which means the coef_ did not converge\n",
      "/Users/conniechou/anaconda3/lib/python3.11/site-packages/sklearn/linear_model/_sag.py:350: ConvergenceWarning: The max_iter was reached which means the coef_ did not converge\n",
      "/Users/conniechou/anaconda3/lib/python3.11/site-packages/sklearn/linear_model/_sag.py:350: ConvergenceWarning: The max_iter was reached which means the coef_ did not converge\n",
      "/Users/conniechou/anaconda3/lib/python3.11/site-packages/sklearn/linear_model/_sag.py:350: ConvergenceWarning: The max_iter was reached which means the coef_ did not converge\n",
      "/Users/conniechou/anaconda3/lib/python3.11/site-packages/sklearn/linear_model/_sag.py:350: ConvergenceWarning: The max_iter was reached which means the coef_ did not converge\n",
      "/Users/conniechou/anaconda3/lib/python3.11/site-packages/sklearn/linear_model/_sag.py:350: ConvergenceWarning: The max_iter was reached which means the coef_ did not converge\n",
      "/Users/conniechou/anaconda3/lib/python3.11/site-packages/sklearn/linear_model/_sag.py:350: ConvergenceWarning: The max_iter was reached which means the coef_ did not converge\n",
      "/Users/conniechou/anaconda3/lib/python3.11/site-packages/sklearn/linear_model/_sag.py:350: ConvergenceWarning: The max_iter was reached which means the coef_ did not converge\n",
      "/Users/conniechou/anaconda3/lib/python3.11/site-packages/sklearn/linear_model/_sag.py:350: ConvergenceWarning: The max_iter was reached which means the coef_ did not converge\n",
      "/Users/conniechou/anaconda3/lib/python3.11/site-packages/sklearn/linear_model/_sag.py:350: ConvergenceWarning: The max_iter was reached which means the coef_ did not converge\n",
      "/Users/conniechou/anaconda3/lib/python3.11/site-packages/sklearn/linear_model/_sag.py:350: ConvergenceWarning: The max_iter was reached which means the coef_ did not converge\n",
      "/Users/conniechou/anaconda3/lib/python3.11/site-packages/sklearn/linear_model/_sag.py:350: ConvergenceWarning: The max_iter was reached which means the coef_ did not converge\n",
      "/Users/conniechou/anaconda3/lib/python3.11/site-packages/sklearn/linear_model/_sag.py:350: ConvergenceWarning: The max_iter was reached which means the coef_ did not converge\n",
      "/Users/conniechou/anaconda3/lib/python3.11/site-packages/sklearn/linear_model/_sag.py:350: ConvergenceWarning: The max_iter was reached which means the coef_ did not converge\n",
      "/Users/conniechou/anaconda3/lib/python3.11/site-packages/sklearn/linear_model/_sag.py:350: ConvergenceWarning: The max_iter was reached which means the coef_ did not converge\n",
      "/Users/conniechou/anaconda3/lib/python3.11/site-packages/sklearn/linear_model/_sag.py:350: ConvergenceWarning: The max_iter was reached which means the coef_ did not converge\n",
      "/Users/conniechou/anaconda3/lib/python3.11/site-packages/sklearn/linear_model/_sag.py:350: ConvergenceWarning: The max_iter was reached which means the coef_ did not converge\n",
      "/Users/conniechou/anaconda3/lib/python3.11/site-packages/sklearn/linear_model/_sag.py:350: ConvergenceWarning: The max_iter was reached which means the coef_ did not converge\n",
      "/Users/conniechou/anaconda3/lib/python3.11/site-packages/sklearn/linear_model/_sag.py:350: ConvergenceWarning: The max_iter was reached which means the coef_ did not converge\n",
      "/Users/conniechou/anaconda3/lib/python3.11/site-packages/sklearn/linear_model/_sag.py:350: ConvergenceWarning: The max_iter was reached which means the coef_ did not converge\n",
      "/Users/conniechou/anaconda3/lib/python3.11/site-packages/sklearn/linear_model/_sag.py:350: ConvergenceWarning: The max_iter was reached which means the coef_ did not converge\n",
      "/Users/conniechou/anaconda3/lib/python3.11/site-packages/sklearn/linear_model/_sag.py:350: ConvergenceWarning: The max_iter was reached which means the coef_ did not converge\n",
      "/Users/conniechou/anaconda3/lib/python3.11/site-packages/sklearn/linear_model/_sag.py:350: ConvergenceWarning: The max_iter was reached which means the coef_ did not converge\n",
      "/Users/conniechou/anaconda3/lib/python3.11/site-packages/sklearn/linear_model/_sag.py:350: ConvergenceWarning: The max_iter was reached which means the coef_ did not converge\n",
      "/Users/conniechou/anaconda3/lib/python3.11/site-packages/sklearn/linear_model/_sag.py:350: ConvergenceWarning: The max_iter was reached which means the coef_ did not converge\n",
      "/Users/conniechou/anaconda3/lib/python3.11/site-packages/sklearn/linear_model/_sag.py:350: ConvergenceWarning: The max_iter was reached which means the coef_ did not converge\n",
      "/Users/conniechou/anaconda3/lib/python3.11/site-packages/sklearn/linear_model/_sag.py:350: ConvergenceWarning: The max_iter was reached which means the coef_ did not converge\n",
      "/Users/conniechou/anaconda3/lib/python3.11/site-packages/sklearn/linear_model/_sag.py:350: ConvergenceWarning: The max_iter was reached which means the coef_ did not converge\n",
      "/Users/conniechou/anaconda3/lib/python3.11/site-packages/sklearn/linear_model/_sag.py:350: ConvergenceWarning: The max_iter was reached which means the coef_ did not converge\n",
      "/Users/conniechou/anaconda3/lib/python3.11/site-packages/sklearn/linear_model/_sag.py:350: ConvergenceWarning: The max_iter was reached which means the coef_ did not converge\n",
      "/Users/conniechou/anaconda3/lib/python3.11/site-packages/sklearn/linear_model/_sag.py:350: ConvergenceWarning: The max_iter was reached which means the coef_ did not converge\n",
      "/Users/conniechou/anaconda3/lib/python3.11/site-packages/sklearn/linear_model/_logistic.py:1182: FutureWarning: `penalty='none'`has been deprecated in 1.2 and will be removed in 1.4. To keep the past behaviour, set `penalty=None`.\n",
      "/Users/conniechou/anaconda3/lib/python3.11/site-packages/sklearn/linear_model/_logistic.py:1182: FutureWarning: `penalty='none'`has been deprecated in 1.2 and will be removed in 1.4. To keep the past behaviour, set `penalty=None`.\n",
      "/Users/conniechou/anaconda3/lib/python3.11/site-packages/sklearn/linear_model/_logistic.py:1182: FutureWarning: `penalty='none'`has been deprecated in 1.2 and will be removed in 1.4. To keep the past behaviour, set `penalty=None`.\n",
      "/Users/conniechou/anaconda3/lib/python3.11/site-packages/sklearn/linear_model/_logistic.py:1182: FutureWarning: `penalty='none'`has been deprecated in 1.2 and will be removed in 1.4. To keep the past behaviour, set `penalty=None`.\n",
      "/Users/conniechou/anaconda3/lib/python3.11/site-packages/sklearn/linear_model/_logistic.py:1182: FutureWarning: `penalty='none'`has been deprecated in 1.2 and will be removed in 1.4. To keep the past behaviour, set `penalty=None`.\n",
      "/Users/conniechou/anaconda3/lib/python3.11/site-packages/sklearn/linear_model/_logistic.py:1182: FutureWarning: `penalty='none'`has been deprecated in 1.2 and will be removed in 1.4. To keep the past behaviour, set `penalty=None`.\n",
      "/Users/conniechou/anaconda3/lib/python3.11/site-packages/sklearn/linear_model/_logistic.py:1182: FutureWarning: `penalty='none'`has been deprecated in 1.2 and will be removed in 1.4. To keep the past behaviour, set `penalty=None`.\n",
      "/Users/conniechou/anaconda3/lib/python3.11/site-packages/sklearn/linear_model/_logistic.py:1182: FutureWarning: `penalty='none'`has been deprecated in 1.2 and will be removed in 1.4. To keep the past behaviour, set `penalty=None`.\n",
      "/Users/conniechou/anaconda3/lib/python3.11/site-packages/sklearn/linear_model/_logistic.py:1182: FutureWarning: `penalty='none'`has been deprecated in 1.2 and will be removed in 1.4. To keep the past behaviour, set `penalty=None`.\n",
      "/Users/conniechou/anaconda3/lib/python3.11/site-packages/sklearn/linear_model/_logistic.py:1182: FutureWarning: `penalty='none'`has been deprecated in 1.2 and will be removed in 1.4. To keep the past behaviour, set `penalty=None`.\n",
      "/Users/conniechou/anaconda3/lib/python3.11/site-packages/sklearn/linear_model/_logistic.py:1182: FutureWarning: `penalty='none'`has been deprecated in 1.2 and will be removed in 1.4. To keep the past behaviour, set `penalty=None`.\n",
      "/Users/conniechou/anaconda3/lib/python3.11/site-packages/sklearn/linear_model/_logistic.py:1182: FutureWarning: `penalty='none'`has been deprecated in 1.2 and will be removed in 1.4. To keep the past behaviour, set `penalty=None`.\n",
      "/Users/conniechou/anaconda3/lib/python3.11/site-packages/sklearn/linear_model/_logistic.py:1182: FutureWarning: `penalty='none'`has been deprecated in 1.2 and will be removed in 1.4. To keep the past behaviour, set `penalty=None`.\n",
      "/Users/conniechou/anaconda3/lib/python3.11/site-packages/sklearn/linear_model/_logistic.py:1182: FutureWarning: `penalty='none'`has been deprecated in 1.2 and will be removed in 1.4. To keep the past behaviour, set `penalty=None`.\n",
      "/Users/conniechou/anaconda3/lib/python3.11/site-packages/sklearn/linear_model/_logistic.py:1182: FutureWarning: `penalty='none'`has been deprecated in 1.2 and will be removed in 1.4. To keep the past behaviour, set `penalty=None`.\n",
      "/Users/conniechou/anaconda3/lib/python3.11/site-packages/sklearn/linear_model/_sag.py:350: ConvergenceWarning: The max_iter was reached which means the coef_ did not converge\n",
      "/Users/conniechou/anaconda3/lib/python3.11/site-packages/sklearn/linear_model/_logistic.py:1182: FutureWarning: `penalty='none'`has been deprecated in 1.2 and will be removed in 1.4. To keep the past behaviour, set `penalty=None`.\n",
      "/Users/conniechou/anaconda3/lib/python3.11/site-packages/sklearn/linear_model/_sag.py:350: ConvergenceWarning: The max_iter was reached which means the coef_ did not converge\n",
      "/Users/conniechou/anaconda3/lib/python3.11/site-packages/sklearn/linear_model/_logistic.py:1182: FutureWarning: `penalty='none'`has been deprecated in 1.2 and will be removed in 1.4. To keep the past behaviour, set `penalty=None`.\n",
      "/Users/conniechou/anaconda3/lib/python3.11/site-packages/sklearn/linear_model/_sag.py:350: ConvergenceWarning: The max_iter was reached which means the coef_ did not converge\n",
      "/Users/conniechou/anaconda3/lib/python3.11/site-packages/sklearn/linear_model/_logistic.py:1182: FutureWarning: `penalty='none'`has been deprecated in 1.2 and will be removed in 1.4. To keep the past behaviour, set `penalty=None`.\n",
      "/Users/conniechou/anaconda3/lib/python3.11/site-packages/sklearn/linear_model/_logistic.py:1182: FutureWarning: `penalty='none'`has been deprecated in 1.2 and will be removed in 1.4. To keep the past behaviour, set `penalty=None`.\n",
      "/Users/conniechou/anaconda3/lib/python3.11/site-packages/sklearn/linear_model/_sag.py:350: ConvergenceWarning: The max_iter was reached which means the coef_ did not converge\n",
      "/Users/conniechou/anaconda3/lib/python3.11/site-packages/sklearn/linear_model/_logistic.py:1182: FutureWarning: `penalty='none'`has been deprecated in 1.2 and will be removed in 1.4. To keep the past behaviour, set `penalty=None`.\n",
      "/Users/conniechou/anaconda3/lib/python3.11/site-packages/sklearn/linear_model/_sag.py:350: ConvergenceWarning: The max_iter was reached which means the coef_ did not converge\n"
     ]
    }
   ],
   "source": [
    "#run logistic regression\n",
    "pipeline_log = model(\"log_reg\", LogisticRegression())\n",
    "\n",
    "#different penalties (l1 = lasso, l2 = ridge, elastic_net)\n",
    "#make sure to also include l1_ratio values for elastic_net\n",
    "\n",
    "param_grid = [\n",
    "    {'log_reg__penalty': ['l1', 'l2'], \n",
    "     'log_reg__C': [0.001, 0.01, 0.1, 1, 10],\n",
    "     'log_reg__solver': ['liblinear', 'saga']},  # 'liblinear' and 'saga' support 'l1' and 'l2'\n",
    "\n",
    "    {'log_reg__penalty': ['elasticnet'], \n",
    "     'log_reg__C': [0.001, 0.01, 0.1, 1, 10],\n",
    "     'log_reg__solver': ['saga'],  # 'saga' supports 'elasticnet'\n",
    "     'log_reg__l1_ratio': [0, 0.5, 1]},  # Relevant for 'elasticnet' only\n",
    "\n",
    "    {'log_reg__penalty': ['none'], \n",
    "     'log_reg__solver': ['newton-cg', 'lbfgs', 'sag', 'saga']}  # These solvers support no penalty\n",
    "]\n",
    "\n",
    "#running girdsearchcv to tune to different n_neighbor values\n",
    "gscv_log = GridSearchCV(pipeline_log, param_grid, cv = 5, scoring='roc_auc')\n",
    "gscv_fitted_log = gscv_log.fit(X, y)"
   ]
  },
  {
   "cell_type": "code",
   "execution_count": 72,
   "id": "061ceee5-850a-4549-b898-6ecb8c056d9c",
   "metadata": {
    "tags": []
   },
   "outputs": [
    {
     "data": {
      "text/html": [
       "<div>\n",
       "<style scoped>\n",
       "    .dataframe tbody tr th:only-of-type {\n",
       "        vertical-align: middle;\n",
       "    }\n",
       "\n",
       "    .dataframe tbody tr th {\n",
       "        vertical-align: top;\n",
       "    }\n",
       "\n",
       "    .dataframe thead th {\n",
       "        text-align: right;\n",
       "    }\n",
       "</style>\n",
       "<table border=\"1\" class=\"dataframe\">\n",
       "  <thead>\n",
       "    <tr style=\"text-align: right;\">\n",
       "      <th></th>\n",
       "      <th>mean_fit_time</th>\n",
       "      <th>std_fit_time</th>\n",
       "      <th>mean_score_time</th>\n",
       "      <th>std_score_time</th>\n",
       "      <th>param_log_reg__C</th>\n",
       "      <th>param_log_reg__penalty</th>\n",
       "      <th>param_log_reg__solver</th>\n",
       "      <th>param_log_reg__l1_ratio</th>\n",
       "      <th>params</th>\n",
       "      <th>split0_test_score</th>\n",
       "      <th>split1_test_score</th>\n",
       "      <th>split2_test_score</th>\n",
       "      <th>split3_test_score</th>\n",
       "      <th>split4_test_score</th>\n",
       "      <th>mean_test_score</th>\n",
       "      <th>std_test_score</th>\n",
       "      <th>rank_test_score</th>\n",
       "    </tr>\n",
       "  </thead>\n",
       "  <tbody>\n",
       "    <tr>\n",
       "      <th>0</th>\n",
       "      <td>0.026129</td>\n",
       "      <td>0.010221</td>\n",
       "      <td>0.014643</td>\n",
       "      <td>0.002188</td>\n",
       "      <td>0.001</td>\n",
       "      <td>l1</td>\n",
       "      <td>liblinear</td>\n",
       "      <td>NaN</td>\n",
       "      <td>{'log_reg__C': 0.001, 'log_reg__penalty': 'l1'...</td>\n",
       "      <td>0.500000</td>\n",
       "      <td>0.500000</td>\n",
       "      <td>0.500000</td>\n",
       "      <td>0.500000</td>\n",
       "      <td>0.500000</td>\n",
       "      <td>0.500000</td>\n",
       "      <td>0.000000</td>\n",
       "      <td>33</td>\n",
       "    </tr>\n",
       "    <tr>\n",
       "      <th>1</th>\n",
       "      <td>0.018695</td>\n",
       "      <td>0.002573</td>\n",
       "      <td>0.015878</td>\n",
       "      <td>0.004035</td>\n",
       "      <td>0.001</td>\n",
       "      <td>l1</td>\n",
       "      <td>saga</td>\n",
       "      <td>NaN</td>\n",
       "      <td>{'log_reg__C': 0.001, 'log_reg__penalty': 'l1'...</td>\n",
       "      <td>0.500000</td>\n",
       "      <td>0.500000</td>\n",
       "      <td>0.500000</td>\n",
       "      <td>0.500000</td>\n",
       "      <td>0.500000</td>\n",
       "      <td>0.500000</td>\n",
       "      <td>0.000000</td>\n",
       "      <td>33</td>\n",
       "    </tr>\n",
       "    <tr>\n",
       "      <th>2</th>\n",
       "      <td>0.013183</td>\n",
       "      <td>0.002950</td>\n",
       "      <td>0.010521</td>\n",
       "      <td>0.002733</td>\n",
       "      <td>0.001</td>\n",
       "      <td>l2</td>\n",
       "      <td>liblinear</td>\n",
       "      <td>NaN</td>\n",
       "      <td>{'log_reg__C': 0.001, 'log_reg__penalty': 'l2'...</td>\n",
       "      <td>0.745333</td>\n",
       "      <td>0.874005</td>\n",
       "      <td>0.877984</td>\n",
       "      <td>0.856552</td>\n",
       "      <td>0.688276</td>\n",
       "      <td>0.808430</td>\n",
       "      <td>0.077294</td>\n",
       "      <td>31</td>\n",
       "    </tr>\n",
       "    <tr>\n",
       "      <th>3</th>\n",
       "      <td>0.011850</td>\n",
       "      <td>0.000762</td>\n",
       "      <td>0.008639</td>\n",
       "      <td>0.000254</td>\n",
       "      <td>0.001</td>\n",
       "      <td>l2</td>\n",
       "      <td>saga</td>\n",
       "      <td>NaN</td>\n",
       "      <td>{'log_reg__C': 0.001, 'log_reg__penalty': 'l2'...</td>\n",
       "      <td>0.750667</td>\n",
       "      <td>0.880637</td>\n",
       "      <td>0.879310</td>\n",
       "      <td>0.862069</td>\n",
       "      <td>0.688276</td>\n",
       "      <td>0.812192</td>\n",
       "      <td>0.078508</td>\n",
       "      <td>29</td>\n",
       "    </tr>\n",
       "    <tr>\n",
       "      <th>4</th>\n",
       "      <td>0.009778</td>\n",
       "      <td>0.000270</td>\n",
       "      <td>0.007529</td>\n",
       "      <td>0.000191</td>\n",
       "      <td>0.01</td>\n",
       "      <td>l1</td>\n",
       "      <td>liblinear</td>\n",
       "      <td>NaN</td>\n",
       "      <td>{'log_reg__C': 0.01, 'log_reg__penalty': 'l1',...</td>\n",
       "      <td>0.500000</td>\n",
       "      <td>0.500000</td>\n",
       "      <td>0.500000</td>\n",
       "      <td>0.500000</td>\n",
       "      <td>0.500000</td>\n",
       "      <td>0.500000</td>\n",
       "      <td>0.000000</td>\n",
       "      <td>33</td>\n",
       "    </tr>\n",
       "  </tbody>\n",
       "</table>\n",
       "</div>"
      ],
      "text/plain": [
       "   mean_fit_time  std_fit_time  mean_score_time  std_score_time  \\\n",
       "0       0.026129      0.010221         0.014643        0.002188   \n",
       "1       0.018695      0.002573         0.015878        0.004035   \n",
       "2       0.013183      0.002950         0.010521        0.002733   \n",
       "3       0.011850      0.000762         0.008639        0.000254   \n",
       "4       0.009778      0.000270         0.007529        0.000191   \n",
       "\n",
       "  param_log_reg__C param_log_reg__penalty param_log_reg__solver  \\\n",
       "0            0.001                     l1             liblinear   \n",
       "1            0.001                     l1                  saga   \n",
       "2            0.001                     l2             liblinear   \n",
       "3            0.001                     l2                  saga   \n",
       "4             0.01                     l1             liblinear   \n",
       "\n",
       "  param_log_reg__l1_ratio                                             params  \\\n",
       "0                     NaN  {'log_reg__C': 0.001, 'log_reg__penalty': 'l1'...   \n",
       "1                     NaN  {'log_reg__C': 0.001, 'log_reg__penalty': 'l1'...   \n",
       "2                     NaN  {'log_reg__C': 0.001, 'log_reg__penalty': 'l2'...   \n",
       "3                     NaN  {'log_reg__C': 0.001, 'log_reg__penalty': 'l2'...   \n",
       "4                     NaN  {'log_reg__C': 0.01, 'log_reg__penalty': 'l1',...   \n",
       "\n",
       "   split0_test_score  split1_test_score  split2_test_score  split3_test_score  \\\n",
       "0           0.500000           0.500000           0.500000           0.500000   \n",
       "1           0.500000           0.500000           0.500000           0.500000   \n",
       "2           0.745333           0.874005           0.877984           0.856552   \n",
       "3           0.750667           0.880637           0.879310           0.862069   \n",
       "4           0.500000           0.500000           0.500000           0.500000   \n",
       "\n",
       "   split4_test_score  mean_test_score  std_test_score  rank_test_score  \n",
       "0           0.500000         0.500000        0.000000               33  \n",
       "1           0.500000         0.500000        0.000000               33  \n",
       "2           0.688276         0.808430        0.077294               31  \n",
       "3           0.688276         0.812192        0.078508               29  \n",
       "4           0.500000         0.500000        0.000000               33  "
      ]
     },
     "execution_count": 72,
     "metadata": {},
     "output_type": "execute_result"
    }
   ],
   "source": [
    "#creating dataframe for n_neighbor values and roc_auc scores\n",
    "log_reg_df = pd.DataFrame(gscv_fitted_log.cv_results_)\n",
    "log_reg_df.head()"
   ]
  },
  {
   "cell_type": "code",
   "execution_count": 73,
   "id": "1dd0d2c2-5bd7-47f1-9d07-6845d0973bbd",
   "metadata": {
    "tags": []
   },
   "outputs": [
    {
     "data": {
      "text/html": [
       "<div>\n",
       "<style scoped>\n",
       "    .dataframe tbody tr th:only-of-type {\n",
       "        vertical-align: middle;\n",
       "    }\n",
       "\n",
       "    .dataframe tbody tr th {\n",
       "        vertical-align: top;\n",
       "    }\n",
       "\n",
       "    .dataframe thead th {\n",
       "        text-align: right;\n",
       "    }\n",
       "</style>\n",
       "<table border=\"1\" class=\"dataframe\">\n",
       "  <thead>\n",
       "    <tr style=\"text-align: right;\">\n",
       "      <th></th>\n",
       "      <th>param_log_reg__C</th>\n",
       "      <th>param_log_reg__l1_ratio</th>\n",
       "      <th>param_log_reg__solver</th>\n",
       "      <th>param_log_reg__penalty</th>\n",
       "      <th>mean_test_score</th>\n",
       "      <th>rank_test_score</th>\n",
       "    </tr>\n",
       "  </thead>\n",
       "  <tbody>\n",
       "    <tr>\n",
       "      <th>31</th>\n",
       "      <td>1</td>\n",
       "      <td>1</td>\n",
       "      <td>saga</td>\n",
       "      <td>elasticnet</td>\n",
       "      <td>0.868394</td>\n",
       "      <td>1</td>\n",
       "    </tr>\n",
       "    <tr>\n",
       "      <th>13</th>\n",
       "      <td>1</td>\n",
       "      <td>NaN</td>\n",
       "      <td>saga</td>\n",
       "      <td>l1</td>\n",
       "      <td>0.868394</td>\n",
       "      <td>1</td>\n",
       "    </tr>\n",
       "    <tr>\n",
       "      <th>12</th>\n",
       "      <td>1</td>\n",
       "      <td>NaN</td>\n",
       "      <td>liblinear</td>\n",
       "      <td>l1</td>\n",
       "      <td>0.865981</td>\n",
       "      <td>3</td>\n",
       "    </tr>\n",
       "    <tr>\n",
       "      <th>30</th>\n",
       "      <td>1</td>\n",
       "      <td>0.5</td>\n",
       "      <td>saga</td>\n",
       "      <td>elasticnet</td>\n",
       "      <td>0.865433</td>\n",
       "      <td>4</td>\n",
       "    </tr>\n",
       "    <tr>\n",
       "      <th>29</th>\n",
       "      <td>1</td>\n",
       "      <td>0</td>\n",
       "      <td>saga</td>\n",
       "      <td>elasticnet</td>\n",
       "      <td>0.864368</td>\n",
       "      <td>5</td>\n",
       "    </tr>\n",
       "  </tbody>\n",
       "</table>\n",
       "</div>"
      ],
      "text/plain": [
       "   param_log_reg__C param_log_reg__l1_ratio param_log_reg__solver  \\\n",
       "31                1                       1                  saga   \n",
       "13                1                     NaN                  saga   \n",
       "12                1                     NaN             liblinear   \n",
       "30                1                     0.5                  saga   \n",
       "29                1                       0                  saga   \n",
       "\n",
       "   param_log_reg__penalty  mean_test_score  rank_test_score  \n",
       "31             elasticnet         0.868394                1  \n",
       "13                     l1         0.868394                1  \n",
       "12                     l1         0.865981                3  \n",
       "30             elasticnet         0.865433                4  \n",
       "29             elasticnet         0.864368                5  "
      ]
     },
     "execution_count": 73,
     "metadata": {},
     "output_type": "execute_result"
    }
   ],
   "source": [
    "#narrow down dataframe\n",
    "log_df = log_reg_df[[\"param_log_reg__C\", \"param_log_reg__l1_ratio\", \"param_log_reg__solver\", \n",
    "                     \"param_log_reg__penalty\", \"mean_test_score\", \"rank_test_score\"]]\n",
    "log_df.sort_values(by = \"mean_test_score\", ascending = False).head()"
   ]
  },
  {
   "cell_type": "markdown",
   "id": "929c786c-ba59-432f-92d6-025ef455f1af",
   "metadata": {},
   "source": [
    "Best logistic regression model is when elastic net is used. The ideal lambda value is 1, alpha value is 1, and solver = saga. The ROC AUC value is 0.868."
   ]
  },
  {
   "cell_type": "code",
   "execution_count": 74,
   "id": "91c612d5-6026-4933-ab83-f2da14ef48f7",
   "metadata": {
    "tags": []
   },
   "outputs": [
    {
     "data": {
      "text/html": [
       "<style>#sk-container-id-6 {color: black;}#sk-container-id-6 pre{padding: 0;}#sk-container-id-6 div.sk-toggleable {background-color: white;}#sk-container-id-6 label.sk-toggleable__label {cursor: pointer;display: block;width: 100%;margin-bottom: 0;padding: 0.3em;box-sizing: border-box;text-align: center;}#sk-container-id-6 label.sk-toggleable__label-arrow:before {content: \"▸\";float: left;margin-right: 0.25em;color: #696969;}#sk-container-id-6 label.sk-toggleable__label-arrow:hover:before {color: black;}#sk-container-id-6 div.sk-estimator:hover label.sk-toggleable__label-arrow:before {color: black;}#sk-container-id-6 div.sk-toggleable__content {max-height: 0;max-width: 0;overflow: hidden;text-align: left;background-color: #f0f8ff;}#sk-container-id-6 div.sk-toggleable__content pre {margin: 0.2em;color: black;border-radius: 0.25em;background-color: #f0f8ff;}#sk-container-id-6 input.sk-toggleable__control:checked~div.sk-toggleable__content {max-height: 200px;max-width: 100%;overflow: auto;}#sk-container-id-6 input.sk-toggleable__control:checked~label.sk-toggleable__label-arrow:before {content: \"▾\";}#sk-container-id-6 div.sk-estimator input.sk-toggleable__control:checked~label.sk-toggleable__label {background-color: #d4ebff;}#sk-container-id-6 div.sk-label input.sk-toggleable__control:checked~label.sk-toggleable__label {background-color: #d4ebff;}#sk-container-id-6 input.sk-hidden--visually {border: 0;clip: rect(1px 1px 1px 1px);clip: rect(1px, 1px, 1px, 1px);height: 1px;margin: -1px;overflow: hidden;padding: 0;position: absolute;width: 1px;}#sk-container-id-6 div.sk-estimator {font-family: monospace;background-color: #f0f8ff;border: 1px dotted black;border-radius: 0.25em;box-sizing: border-box;margin-bottom: 0.5em;}#sk-container-id-6 div.sk-estimator:hover {background-color: #d4ebff;}#sk-container-id-6 div.sk-parallel-item::after {content: \"\";width: 100%;border-bottom: 1px solid gray;flex-grow: 1;}#sk-container-id-6 div.sk-label:hover label.sk-toggleable__label {background-color: #d4ebff;}#sk-container-id-6 div.sk-serial::before {content: \"\";position: absolute;border-left: 1px solid gray;box-sizing: border-box;top: 0;bottom: 0;left: 50%;z-index: 0;}#sk-container-id-6 div.sk-serial {display: flex;flex-direction: column;align-items: center;background-color: white;padding-right: 0.2em;padding-left: 0.2em;position: relative;}#sk-container-id-6 div.sk-item {position: relative;z-index: 1;}#sk-container-id-6 div.sk-parallel {display: flex;align-items: stretch;justify-content: center;background-color: white;position: relative;}#sk-container-id-6 div.sk-item::before, #sk-container-id-6 div.sk-parallel-item::before {content: \"\";position: absolute;border-left: 1px solid gray;box-sizing: border-box;top: 0;bottom: 0;left: 50%;z-index: -1;}#sk-container-id-6 div.sk-parallel-item {display: flex;flex-direction: column;z-index: 1;position: relative;background-color: white;}#sk-container-id-6 div.sk-parallel-item:first-child::after {align-self: flex-end;width: 50%;}#sk-container-id-6 div.sk-parallel-item:last-child::after {align-self: flex-start;width: 50%;}#sk-container-id-6 div.sk-parallel-item:only-child::after {width: 0;}#sk-container-id-6 div.sk-dashed-wrapped {border: 1px dashed gray;margin: 0 0.4em 0.5em 0.4em;box-sizing: border-box;padding-bottom: 0.4em;background-color: white;}#sk-container-id-6 div.sk-label label {font-family: monospace;font-weight: bold;display: inline-block;line-height: 1.2em;}#sk-container-id-6 div.sk-label-container {text-align: center;}#sk-container-id-6 div.sk-container {/* jupyter's `normalize.less` sets `[hidden] { display: none; }` but bootstrap.min.css set `[hidden] { display: none !important; }` so we also need the `!important` here to be able to override the default hidden behavior on the sphinx rendered scikit-learn.org. See: https://github.com/scikit-learn/scikit-learn/issues/21755 */display: inline-block !important;position: relative;}#sk-container-id-6 div.sk-text-repr-fallback {display: none;}</style><div id=\"sk-container-id-6\" class=\"sk-top-container\"><div class=\"sk-text-repr-fallback\"><pre>Pipeline(steps=[(&#x27;preprocessing&#x27;,\n",
       "                 ColumnTransformer(remainder=&#x27;passthrough&#x27;,\n",
       "                                   transformers=[(&#x27;dummify&#x27;,\n",
       "                                                  OneHotEncoder(handle_unknown=&#x27;ignore&#x27;,\n",
       "                                                                sparse_output=False),\n",
       "                                                  [&#x27;sex&#x27;, &#x27;cp&#x27;, &#x27;restecg&#x27;]),\n",
       "                                                 (&#x27;standardize&#x27;,\n",
       "                                                  StandardScaler(),\n",
       "                                                  [&#x27;age&#x27;, &#x27;trtbps&#x27;, &#x27;chol&#x27;,\n",
       "                                                   &#x27;thalach&#x27;])])),\n",
       "                (&#x27;log_reg&#x27;,\n",
       "                 LogisticRegression(C=1, l1_ratio=1, penalty=&#x27;elasticnet&#x27;,\n",
       "                                    solver=&#x27;saga&#x27;))])</pre><b>In a Jupyter environment, please rerun this cell to show the HTML representation or trust the notebook. <br />On GitHub, the HTML representation is unable to render, please try loading this page with nbviewer.org.</b></div><div class=\"sk-container\" hidden><div class=\"sk-item sk-dashed-wrapped\"><div class=\"sk-label-container\"><div class=\"sk-label sk-toggleable\"><input class=\"sk-toggleable__control sk-hidden--visually\" id=\"sk-estimator-id-46\" type=\"checkbox\" ><label for=\"sk-estimator-id-46\" class=\"sk-toggleable__label sk-toggleable__label-arrow\">Pipeline</label><div class=\"sk-toggleable__content\"><pre>Pipeline(steps=[(&#x27;preprocessing&#x27;,\n",
       "                 ColumnTransformer(remainder=&#x27;passthrough&#x27;,\n",
       "                                   transformers=[(&#x27;dummify&#x27;,\n",
       "                                                  OneHotEncoder(handle_unknown=&#x27;ignore&#x27;,\n",
       "                                                                sparse_output=False),\n",
       "                                                  [&#x27;sex&#x27;, &#x27;cp&#x27;, &#x27;restecg&#x27;]),\n",
       "                                                 (&#x27;standardize&#x27;,\n",
       "                                                  StandardScaler(),\n",
       "                                                  [&#x27;age&#x27;, &#x27;trtbps&#x27;, &#x27;chol&#x27;,\n",
       "                                                   &#x27;thalach&#x27;])])),\n",
       "                (&#x27;log_reg&#x27;,\n",
       "                 LogisticRegression(C=1, l1_ratio=1, penalty=&#x27;elasticnet&#x27;,\n",
       "                                    solver=&#x27;saga&#x27;))])</pre></div></div></div><div class=\"sk-serial\"><div class=\"sk-item sk-dashed-wrapped\"><div class=\"sk-label-container\"><div class=\"sk-label sk-toggleable\"><input class=\"sk-toggleable__control sk-hidden--visually\" id=\"sk-estimator-id-47\" type=\"checkbox\" ><label for=\"sk-estimator-id-47\" class=\"sk-toggleable__label sk-toggleable__label-arrow\">preprocessing: ColumnTransformer</label><div class=\"sk-toggleable__content\"><pre>ColumnTransformer(remainder=&#x27;passthrough&#x27;,\n",
       "                  transformers=[(&#x27;dummify&#x27;,\n",
       "                                 OneHotEncoder(handle_unknown=&#x27;ignore&#x27;,\n",
       "                                               sparse_output=False),\n",
       "                                 [&#x27;sex&#x27;, &#x27;cp&#x27;, &#x27;restecg&#x27;]),\n",
       "                                (&#x27;standardize&#x27;, StandardScaler(),\n",
       "                                 [&#x27;age&#x27;, &#x27;trtbps&#x27;, &#x27;chol&#x27;, &#x27;thalach&#x27;])])</pre></div></div></div><div class=\"sk-parallel\"><div class=\"sk-parallel-item\"><div class=\"sk-item\"><div class=\"sk-label-container\"><div class=\"sk-label sk-toggleable\"><input class=\"sk-toggleable__control sk-hidden--visually\" id=\"sk-estimator-id-48\" type=\"checkbox\" ><label for=\"sk-estimator-id-48\" class=\"sk-toggleable__label sk-toggleable__label-arrow\">dummify</label><div class=\"sk-toggleable__content\"><pre>[&#x27;sex&#x27;, &#x27;cp&#x27;, &#x27;restecg&#x27;]</pre></div></div></div><div class=\"sk-serial\"><div class=\"sk-item\"><div class=\"sk-estimator sk-toggleable\"><input class=\"sk-toggleable__control sk-hidden--visually\" id=\"sk-estimator-id-49\" type=\"checkbox\" ><label for=\"sk-estimator-id-49\" class=\"sk-toggleable__label sk-toggleable__label-arrow\">OneHotEncoder</label><div class=\"sk-toggleable__content\"><pre>OneHotEncoder(handle_unknown=&#x27;ignore&#x27;, sparse_output=False)</pre></div></div></div></div></div></div><div class=\"sk-parallel-item\"><div class=\"sk-item\"><div class=\"sk-label-container\"><div class=\"sk-label sk-toggleable\"><input class=\"sk-toggleable__control sk-hidden--visually\" id=\"sk-estimator-id-50\" type=\"checkbox\" ><label for=\"sk-estimator-id-50\" class=\"sk-toggleable__label sk-toggleable__label-arrow\">standardize</label><div class=\"sk-toggleable__content\"><pre>[&#x27;age&#x27;, &#x27;trtbps&#x27;, &#x27;chol&#x27;, &#x27;thalach&#x27;]</pre></div></div></div><div class=\"sk-serial\"><div class=\"sk-item\"><div class=\"sk-estimator sk-toggleable\"><input class=\"sk-toggleable__control sk-hidden--visually\" id=\"sk-estimator-id-51\" type=\"checkbox\" ><label for=\"sk-estimator-id-51\" class=\"sk-toggleable__label sk-toggleable__label-arrow\">StandardScaler</label><div class=\"sk-toggleable__content\"><pre>StandardScaler()</pre></div></div></div></div></div></div><div class=\"sk-parallel-item\"><div class=\"sk-item\"><div class=\"sk-label-container\"><div class=\"sk-label sk-toggleable\"><input class=\"sk-toggleable__control sk-hidden--visually\" id=\"sk-estimator-id-52\" type=\"checkbox\" ><label for=\"sk-estimator-id-52\" class=\"sk-toggleable__label sk-toggleable__label-arrow\">remainder</label><div class=\"sk-toggleable__content\"><pre>[]</pre></div></div></div><div class=\"sk-serial\"><div class=\"sk-item\"><div class=\"sk-estimator sk-toggleable\"><input class=\"sk-toggleable__control sk-hidden--visually\" id=\"sk-estimator-id-53\" type=\"checkbox\" ><label for=\"sk-estimator-id-53\" class=\"sk-toggleable__label sk-toggleable__label-arrow\">passthrough</label><div class=\"sk-toggleable__content\"><pre>passthrough</pre></div></div></div></div></div></div></div></div><div class=\"sk-item\"><div class=\"sk-estimator sk-toggleable\"><input class=\"sk-toggleable__control sk-hidden--visually\" id=\"sk-estimator-id-54\" type=\"checkbox\" ><label for=\"sk-estimator-id-54\" class=\"sk-toggleable__label sk-toggleable__label-arrow\">LogisticRegression</label><div class=\"sk-toggleable__content\"><pre>LogisticRegression(C=1, l1_ratio=1, penalty=&#x27;elasticnet&#x27;, solver=&#x27;saga&#x27;)</pre></div></div></div></div></div></div></div>"
      ],
      "text/plain": [
       "Pipeline(steps=[('preprocessing',\n",
       "                 ColumnTransformer(remainder='passthrough',\n",
       "                                   transformers=[('dummify',\n",
       "                                                  OneHotEncoder(handle_unknown='ignore',\n",
       "                                                                sparse_output=False),\n",
       "                                                  ['sex', 'cp', 'restecg']),\n",
       "                                                 ('standardize',\n",
       "                                                  StandardScaler(),\n",
       "                                                  ['age', 'trtbps', 'chol',\n",
       "                                                   'thalach'])])),\n",
       "                ('log_reg',\n",
       "                 LogisticRegression(C=1, l1_ratio=1, penalty='elasticnet',\n",
       "                                    solver='saga'))])"
      ]
     },
     "execution_count": 74,
     "metadata": {},
     "output_type": "execute_result"
    }
   ],
   "source": [
    "#fit model again on training\n",
    "pipeline_log_real = model(\"log_reg\", LogisticRegression(penalty = \"elasticnet\", C = 1, l1_ratio=1, solver = \"saga\"))\n",
    "fitted_pipeline_log_real = pipeline_log_real.fit(X, y)\n",
    "fitted_pipeline_log_real"
   ]
  },
  {
   "cell_type": "code",
   "execution_count": 75,
   "id": "1c616589-0785-4868-a737-36cdf8a1c612",
   "metadata": {
    "tags": []
   },
   "outputs": [
    {
     "data": {
      "text/plain": [
       "array([0, 1, 1, 1, 0, 1, 1, 1, 1, 0, 1, 1, 1, 1, 1, 1, 0, 1, 1, 0, 1, 1,\n",
       "       1, 1, 1, 1, 0, 1, 0, 1, 1, 1, 1, 1, 1, 1, 0, 1, 1, 1, 1, 1, 1, 1,\n",
       "       1, 0, 1, 1, 1, 1, 1, 1, 1, 1, 1, 1, 1, 1, 1, 1, 1, 1, 1, 1, 1, 0,\n",
       "       1, 1, 1, 1, 1, 1, 1, 1, 1, 1, 1, 0, 0, 1, 1, 1, 0, 0, 0, 1, 1, 0,\n",
       "       1, 1, 1, 1, 1, 0, 1, 1, 0, 1, 1, 1, 1, 1, 1, 0, 1, 1, 1, 1, 1, 1,\n",
       "       1, 1, 1, 1, 1, 1, 1, 1, 1, 0, 0, 1, 1, 1, 1, 1, 0, 1, 1, 1, 1, 0,\n",
       "       1, 0, 1, 1, 1, 1, 1, 1, 1, 1, 1, 1, 1, 1, 0, 0, 1, 0, 0, 1, 1, 1,\n",
       "       0, 0, 0, 1, 0, 0, 0, 0, 1, 0, 0, 0, 0, 1, 0, 1, 0, 0, 0, 1, 0, 1,\n",
       "       0, 0, 0, 1, 0, 0, 0, 0, 0, 1, 1, 1, 0, 0, 0, 0, 0, 1, 0, 0, 0, 1,\n",
       "       0, 0, 0, 0, 0, 0, 0, 1, 0, 0, 0, 0, 0, 0, 0, 0, 0, 0, 0, 0, 0, 0,\n",
       "       0, 0, 0, 1, 0, 0, 0, 0, 0, 0, 1, 1, 1, 0, 0, 1, 0, 0, 0, 1, 0, 0,\n",
       "       0, 1, 0, 0, 0, 0, 1, 1, 0, 0, 0, 1, 0, 0, 0, 1, 1, 0, 0, 0, 0, 0,\n",
       "       0, 0, 0, 1, 0, 0, 1, 0, 1])"
      ]
     },
     "execution_count": 75,
     "metadata": {},
     "output_type": "execute_result"
    }
   ],
   "source": [
    "#predict\n",
    "#predict output\n",
    "y_preds_log = fitted_pipeline_log_real.predict(X)\n",
    "y_preds_log"
   ]
  },
  {
   "cell_type": "code",
   "execution_count": 76,
   "id": "6b20f55f-d3fe-400b-b4a8-769474e565b9",
   "metadata": {
    "tags": []
   },
   "outputs": [
    {
     "data": {
      "text/html": [
       "<div>\n",
       "<style scoped>\n",
       "    .dataframe tbody tr th:only-of-type {\n",
       "        vertical-align: middle;\n",
       "    }\n",
       "\n",
       "    .dataframe tbody tr th {\n",
       "        vertical-align: top;\n",
       "    }\n",
       "\n",
       "    .dataframe thead th {\n",
       "        text-align: right;\n",
       "    }\n",
       "</style>\n",
       "<table border=\"1\" class=\"dataframe\">\n",
       "  <thead>\n",
       "    <tr style=\"text-align: right;\">\n",
       "      <th></th>\n",
       "      <th>0</th>\n",
       "      <th>1</th>\n",
       "    </tr>\n",
       "  </thead>\n",
       "  <tbody>\n",
       "    <tr>\n",
       "      <th>0</th>\n",
       "      <td>95</td>\n",
       "      <td>32</td>\n",
       "    </tr>\n",
       "    <tr>\n",
       "      <th>1</th>\n",
       "      <td>24</td>\n",
       "      <td>122</td>\n",
       "    </tr>\n",
       "  </tbody>\n",
       "</table>\n",
       "</div>"
      ],
      "text/plain": [
       "    0    1\n",
       "0  95   32\n",
       "1  24  122"
      ]
     },
     "execution_count": 76,
     "metadata": {},
     "output_type": "execute_result"
    }
   ],
   "source": [
    "#confusion matrix\n",
    "conf_matrix_log = confusion_matrix(y, y_preds_log)\n",
    "pd.DataFrame(conf_matrix_log)"
   ]
  },
  {
   "cell_type": "code",
   "execution_count": 77,
   "id": "c68d88ed-34f7-4ff0-939b-eb66fb1adf13",
   "metadata": {
    "tags": []
   },
   "outputs": [
    {
     "data": {
      "text/html": [
       "<div>\n",
       "<style scoped>\n",
       "    .dataframe tbody tr th:only-of-type {\n",
       "        vertical-align: middle;\n",
       "    }\n",
       "\n",
       "    .dataframe tbody tr th {\n",
       "        vertical-align: top;\n",
       "    }\n",
       "\n",
       "    .dataframe thead th {\n",
       "        text-align: right;\n",
       "    }\n",
       "</style>\n",
       "<table border=\"1\" class=\"dataframe\">\n",
       "  <thead>\n",
       "    <tr style=\"text-align: right;\">\n",
       "      <th></th>\n",
       "      <th>variable_name</th>\n",
       "      <th>coefficients</th>\n",
       "    </tr>\n",
       "  </thead>\n",
       "  <tbody>\n",
       "    <tr>\n",
       "      <th>0</th>\n",
       "      <td>dummify__sex_0</td>\n",
       "      <td>1.421378</td>\n",
       "    </tr>\n",
       "    <tr>\n",
       "      <th>12</th>\n",
       "      <td>standardize__thalach</td>\n",
       "      <td>0.757697</td>\n",
       "    </tr>\n",
       "    <tr>\n",
       "      <th>7</th>\n",
       "      <td>dummify__restecg_1</td>\n",
       "      <td>0.286610</td>\n",
       "    </tr>\n",
       "    <tr>\n",
       "      <th>3</th>\n",
       "      <td>dummify__cp_1</td>\n",
       "      <td>0.053733</td>\n",
       "    </tr>\n",
       "    <tr>\n",
       "      <th>4</th>\n",
       "      <td>dummify__cp_2</td>\n",
       "      <td>0.000000</td>\n",
       "    </tr>\n",
       "    <tr>\n",
       "      <th>5</th>\n",
       "      <td>dummify__cp_3</td>\n",
       "      <td>0.000000</td>\n",
       "    </tr>\n",
       "    <tr>\n",
       "      <th>6</th>\n",
       "      <td>dummify__restecg_0</td>\n",
       "      <td>0.000000</td>\n",
       "    </tr>\n",
       "    <tr>\n",
       "      <th>8</th>\n",
       "      <td>dummify__restecg_2</td>\n",
       "      <td>0.000000</td>\n",
       "    </tr>\n",
       "    <tr>\n",
       "      <th>9</th>\n",
       "      <td>standardize__age</td>\n",
       "      <td>-0.222192</td>\n",
       "    </tr>\n",
       "    <tr>\n",
       "      <th>11</th>\n",
       "      <td>standardize__chol</td>\n",
       "      <td>-0.254978</td>\n",
       "    </tr>\n",
       "    <tr>\n",
       "      <th>10</th>\n",
       "      <td>standardize__trtbps</td>\n",
       "      <td>-0.324299</td>\n",
       "    </tr>\n",
       "    <tr>\n",
       "      <th>1</th>\n",
       "      <td>dummify__sex_1</td>\n",
       "      <td>-0.550603</td>\n",
       "    </tr>\n",
       "    <tr>\n",
       "      <th>2</th>\n",
       "      <td>dummify__cp_0</td>\n",
       "      <td>-1.921080</td>\n",
       "    </tr>\n",
       "  </tbody>\n",
       "</table>\n",
       "</div>"
      ],
      "text/plain": [
       "           variable_name  coefficients\n",
       "0         dummify__sex_0      1.421378\n",
       "12  standardize__thalach      0.757697\n",
       "7     dummify__restecg_1      0.286610\n",
       "3          dummify__cp_1      0.053733\n",
       "4          dummify__cp_2      0.000000\n",
       "5          dummify__cp_3      0.000000\n",
       "6     dummify__restecg_0      0.000000\n",
       "8     dummify__restecg_2      0.000000\n",
       "9       standardize__age     -0.222192\n",
       "11     standardize__chol     -0.254978\n",
       "10   standardize__trtbps     -0.324299\n",
       "1         dummify__sex_1     -0.550603\n",
       "2          dummify__cp_0     -1.921080"
      ]
     },
     "execution_count": 77,
     "metadata": {},
     "output_type": "execute_result"
    }
   ],
   "source": [
    "#coefficients\n",
    "coeff_log = fitted_pipeline_log_real.named_steps[\"log_reg\"].coef_\n",
    "coeff_log = coeff_log.flatten()\n",
    "\n",
    "feature_names = fitted_pipeline_log_real[:-1].get_feature_names_out()\n",
    "\n",
    "coeff_var_df = pd.DataFrame({\"variable_name\": feature_names,\n",
    "                                  \"coefficients\": coeff_log})\n",
    "coeff_var_df\n",
    "coeff_var_df.sort_values(by = \"coefficients\", ascending = False)"
   ]
  },
  {
   "cell_type": "markdown",
   "id": "2d15a2de-f014-4583-9b5b-995e54603f5f",
   "metadata": {},
   "source": [
    "Interpreting the coefficients:\n",
    "For positive coefficients: these variables have a positive association with the outcome (being at risk of having a heart attack). For example, sex 0 increases their log odds of having an exercise-induced heart attack by 1.421328. For negative coefficients: these variables have a negative association with the outcome. For example, lower values of chest pain decreases their chance of getting a heart attack. \n",
    "\n",
    "One thing to mention is that there seems to be a discrepancy between the variable chest pain and the true meaning with chest pain. The coefficients show that having typical angina has a negative association with the outcome. When a patient has chest pain, they are labeled as having a low risk of having a heart attack. This does not make sense. Usually, those with angina have a high risk of having a heart attack, since it is a \"tell-tale\" symptom of having a heart attack. Further analysis is needed to determine the relationship between chest pain and the outcome. This applies for the cholesterol and age variables as well; typically when cholesterol levels and age increase, the risk of having a heart attack increases as well. However, the coefficient is slightly negative. Statistical analysis is needed to determine if the cholesterol variable has a significant association with the outcome."
   ]
  },
  {
   "cell_type": "markdown",
   "id": "928d2430-e0ce-43a2-95d6-9be6b207420b",
   "metadata": {},
   "source": [
    "## Interpretation"
   ]
  },
  {
   "cell_type": "markdown",
   "id": "20ec236b-65e2-4bdf-8949-5af9e40fdfc5",
   "metadata": {},
   "source": [
    "The most important predictors in predicting heart attack risk are sex, thalach, chest pain level, cholesterol, age, and trtbps. Among these variables, chest pain, sex, and thalach are the most influential, since their coefficients are the most drastic. "
   ]
  },
  {
   "cell_type": "markdown",
   "id": "4283fefe-4827-4a4a-bf94-f064c4c19bc0",
   "metadata": {},
   "source": [
    "## ROC Curve"
   ]
  },
  {
   "cell_type": "code",
   "execution_count": 78,
   "id": "46dc8928-136f-4d5e-8259-f0e4c9c6efe2",
   "metadata": {
    "tags": []
   },
   "outputs": [
    {
     "data": {
      "text/plain": [
       "array([0.48969428, 0.90705677, 0.86152396, 0.67646331, 0.21344871,\n",
       "       0.88573402, 0.86116654, 0.63972455, 0.80204091, 0.25581781,\n",
       "       0.90835538, 0.80846915, 0.89181595, 0.96515496, 0.95240848,\n",
       "       0.71318196, 0.33989964, 0.89723637, 0.87319134, 0.43265972,\n",
       "       0.86507328, 0.6414019 , 0.64090392, 0.7872595 , 0.67200892,\n",
       "       0.9865832 , 0.21083357, 0.88681228, 0.47452843, 0.95246262,\n",
       "       0.9492032 , 0.64116437, 0.85131709, 0.73543627, 0.8440016 ,\n",
       "       0.82832157, 0.32820537, 0.53709732, 0.77749965, 0.78528525,\n",
       "       0.8149132 , 0.6353637 , 0.80614564, 0.66881954, 0.91318617,\n",
       "       0.13251201, 0.60445752, 0.99025946, 0.93937716, 0.51338221,\n",
       "       0.50939785, 0.89939927, 0.60379066, 0.73566712, 0.90520542,\n",
       "       0.63990952, 0.68327106, 0.91630101, 0.76632955, 0.97093655,\n",
       "       0.87390898, 0.77682581, 0.60272291, 0.83655537, 0.95041153,\n",
       "       0.36836422, 0.97616572, 0.74681071, 0.73177383, 0.89330395,\n",
       "       0.90466284, 0.74089354, 0.95226171, 0.72766461, 0.55948463,\n",
       "       0.75072156, 0.96869144, 0.49242557, 0.35960784, 0.78755686,\n",
       "       0.92189975, 0.96362673, 0.05195039, 0.39461493, 0.30421262,\n",
       "       0.73107029, 0.78158785, 0.29051566, 0.97053717, 0.9319813 ,\n",
       "       0.8114211 , 0.77415107, 0.65162279, 0.33473587, 0.82785823,\n",
       "       0.79263058, 0.47970611, 0.68808466, 0.98285184, 0.80981169,\n",
       "       0.76387015, 0.98631625, 0.63827216, 0.33018202, 0.97390105,\n",
       "       0.96152737, 0.99222413, 0.99299951, 0.92389354, 0.959439  ,\n",
       "       0.74154504, 0.93939002, 0.95348726, 0.79556818, 0.82696397,\n",
       "       0.96173399, 0.76158497, 0.77775467, 0.53586238, 0.18006592,\n",
       "       0.04726713, 0.93140752, 0.5082987 , 0.98294725, 0.66868908,\n",
       "       0.68376799, 0.34380144, 0.95681539, 0.94533695, 0.86061677,\n",
       "       0.78387625, 0.06427418, 0.57426763, 0.41776918, 0.84372096,\n",
       "       0.95509984, 0.56154366, 0.85313606, 0.91564574, 0.65810964,\n",
       "       0.71926137, 0.81974348, 0.93684924, 0.93743404, 0.8822854 ,\n",
       "       0.8822854 , 0.01863045, 0.09388764, 0.57010776, 0.13158591,\n",
       "       0.21106527, 0.50777268, 0.87138899, 0.75283949, 0.11196561,\n",
       "       0.16572107, 0.32132824, 0.51962051, 0.15118807, 0.03362021,\n",
       "       0.08212967, 0.21966003, 0.76682473, 0.07547821, 0.25464193,\n",
       "       0.16511567, 0.05428425, 0.74603431, 0.44331442, 0.56266108,\n",
       "       0.11236818, 0.1204674 , 0.08402872, 0.62714267, 0.04300245,\n",
       "       0.61735053, 0.25290054, 0.04637542, 0.23504287, 0.54946229,\n",
       "       0.12589388, 0.03272862, 0.26808606, 0.30068114, 0.18047188,\n",
       "       0.52446296, 0.71171866, 0.60730678, 0.16437222, 0.29824551,\n",
       "       0.39365608, 0.15461269, 0.43833779, 0.65478077, 0.06029945,\n",
       "       0.06412716, 0.31067713, 0.64209304, 0.16079485, 0.16414958,\n",
       "       0.08505176, 0.21879912, 0.26506979, 0.40703505, 0.40090771,\n",
       "       0.7908316 , 0.03540062, 0.07736361, 0.03374358, 0.02586543,\n",
       "       0.29694525, 0.24723722, 0.19217106, 0.13143117, 0.27378886,\n",
       "       0.16574522, 0.39049567, 0.07781047, 0.02017953, 0.0581221 ,\n",
       "       0.2912981 , 0.38376758, 0.25121844, 0.64457459, 0.41875129,\n",
       "       0.1773372 , 0.21678897, 0.22612814, 0.090431  , 0.09520469,\n",
       "       0.57590776, 0.91423608, 0.53292897, 0.38661716, 0.04463968,\n",
       "       0.80550689, 0.08771622, 0.12838245, 0.12206393, 0.60318385,\n",
       "       0.06359298, 0.03574298, 0.20356412, 0.58120099, 0.01957513,\n",
       "       0.36885455, 0.41304032, 0.04882329, 0.59876369, 0.8719801 ,\n",
       "       0.09311165, 0.09838016, 0.31874452, 0.56010751, 0.45404704,\n",
       "       0.11031267, 0.07379394, 0.74598685, 0.61187304, 0.16634176,\n",
       "       0.49971834, 0.2355704 , 0.11800259, 0.39663209, 0.458882  ,\n",
       "       0.34519365, 0.13669911, 0.59854496, 0.01990587, 0.40445623,\n",
       "       0.64257019, 0.13257293, 0.95987809])"
      ]
     },
     "execution_count": 78,
     "metadata": {},
     "output_type": "execute_result"
    }
   ],
   "source": [
    "#getting probabilities for each model\n",
    "\n",
    "#knn\n",
    "y_scores_knn = fitted_pipeline_knn_50.predict_proba(X)[:, 1]\n",
    "#decision tree\n",
    "y_scores_dt = fitted_pipeline_dt5.predict_proba(X)[:, 1]\n",
    "#logistic regression\n",
    "y_scores_log = fitted_pipeline_log_real.predict_proba(X)[:, 1]\n",
    "y_scores_log"
   ]
  },
  {
   "cell_type": "code",
   "execution_count": 79,
   "id": "7c3a385b-b1f3-4467-a1e7-491baa7d8cf4",
   "metadata": {
    "tags": []
   },
   "outputs": [],
   "source": [
    "#calculating true positive rates (tpr) and false positive rates (fpr) at various thresholds\n",
    "\n",
    "#knn\n",
    "fpr_knn, tpr_knn, threshold = roc_curve(y, y_scores_knn)\n",
    "\n",
    "#decision tree\n",
    "fpr_dt, tpr_dt, threshold = roc_curve(y, y_scores_dt)\n",
    "\n",
    "#logisitic regression\n",
    "fpr_log, tpr_log, threshold = roc_curve(y, y_scores_log)\n"
   ]
  },
  {
   "cell_type": "code",
   "execution_count": 80,
   "id": "d66227a5-2f6d-40ce-a76e-73ad2833ac88",
   "metadata": {
    "tags": []
   },
   "outputs": [],
   "source": [
    "#calculating roc auc curve\n",
    "\n",
    "#knn\n",
    "roc_auc_knn = auc(fpr_knn, tpr_knn)\n",
    "\n",
    "#decision tree\n",
    "roc_auc_dt = auc(fpr_dt, tpr_dt)\n",
    "\n",
    "#logistic regression\n",
    "roc_auc_log = auc(fpr_log, tpr_log)\n"
   ]
  },
  {
   "cell_type": "code",
   "execution_count": 81,
   "id": "7b979457-9367-46cc-b2df-815cbb5f9684",
   "metadata": {
    "tags": []
   },
   "outputs": [
    {
     "data": {
      "text/html": [
       "<div>\n",
       "<style scoped>\n",
       "    .dataframe tbody tr th:only-of-type {\n",
       "        vertical-align: middle;\n",
       "    }\n",
       "\n",
       "    .dataframe tbody tr th {\n",
       "        vertical-align: top;\n",
       "    }\n",
       "\n",
       "    .dataframe thead th {\n",
       "        text-align: right;\n",
       "    }\n",
       "</style>\n",
       "<table border=\"1\" class=\"dataframe\">\n",
       "  <thead>\n",
       "    <tr style=\"text-align: right;\">\n",
       "      <th></th>\n",
       "      <th>fpr_log</th>\n",
       "      <th>tpr_log</th>\n",
       "    </tr>\n",
       "  </thead>\n",
       "  <tbody>\n",
       "    <tr>\n",
       "      <th>0</th>\n",
       "      <td>0.000000</td>\n",
       "      <td>0.000000</td>\n",
       "    </tr>\n",
       "    <tr>\n",
       "      <th>1</th>\n",
       "      <td>0.000000</td>\n",
       "      <td>0.006849</td>\n",
       "    </tr>\n",
       "    <tr>\n",
       "      <th>2</th>\n",
       "      <td>0.000000</td>\n",
       "      <td>0.109589</td>\n",
       "    </tr>\n",
       "    <tr>\n",
       "      <th>3</th>\n",
       "      <td>0.007874</td>\n",
       "      <td>0.109589</td>\n",
       "    </tr>\n",
       "    <tr>\n",
       "      <th>4</th>\n",
       "      <td>0.007874</td>\n",
       "      <td>0.246575</td>\n",
       "    </tr>\n",
       "  </tbody>\n",
       "</table>\n",
       "</div>"
      ],
      "text/plain": [
       "    fpr_log   tpr_log\n",
       "0  0.000000  0.000000\n",
       "1  0.000000  0.006849\n",
       "2  0.000000  0.109589\n",
       "3  0.007874  0.109589\n",
       "4  0.007874  0.246575"
      ]
     },
     "execution_count": 81,
     "metadata": {},
     "output_type": "execute_result"
    }
   ],
   "source": [
    "#pandas dataframe for knn\n",
    "roc_df_knn = pd.DataFrame({\"fpr_knn\": fpr_knn,\n",
    "                       \"tpr_knn\": tpr_knn})\n",
    "roc_df_knn.head()\n",
    "\n",
    "#pandas dataframe for decision tree\n",
    "roc_df_dt = pd.DataFrame({\"fpr_dt\": fpr_dt,\n",
    "                       \"tpr_dt\": tpr_dt})\n",
    "roc_df_dt.head()\n",
    "\n",
    "#pandas dataframe for logistic regression\n",
    "roc_df_log = pd.DataFrame({\"fpr_log\": fpr_log,\n",
    "                       \"tpr_log\": tpr_log})\n",
    "roc_df_log.head()\n",
    "                       "
   ]
  },
  {
   "cell_type": "code",
   "execution_count": 82,
   "id": "ddd094ea-26bd-4403-a5b8-3064c0c180f6",
   "metadata": {
    "tags": []
   },
   "outputs": [
    {
     "data": {
      "image/png": "[encoded data removed]",
      "text/plain": [
       "<Figure size 640x480 with 1 Axes>"
      ]
     },
     "metadata": {
      "image/png": {
       "height": 480,
       "width": 640
      }
     },
     "output_type": "display_data"
    },
    {
     "data": {
      "text/plain": [
       "<Figure Size: (640 x 480)>"
      ]
     },
     "execution_count": 82,
     "metadata": {},
     "output_type": "execute_result"
    }
   ],
   "source": [
    "#roc graph for knn\n",
    "knn_plot = (ggplot(roc_df_knn, aes(x = \"fpr_knn\", y = \"tpr_knn\"))\n",
    " + geom_line(color = \"red\")\n",
    " + geom_abline(linetype='dashed')\n",
    " + xlab(\"False Positive Rate\")\n",
    " + ylab(\"True Positive Rate\")\n",
    " + ggtitle(\"ROC Curve for K-Neighbors\"))\n",
    "knn_plot"
   ]
  },
  {
   "cell_type": "code",
   "execution_count": 83,
   "id": "e57978c3-9380-4841-b09a-7c22d12d6ff9",
   "metadata": {
    "tags": []
   },
   "outputs": [
    {
     "data": {
      "image/png": "[encoded data removed]",
      "text/plain": [
       "<Figure size 640x480 with 1 Axes>"
      ]
     },
     "metadata": {
      "image/png": {
       "height": 480,
       "width": 640
      }
     },
     "output_type": "display_data"
    },
    {
     "data": {
      "text/plain": [
       "<Figure Size: (640 x 480)>"
      ]
     },
     "execution_count": 83,
     "metadata": {},
     "output_type": "execute_result"
    }
   ],
   "source": [
    "#roc graph for knn\n",
    "dt_plot = (ggplot(roc_df_dt, aes(x = \"fpr_dt\", y = \"tpr_dt\"))\n",
    " + geom_line(color = \"green\")\n",
    " + geom_abline(linetype='dashed')\n",
    " + xlab(\"False Positive Rate\")\n",
    " + ylab(\"True Positive Rate\")\n",
    " + ggtitle(\"ROC Curve for Decision Tree\"))\n",
    "dt_plot"
   ]
  },
  {
   "cell_type": "code",
   "execution_count": 84,
   "id": "9f68d29a-a915-4c21-8628-91a8c6bf03e6",
   "metadata": {
    "tags": []
   },
   "outputs": [
    {
     "data": {
      "image/png": "[encoded data removed]",
      "text/plain": [
       "<Figure size 640x480 with 1 Axes>"
      ]
     },
     "metadata": {
      "image/png": {
       "height": 480,
       "width": 640
      }
     },
     "output_type": "display_data"
    },
    {
     "data": {
      "text/plain": [
       "<Figure Size: (640 x 480)>"
      ]
     },
     "execution_count": 84,
     "metadata": {},
     "output_type": "execute_result"
    }
   ],
   "source": [
    "#roc graph for log\n",
    "log_plot = (ggplot(roc_df_log, aes(x = \"fpr_log\", y = \"tpr_log\"))\n",
    " + geom_line(color = \"blue\")\n",
    " + geom_abline(linetype='dashed')\n",
    " + xlab(\"False Positive Rate\")\n",
    " + ylab(\"True Positive Rate\")\n",
    " + ggtitle(\"ROC Curve for Logistic Regression\"))\n",
    "log_plot"
   ]
  },
  {
   "cell_type": "markdown",
   "id": "a55be9ef-fcdf-4ad1-b44c-cc9eb488bb12",
   "metadata": {},
   "source": [
    "# Part 2: Metrics"
   ]
  },
  {
   "cell_type": "markdown",
   "id": "6eb36893-2414-4986-ad85-9eba297d0faf",
   "metadata": {},
   "source": [
    "## True Positive Rate/Recall/Sensitivity: of all the cases that truly got a heart attack, how many were predicted/classified to have a heart attack?"
   ]
  },
  {
   "cell_type": "code",
   "execution_count": 85,
   "id": "989dc507-85e4-49be-8352-4d1066a73f4f",
   "metadata": {
    "tags": []
   },
   "outputs": [
    {
     "data": {
      "text/plain": [
       "0.685287356321839"
      ]
     },
     "execution_count": 85,
     "metadata": {},
     "output_type": "execute_result"
    }
   ],
   "source": [
    "#knn \n",
    "# pd.DataFrame(conf_matrix_knn50)\n",
    "\n",
    "# true_positive_rate_knn = 106/(106+40)\n",
    "# true_positive_rate_knn\n",
    "\n",
    "recall_knn = cross_val_score(pipeline_knn, X, y, cv = 5, scoring='recall')\n",
    "recall_knn.mean()"
   ]
  },
  {
   "cell_type": "code",
   "execution_count": 86,
   "id": "a6a78341-8ef5-4b2f-9dab-9d428729d0e8",
   "metadata": {
    "tags": []
   },
   "outputs": [
    {
     "data": {
      "text/plain": [
       "0.664367816091954"
      ]
     },
     "execution_count": 86,
     "metadata": {},
     "output_type": "execute_result"
    }
   ],
   "source": [
    "#decision tree\n",
    "# pd.DataFrame(conf_matrix_dt5)\n",
    "\n",
    "# true_positive_rate_dt = 22/(22+15)\n",
    "# true_positive_rate_dt\n",
    "\n",
    "recall_dt = cross_val_score(pipeline_dt, X, y, cv = 5, scoring='recall')\n",
    "recall_dt.mean()"
   ]
  },
  {
   "cell_type": "code",
   "execution_count": 87,
   "id": "6da1aa76-46aa-47de-af6b-83bc8c49389e",
   "metadata": {
    "tags": []
   },
   "outputs": [
    {
     "name": "stderr",
     "output_type": "stream",
     "text": [
      "/Users/conniechou/anaconda3/lib/python3.11/site-packages/sklearn/linear_model/_sag.py:350: ConvergenceWarning: The max_iter was reached which means the coef_ did not converge\n"
     ]
    },
    {
     "data": {
      "text/plain": [
       "0.8154022988505748"
      ]
     },
     "execution_count": 87,
     "metadata": {},
     "output_type": "execute_result"
    }
   ],
   "source": [
    "#logistic regression\n",
    "\n",
    "# pd.DataFrame(conf_matrix_log)\n",
    "\n",
    "# true_positive_rate_log = 24/(13+24)\n",
    "# true_positive_rate_log\n",
    "\n",
    "recall_log = cross_val_score(pipeline_log_real, X, y, cv = 5, scoring='recall')\n",
    "recall_log.mean()"
   ]
  },
  {
   "cell_type": "markdown",
   "id": "4adb2c81-4569-44e6-a65b-96090b68c053",
   "metadata": {},
   "source": [
    "## Precision/Positive Predictive Value: Of all the observations classified as at risk of a heart attack, how many of them truly had a heart attack?"
   ]
  },
  {
   "cell_type": "code",
   "execution_count": 88,
   "id": "2db6cab1-8564-4ceb-bc53-4f74d530fe83",
   "metadata": {
    "tags": []
   },
   "outputs": [
    {
     "data": {
      "text/plain": [
       "0.7287975763782215"
      ]
     },
     "execution_count": 88,
     "metadata": {},
     "output_type": "execute_result"
    }
   ],
   "source": [
    "#knn \n",
    "# pd.DataFrame(conf_matrix_knn50)\n",
    "\n",
    "# precision_knn = 18/(18+8)\n",
    "# precision_knn\n",
    "\n",
    "precision_knn = cross_val_score(pipeline_knn, X, y, cv = 5, scoring='precision')\n",
    "precision_knn.mean()"
   ]
  },
  {
   "cell_type": "code",
   "execution_count": 89,
   "id": "d0fbd09b-3f21-4749-8ff3-2425c018d0da",
   "metadata": {
    "tags": []
   },
   "outputs": [
    {
     "data": {
      "text/plain": [
       "0.7262427227944469"
      ]
     },
     "execution_count": 89,
     "metadata": {},
     "output_type": "execute_result"
    }
   ],
   "source": [
    "#decision tree\n",
    "# pd.DataFrame(conf_matrix_dt5)\n",
    "\n",
    "# precision_dt = 22/(22+10)\n",
    "# precision_dt\n",
    "\n",
    "precision_dt = cross_val_score(pipeline_dt, X, y, cv = 5, scoring='precision')\n",
    "precision_dt.mean()"
   ]
  },
  {
   "cell_type": "code",
   "execution_count": 90,
   "id": "c305d954-3277-46d6-b836-774eb4b396a5",
   "metadata": {
    "tags": []
   },
   "outputs": [
    {
     "name": "stderr",
     "output_type": "stream",
     "text": [
      "/Users/conniechou/anaconda3/lib/python3.11/site-packages/sklearn/linear_model/_sag.py:350: ConvergenceWarning: The max_iter was reached which means the coef_ did not converge\n"
     ]
    },
    {
     "data": {
      "text/plain": [
       "0.7965130338056778"
      ]
     },
     "execution_count": 90,
     "metadata": {},
     "output_type": "execute_result"
    }
   ],
   "source": [
    "#logistic regression\n",
    "\n",
    "# pd.DataFrame(conf_matrix_log)\n",
    "\n",
    "# precision_log = 24/(24+9)\n",
    "# precision_log\n",
    "\n",
    "precision_log = cross_val_score(pipeline_log_real, X, y, cv = 5, scoring='precision')\n",
    "precision_log.mean()"
   ]
  },
  {
   "cell_type": "markdown",
   "id": "cdd9ac46-739d-447d-a2a4-0dde1b4596b3",
   "metadata": {},
   "source": [
    "## True Negative Rate/Specificity/Negative Predictive Value: Of all the observations classified as NOT at risk of having a heart attack, how many truly did not get a heart attack?"
   ]
  },
  {
   "cell_type": "code",
   "execution_count": 116,
   "id": "942b1185-b603-457d-a42c-f3bcb01da1b6",
   "metadata": {
    "tags": []
   },
   "outputs": [
    {
     "data": {
      "text/plain": [
       "0.7163120567375887"
      ]
     },
     "execution_count": 116,
     "metadata": {},
     "output_type": "execute_result"
    }
   ],
   "source": [
    "#knn \n",
    "pd.DataFrame(conf_matrix_knn50)\n",
    "\n",
    "true_neg_knn = 101/(101+40)\n",
    "true_neg_knn\n",
    "\n"
   ]
  },
  {
   "cell_type": "code",
   "execution_count": 117,
   "id": "73afba4b-d2c4-4c7e-8d94-ac6abf4e271d",
   "metadata": {
    "tags": []
   },
   "outputs": [
    {
     "data": {
      "text/plain": [
       "0.734375"
      ]
     },
     "execution_count": 117,
     "metadata": {},
     "output_type": "execute_result"
    }
   ],
   "source": [
    "#decision tree\n",
    "pd.DataFrame(conf_matrix_dt5)\n",
    "\n",
    "true_neg_knn = 94/(94+34)\n",
    "true_neg_knn"
   ]
  },
  {
   "cell_type": "code",
   "execution_count": 118,
   "id": "805d8af2-839f-4c09-8bdd-4e24348b97ef",
   "metadata": {
    "tags": []
   },
   "outputs": [
    {
     "data": {
      "text/plain": [
       "0.7983193277310925"
      ]
     },
     "execution_count": 118,
     "metadata": {},
     "output_type": "execute_result"
    }
   ],
   "source": [
    "#logistic regression\n",
    "pd.DataFrame(conf_matrix_log)\n",
    "\n",
    "true_neg_log = 95/(95+24)\n",
    "true_neg_log"
   ]
  },
  {
   "cell_type": "markdown",
   "id": "07805bbc-4118-4127-99d1-1fdbfad5db98",
   "metadata": {},
   "source": [
    "# Part 3: Discussion"
   ]
  },
  {
   "cell_type": "markdown",
   "id": "91bc4ad7-48e5-4d69-b8be-0ca73d1fb06f",
   "metadata": {},
   "source": [
    "Q1\n",
    "The hospital faces severe lawsuits if they deem a patient to be low risk, and that patient later experiences a heart attack.\n",
    "- For this scenario, the metric used would be the true negative rate. The hospital wants to make sure those that were classified as low risk actually did not have a heart attack. Ideally, this percentage of classifying at low risk patients would want to be high to avoid severe lawsuits.\n",
    "- I would recommend the logistic regression model to the hospital. It gave the highest percentage of the true negative rate, and it is above 50%. There is a higher chance of being correct with the at-low risk patients.\n",
    "- The score we would expect for the chosen metric is 79.8%.\n",
    "\n",
    "Q2\n",
    "The hospital is overfull, and wants to only use bed space for patients most in need of monitoring due to heart attack risk.\n",
    "- For this scenario, the metric used would be precision. Out of the patients that were diagnosed of having a high risk of having a heart attack, we would want a high perecentage of those patients to truly have the high risk/have a real heart attack so the hospital doesn't waste any bed space. \n",
    "- I would recommend the logistic regression model to the hospital. It gave the highest percentage of precision, and it is above 50%. There is a higher chance of being correct with those that were classified as having a high-risk of having a heart attack.\n",
    "- The score we would expect for the chosen metric is 79.7%.\n",
    "\n",
    "Q3\n",
    "The hospital is studying root causes of heart attacks, and would like to understand which biological measures are associated with heart attack risk.\n",
    "- For this scenario, the metric used would be recall, or the true positive rate. To study the root causes of heart attacks, the hospital would need to look at patients who already had a heart attack and find similarities between the patients to figure out what causes heart attacks. Evidence is needed to find the root cause.\n",
    "- I would recommend the logistic regression model to the hospital. It gave the highest percentage of the true positive rate and it is above 50%. There is a higher chance of figuring out the root cause of heart attacks with the logistic model.\n",
    "- The score we would expect for the chosen metric is 81.5%.\n",
    "\n",
    "Q4\n",
    "The hospital is training a new batch of doctors, and they would like to compare the diagnoses of these doctors to the predictions given by the algorithm to measure the ability of new doctors to diagnose patients.\n",
    "- For this scenario, the metric used would be recall, or the true positive rate. If the hospital wants to compare the new batch of doctor's performance with a predicted value of their performance, the hospital would use the true positive rate. The hospital wants to \"recall\" to see if they get a similar answer as their true value.\n",
    "- I would recommend the logistic regression model to the hospital. It gave the highest percentage of the true positive rate and it is above 50%. There is a higher chance of figuring out the root cause of heart attacks with the logistic model.\n",
    "- The score we would expect for the chosen metric is 81.5%.\n"
   ]
  },
  {
   "cell_type": "markdown",
   "id": "b9e80ae2-7968-4daa-8477-400f053d8e1e",
   "metadata": {},
   "source": [
    "# Part 4: Validation"
   ]
  },
  {
   "cell_type": "code",
   "execution_count": 94,
   "id": "d106e2fd-2bce-4e48-b410-ce838bcfd7b5",
   "metadata": {
    "tags": []
   },
   "outputs": [
    {
     "data": {
      "text/html": [
       "<div>\n",
       "<style scoped>\n",
       "    .dataframe tbody tr th:only-of-type {\n",
       "        vertical-align: middle;\n",
       "    }\n",
       "\n",
       "    .dataframe tbody tr th {\n",
       "        vertical-align: top;\n",
       "    }\n",
       "\n",
       "    .dataframe thead th {\n",
       "        text-align: right;\n",
       "    }\n",
       "</style>\n",
       "<table border=\"1\" class=\"dataframe\">\n",
       "  <thead>\n",
       "    <tr style=\"text-align: right;\">\n",
       "      <th></th>\n",
       "      <th>age</th>\n",
       "      <th>sex</th>\n",
       "      <th>cp</th>\n",
       "      <th>trtbps</th>\n",
       "      <th>chol</th>\n",
       "      <th>restecg</th>\n",
       "      <th>thalach</th>\n",
       "      <th>output</th>\n",
       "    </tr>\n",
       "  </thead>\n",
       "  <tbody>\n",
       "    <tr>\n",
       "      <th>0</th>\n",
       "      <td>41</td>\n",
       "      <td>0</td>\n",
       "      <td>1</td>\n",
       "      <td>130</td>\n",
       "      <td>204</td>\n",
       "      <td>0</td>\n",
       "      <td>172</td>\n",
       "      <td>1</td>\n",
       "    </tr>\n",
       "    <tr>\n",
       "      <th>1</th>\n",
       "      <td>64</td>\n",
       "      <td>1</td>\n",
       "      <td>3</td>\n",
       "      <td>110</td>\n",
       "      <td>211</td>\n",
       "      <td>0</td>\n",
       "      <td>144</td>\n",
       "      <td>1</td>\n",
       "    </tr>\n",
       "    <tr>\n",
       "      <th>2</th>\n",
       "      <td>59</td>\n",
       "      <td>1</td>\n",
       "      <td>0</td>\n",
       "      <td>135</td>\n",
       "      <td>234</td>\n",
       "      <td>1</td>\n",
       "      <td>161</td>\n",
       "      <td>1</td>\n",
       "    </tr>\n",
       "    <tr>\n",
       "      <th>3</th>\n",
       "      <td>42</td>\n",
       "      <td>1</td>\n",
       "      <td>0</td>\n",
       "      <td>140</td>\n",
       "      <td>226</td>\n",
       "      <td>1</td>\n",
       "      <td>178</td>\n",
       "      <td>1</td>\n",
       "    </tr>\n",
       "    <tr>\n",
       "      <th>4</th>\n",
       "      <td>40</td>\n",
       "      <td>1</td>\n",
       "      <td>3</td>\n",
       "      <td>140</td>\n",
       "      <td>199</td>\n",
       "      <td>1</td>\n",
       "      <td>178</td>\n",
       "      <td>1</td>\n",
       "    </tr>\n",
       "  </tbody>\n",
       "</table>\n",
       "</div>"
      ],
      "text/plain": [
       "   age  sex  cp  trtbps  chol  restecg  thalach  output\n",
       "0   41    0   1     130   204        0      172       1\n",
       "1   64    1   3     110   211        0      144       1\n",
       "2   59    1   0     135   234        1      161       1\n",
       "3   42    1   0     140   226        1      178       1\n",
       "4   40    1   3     140   199        1      178       1"
      ]
     },
     "execution_count": 94,
     "metadata": {},
     "output_type": "execute_result"
    }
   ],
   "source": [
    "#for each model, predict with validation set\n",
    "ha_validation = pd.read_csv(\"https://www.dropbox.com/s/jkwqdiyx6o6oad0/heart_attack_validation.csv?dl=1\")\n",
    "ha_validation.head()"
   ]
  },
  {
   "cell_type": "code",
   "execution_count": 95,
   "id": "9eb3ceaa-635d-4b24-b9ab-9e8d8ca6fbe9",
   "metadata": {
    "tags": []
   },
   "outputs": [],
   "source": [
    "X_val = ha_validation.drop([\"output\"], axis = 1)\n",
    "y_val = ha_validation[\"output\"]"
   ]
  },
  {
   "cell_type": "markdown",
   "id": "c6f6d9dc-47de-4f81-b749-34ae950d23d8",
   "metadata": {},
   "source": [
    "## KNN"
   ]
  },
  {
   "cell_type": "code",
   "execution_count": 96,
   "id": "9c2936df-2a1c-4591-8478-c5ccc4225a8d",
   "metadata": {
    "tags": []
   },
   "outputs": [
    {
     "data": {
      "text/plain": [
       "array([1, 0, 0, 1, 1, 0, 1, 0, 1, 0, 0, 1, 1, 1, 0, 1, 1, 0, 0, 0, 0, 0,\n",
       "       0, 0, 0, 0, 0, 0, 0, 0])"
      ]
     },
     "execution_count": 96,
     "metadata": {},
     "output_type": "execute_result"
    }
   ],
   "source": [
    "#use knn model to predict with validation set\n",
    "y_preds_knn_val = fitted_pipeline_knn_50.predict(X_val)\n",
    "y_preds_knn_val"
   ]
  },
  {
   "cell_type": "code",
   "execution_count": 97,
   "id": "02d4fef8-2d6c-49ea-bf87-7f41243e1367",
   "metadata": {
    "tags": []
   },
   "outputs": [
    {
     "data": {
      "text/html": [
       "<div>\n",
       "<style scoped>\n",
       "    .dataframe tbody tr th:only-of-type {\n",
       "        vertical-align: middle;\n",
       "    }\n",
       "\n",
       "    .dataframe tbody tr th {\n",
       "        vertical-align: top;\n",
       "    }\n",
       "\n",
       "    .dataframe thead th {\n",
       "        text-align: right;\n",
       "    }\n",
       "</style>\n",
       "<table border=\"1\" class=\"dataframe\">\n",
       "  <thead>\n",
       "    <tr style=\"text-align: right;\">\n",
       "      <th></th>\n",
       "      <th>0</th>\n",
       "      <th>1</th>\n",
       "    </tr>\n",
       "  </thead>\n",
       "  <tbody>\n",
       "    <tr>\n",
       "      <th>0</th>\n",
       "      <td>11</td>\n",
       "      <td>0</td>\n",
       "    </tr>\n",
       "    <tr>\n",
       "      <th>1</th>\n",
       "      <td>9</td>\n",
       "      <td>10</td>\n",
       "    </tr>\n",
       "  </tbody>\n",
       "</table>\n",
       "</div>"
      ],
      "text/plain": [
       "    0   1\n",
       "0  11   0\n",
       "1   9  10"
      ]
     },
     "execution_count": 97,
     "metadata": {},
     "output_type": "execute_result"
    }
   ],
   "source": [
    "#knn confusion matrix\n",
    "conf_matrix_knn_val = confusion_matrix(y_val, y_preds_knn_val)\n",
    "pd.DataFrame(conf_matrix_knn_val)"
   ]
  },
  {
   "cell_type": "code",
   "execution_count": 98,
   "id": "feb63c64-2af9-4808-a123-7d4a1b9c5874",
   "metadata": {
    "tags": []
   },
   "outputs": [
    {
     "data": {
      "text/plain": [
       "0.763157894736842"
      ]
     },
     "execution_count": 98,
     "metadata": {},
     "output_type": "execute_result"
    }
   ],
   "source": [
    "#ROC AUC score\n",
    "roc_auc_knn = roc_auc_score(y_val, y_preds_knn_val)\n",
    "roc_auc_knn"
   ]
  },
  {
   "cell_type": "code",
   "execution_count": 99,
   "id": "5915ee86-8ba9-4e93-9263-029d1f4c3302",
   "metadata": {
    "tags": []
   },
   "outputs": [
    {
     "data": {
      "text/plain": [
       "0.47368421052631576"
      ]
     },
     "execution_count": 99,
     "metadata": {},
     "output_type": "execute_result"
    }
   ],
   "source": [
    "#recall\n",
    "recall_val_knn = 9/(10+9)\n",
    "recall_val_knn"
   ]
  },
  {
   "cell_type": "code",
   "execution_count": 100,
   "id": "e7d3bff0-c136-4e21-ac1e-9f0dbf8ad52e",
   "metadata": {
    "tags": []
   },
   "outputs": [
    {
     "data": {
      "text/plain": [
       "0.8181818181818182"
      ]
     },
     "execution_count": 100,
     "metadata": {},
     "output_type": "execute_result"
    }
   ],
   "source": [
    "#precision\n",
    "precision_val_knn = 9/(9+2)\n",
    "precision_val_knn"
   ]
  },
  {
   "cell_type": "markdown",
   "id": "9bbe15b9-3fc4-4439-aa70-13d359a85d05",
   "metadata": {},
   "source": [
    "## Decision Tree"
   ]
  },
  {
   "cell_type": "code",
   "execution_count": 101,
   "id": "c3789271-b2e5-4d06-8f1f-c26848f6e7b8",
   "metadata": {
    "tags": []
   },
   "outputs": [
    {
     "data": {
      "text/plain": [
       "array([1, 1, 0, 0, 1, 1, 1, 1, 1, 1, 1, 1, 1, 1, 1, 1, 0, 0, 0, 1, 0, 0,\n",
       "       0, 0, 0, 0, 0, 0, 0, 0])"
      ]
     },
     "execution_count": 101,
     "metadata": {},
     "output_type": "execute_result"
    }
   ],
   "source": [
    "#use decision tree to predict validation set\n",
    "y_preds_dt_val = fitted_pipeline_dt5.predict(X_val)\n",
    "y_preds_dt_val"
   ]
  },
  {
   "cell_type": "code",
   "execution_count": 102,
   "id": "370e85f6-994b-45c8-9c99-a06483f78caa",
   "metadata": {
    "tags": []
   },
   "outputs": [
    {
     "data": {
      "text/html": [
       "<div>\n",
       "<style scoped>\n",
       "    .dataframe tbody tr th:only-of-type {\n",
       "        vertical-align: middle;\n",
       "    }\n",
       "\n",
       "    .dataframe tbody tr th {\n",
       "        vertical-align: top;\n",
       "    }\n",
       "\n",
       "    .dataframe thead th {\n",
       "        text-align: right;\n",
       "    }\n",
       "</style>\n",
       "<table border=\"1\" class=\"dataframe\">\n",
       "  <thead>\n",
       "    <tr style=\"text-align: right;\">\n",
       "      <th></th>\n",
       "      <th>0</th>\n",
       "      <th>1</th>\n",
       "    </tr>\n",
       "  </thead>\n",
       "  <tbody>\n",
       "    <tr>\n",
       "      <th>0</th>\n",
       "      <td>10</td>\n",
       "      <td>1</td>\n",
       "    </tr>\n",
       "    <tr>\n",
       "      <th>1</th>\n",
       "      <td>5</td>\n",
       "      <td>14</td>\n",
       "    </tr>\n",
       "  </tbody>\n",
       "</table>\n",
       "</div>"
      ],
      "text/plain": [
       "    0   1\n",
       "0  10   1\n",
       "1   5  14"
      ]
     },
     "execution_count": 102,
     "metadata": {},
     "output_type": "execute_result"
    }
   ],
   "source": [
    "#knn confusion matrix\n",
    "conf_matrix_dt_val = confusion_matrix(y_val, y_preds_dt_val)\n",
    "pd.DataFrame(conf_matrix_dt_val)"
   ]
  },
  {
   "cell_type": "code",
   "execution_count": 103,
   "id": "1dbe276c-9446-4862-8fb2-267599335fee",
   "metadata": {
    "tags": []
   },
   "outputs": [
    {
     "data": {
      "text/plain": [
       "0.8229665071770335"
      ]
     },
     "execution_count": 103,
     "metadata": {},
     "output_type": "execute_result"
    }
   ],
   "source": [
    "#ROC AUC score\n",
    "roc_auc_dt = roc_auc_score(y_val, y_preds_dt_val)\n",
    "roc_auc_dt"
   ]
  },
  {
   "cell_type": "code",
   "execution_count": 104,
   "id": "858fe591-1ccf-40d3-bc25-169c1dd8af51",
   "metadata": {
    "tags": []
   },
   "outputs": [
    {
     "data": {
      "text/plain": [
       "0.5263157894736842"
      ]
     },
     "execution_count": 104,
     "metadata": {},
     "output_type": "execute_result"
    }
   ],
   "source": [
    "#recall\n",
    "recall_val_dt = 10/(10+9)\n",
    "recall_val_dt"
   ]
  },
  {
   "cell_type": "code",
   "execution_count": 105,
   "id": "cf5050af-7bb8-469c-8969-d32209ccfe21",
   "metadata": {
    "tags": []
   },
   "outputs": [
    {
     "data": {
      "text/plain": [
       "0.7142857142857143"
      ]
     },
     "execution_count": 105,
     "metadata": {},
     "output_type": "execute_result"
    }
   ],
   "source": [
    "#precision\n",
    "precision_val_dt = 10/(10+4)\n",
    "precision_val_dt"
   ]
  },
  {
   "cell_type": "markdown",
   "id": "e351a3dc-7f47-4c27-9d44-99be9dc43413",
   "metadata": {},
   "source": [
    "## Logistic Regression"
   ]
  },
  {
   "cell_type": "code",
   "execution_count": 106,
   "id": "08309638-f2ee-484c-95ab-d94e3dd44bce",
   "metadata": {
    "tags": []
   },
   "outputs": [
    {
     "data": {
      "text/plain": [
       "array([1, 1, 0, 0, 1, 1, 1, 1, 1, 1, 1, 1, 1, 1, 0, 1, 1, 0, 0, 1, 1, 0,\n",
       "       0, 0, 0, 0, 0, 0, 0, 0])"
      ]
     },
     "execution_count": 106,
     "metadata": {},
     "output_type": "execute_result"
    }
   ],
   "source": [
    "#use log reg to predict validation set\n",
    "y_preds_log_val = fitted_pipeline_log_real.predict(X_val)\n",
    "y_preds_log_val"
   ]
  },
  {
   "cell_type": "code",
   "execution_count": 107,
   "id": "22a02422-ae53-4678-b5ed-f93dc73a1ba6",
   "metadata": {
    "tags": []
   },
   "outputs": [
    {
     "data": {
      "text/html": [
       "<div>\n",
       "<style scoped>\n",
       "    .dataframe tbody tr th:only-of-type {\n",
       "        vertical-align: middle;\n",
       "    }\n",
       "\n",
       "    .dataframe tbody tr th {\n",
       "        vertical-align: top;\n",
       "    }\n",
       "\n",
       "    .dataframe thead th {\n",
       "        text-align: right;\n",
       "    }\n",
       "</style>\n",
       "<table border=\"1\" class=\"dataframe\">\n",
       "  <thead>\n",
       "    <tr style=\"text-align: right;\">\n",
       "      <th></th>\n",
       "      <th>0</th>\n",
       "      <th>1</th>\n",
       "    </tr>\n",
       "  </thead>\n",
       "  <tbody>\n",
       "    <tr>\n",
       "      <th>0</th>\n",
       "      <td>9</td>\n",
       "      <td>2</td>\n",
       "    </tr>\n",
       "    <tr>\n",
       "      <th>1</th>\n",
       "      <td>5</td>\n",
       "      <td>14</td>\n",
       "    </tr>\n",
       "  </tbody>\n",
       "</table>\n",
       "</div>"
      ],
      "text/plain": [
       "   0   1\n",
       "0  9   2\n",
       "1  5  14"
      ]
     },
     "execution_count": 107,
     "metadata": {},
     "output_type": "execute_result"
    }
   ],
   "source": [
    "#knn confusion matrix\n",
    "conf_matrix_log_val = confusion_matrix(y_val, y_preds_log_val)\n",
    "pd.DataFrame(conf_matrix_log_val)"
   ]
  },
  {
   "cell_type": "code",
   "execution_count": 108,
   "id": "4b4761cb-b630-4929-bd2e-be5c5cc382f0",
   "metadata": {
    "tags": []
   },
   "outputs": [
    {
     "data": {
      "text/plain": [
       "0.777511961722488"
      ]
     },
     "execution_count": 108,
     "metadata": {},
     "output_type": "execute_result"
    }
   ],
   "source": [
    "#ROC AUC score\n",
    "roc_auc_log = roc_auc_score(y_val, y_preds_log_val)\n",
    "roc_auc_log"
   ]
  },
  {
   "cell_type": "code",
   "execution_count": 109,
   "id": "413b3318-4904-41e1-bf01-45c3fe388ca9",
   "metadata": {
    "tags": []
   },
   "outputs": [
    {
     "data": {
      "text/plain": [
       "0.7368421052631579"
      ]
     },
     "execution_count": 109,
     "metadata": {},
     "output_type": "execute_result"
    }
   ],
   "source": [
    "#recall\n",
    "recall_val_log = 14/(14+5)\n",
    "recall_val_log"
   ]
  },
  {
   "cell_type": "code",
   "execution_count": 110,
   "id": "dc527188-05b2-4612-b281-b879388f47a1",
   "metadata": {
    "tags": []
   },
   "outputs": [
    {
     "data": {
      "text/plain": [
       "0.8235294117647058"
      ]
     },
     "execution_count": 110,
     "metadata": {},
     "output_type": "execute_result"
    }
   ],
   "source": [
    "#precision\n",
    "precision_val_log = 14/(14+3)\n",
    "precision_val_log"
   ]
  },
  {
   "cell_type": "markdown",
   "id": "70d81320-64a0-41fc-94a4-b09a6d5a721b",
   "metadata": {},
   "source": [
    "My logistic regression model is still the best. This matches my results from part 1. The roc auc score is highest for the logistic regression model."
   ]
  },
  {
   "cell_type": "markdown",
   "id": "17ac541c-dcc5-4536-9362-6055e64a7b45",
   "metadata": {},
   "source": [
    "# Part 5: Cohen's Kappa"
   ]
  },
  {
   "cell_type": "code",
   "execution_count": 111,
   "id": "71a81669-a55d-4f3f-bdd1-da9aee1d7321",
   "metadata": {},
   "outputs": [],
   "source": [
    "#cohen's kappa information: https://datatab.net/tutorial/cohens-kappa\n",
    "#cohen's kappa: measuring agreement between categorical binary variables (1 and 0)\n",
    "#this agreement is called \"inter-rater reliability\". measures reliability of two raters measuring the same thing\n",
    "#if irr is high, then the two raters are in agreement\n",
    "#HOWEVER, IT DOES NOT TELL YOU IF YOU ARE CORRECT (aka cannot tell u if ur are precise to the true value)\n",
    "#you don't know the true value"
   ]
  },
  {
   "cell_type": "code",
   "execution_count": 113,
   "id": "682aaeaa-cfbc-401e-9b87-efeb1aaac4a2",
   "metadata": {
    "tags": []
   },
   "outputs": [
    {
     "data": {
      "text/plain": [
       "0.5175903614457831"
      ]
     },
     "execution_count": 113,
     "metadata": {},
     "output_type": "execute_result"
    }
   ],
   "source": [
    "#knn cohen's kappa\n",
    "knn_ck = cohen_kappa_score(y, y_preds_knn50)\n",
    "knn_ck"
   ]
  },
  {
   "cell_type": "code",
   "execution_count": 114,
   "id": "0482c5f5-026a-4a55-99b8-91270b30930b",
   "metadata": {
    "tags": []
   },
   "outputs": [
    {
     "data": {
      "text/plain": [
       "0.5070209956068242"
      ]
     },
     "execution_count": 114,
     "metadata": {},
     "output_type": "execute_result"
    }
   ],
   "source": [
    "#decision tree cohen's kappa\n",
    "dt_ck = cohen_kappa_score(y, y_preds_dt5)\n",
    "dt_ck"
   ]
  },
  {
   "cell_type": "code",
   "execution_count": 115,
   "id": "f8501f4c-c311-456f-b547-f77aac2de8f9",
   "metadata": {
    "tags": []
   },
   "outputs": [
    {
     "data": {
      "text/plain": [
       "0.5860500379075056"
      ]
     },
     "execution_count": 115,
     "metadata": {},
     "output_type": "execute_result"
    }
   ],
   "source": [
    "#logistic regression cohen's kappa\n",
    "log_reg_ck = cohen_kappa_score(y, y_preds_log)\n",
    "log_reg_ck"
   ]
  },
  {
   "cell_type": "markdown",
   "id": "12e2115d-b290-41bf-926a-551ea7538cfd",
   "metadata": {},
   "source": [
    "The rule of thumb for cohen's kappa coefficient is the higher the value, the better the inter-rater reliability; we want this value to be as high as possible to have a model that will predict well with future data. Out of the models, the logistic regression model did the best again. This makes sense because it has the best recall and precision scores as well; it has a higher probability of predicting correctly and being correct with a predicted value. The logistic regression model has less differences between the real data and the predicted data. \n",
    "\n",
    "A possible scenario when this metric would be preferred is when the hospital wants to make sure doctors are on the \"same page\" as they are figuring out if patients are at a high risk of having a heart attack. If two random doctors use the same method to diagnose patients and have similar thinking, then they are more likely to have the same answers when they diagnose the same patient. However, if two doctors come from very different backgrounds and don't diagnose patients similarly, the cohen's kappa score will be low since the doctors would have different answers for the same patient. In a hospital, there are pros and cons to being in agreement. If all doctors are on the \"same page\" and have a similar way of thinking, and they are precise and have high recall, then the doctors are very good at their jobs and are trustworthy. Having a second opinion agree with the original opinion is validating for the doctors, if they have a high precision and recall score. If two doctors disagree, in one way, the patient may either have had a false positive or a false negative of being diagnosed as having a high risk of developing a heart attack, and the patient either gets a scare or becomes very ill or dies. This will look bad not only for the doctors, but for the hospital as well. However, the second opinion could help save a patient's life if the first opinion is incorrect. This will just have to depend if their recall and precision scores are high. "
   ]
  }
 ],
 "metadata": {
  "kernelspec": {
   "display_name": "Python 3 (ipykernel)",
   "language": "python",
   "name": "python3"
  },
  "language_info": {
   "codemirror_mode": {
    "name": "ipython",
    "version": 3
   },
   "file_extension": ".py",
   "mimetype": "text/x-python",
   "name": "python",
   "nbconvert_exporter": "python",
   "pygments_lexer": "ipython3",
   "version": "3.11.4"
  }
 },
 "nbformat": 4,
 "nbformat_minor": 5
}
